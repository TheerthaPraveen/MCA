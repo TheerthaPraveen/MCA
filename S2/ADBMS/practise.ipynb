{
 "cells": [
  {
   "cell_type": "code",
   "execution_count": 1,
   "id": "cde4bb78",
   "metadata": {},
   "outputs": [],
   "source": [
    "import pymongo\n",
    "conn=pymongo.MongoClient(\"mongodb://localhost:27017/\")\n",
    "db=conn['bens']\n",
    "col=db['cars']"
   ]
  },
  {
   "cell_type": "code",
   "execution_count": 2,
   "id": "5dac8321",
   "metadata": {},
   "outputs": [],
   "source": [
    "values = [\n",
    "    {\"Model\": \"A-Class\", \"Year\": 2020, \"Price\": 350000, \"Mileage\": 12, \"Fuel\": \"Petrol\", \"Color\": \"White\", \"Engine\": \"1.5\", \"Transmission\": \"Auto\", \"Status\": \"Availabale\"},\n",
    "    {\"Model\": \"B-Class\", \"Year\": 2019, \"Price\": 370000, \"Mileage\": 13, \"Fuel\": \"Diesel\", \"Color\": \"Black\", \"Engine\": \"1.5\", \"Transmission\": \"Manual\", \"Status\": \"Availabale\"},\n",
    "    {\"Model\": \"C-Class\", \"Year\": 2021, \"Price\": 450000, \"Mileage\": 14, \"Fuel\": \"Petrol\", \"Color\": \"Blue\", \"Engine\": \"2.0\", \"Transmission\": \"Auto\", \"Status\": \"Availabale\"},\n",
    "    {\"Model\": \"E-Class\", \"Year\": 2018, \"Price\": 500000, \"Mileage\": 12, \"Fuel\": \"Hybrid\", \"Color\": \"Silver\", \"Engine\": \"2.0\", \"Transmission\": \"Auto\", \"Status\": \"Availabale\"},\n",
    "    {\"Model\": \"S-Class\", \"Year\": 2022, \"Price\": 700000, \"Mileage\": 10, \"Fuel\": \"Electric\", \"Color\": \"White\", \"Engine\": \"3.0\", \"Transmission\": \"Auto\", \"Status\": \"Availabale\"},\n",
    "    {\"Model\": \"A-Class\", \"Year\": 2017, \"Price\": 330000, \"Mileage\": 11, \"Fuel\": \"Diesel\", \"Color\": \"Red\", \"Engine\": \"1.5\", \"Transmission\": \"Manual\", \"Status\": \"Availabale\"},\n",
    "    {\"Model\": \"B-Class\", \"Year\": 2020, \"Price\": 390000, \"Mileage\": 15, \"Fuel\": \"Petrol\", \"Color\": \"Black\", \"Engine\": \"1.5\", \"Transmission\": \"Auto\", \"Status\": \"Availabale\"},\n",
    "    {\"Model\": \"C-Class\", \"Year\": 2023, \"Price\": 600000, \"Mileage\": 16, \"Fuel\": \"Petrol\", \"Color\": \"Grey\", \"Engine\": \"2.0\", \"Transmission\": \"Auto\", \"Status\": \"Availabale\"},\n",
    "    {\"Model\": \"E-Class\", \"Year\": 2016, \"Price\": 520000, \"Mileage\": 14, \"Fuel\": \"Diesel\", \"Color\": \"White\", \"Engine\": \"2.5\", \"Transmission\": \"Manual\", \"Status\": \"Availabale\"},\n",
    "    {\"Model\": \"S-Class\", \"Year\": 2019, \"Price\": 750000, \"Mileage\": 10, \"Fuel\": \"Hybrid\", \"Color\": \"Blue\", \"Engine\": \"3.0\", \"Transmission\": \"Auto\", \"Status\": \"Availabale\"},\n",
    "    {\"Model\": \"A-Class\", \"Year\": 2021, \"Price\": 355000, \"Mileage\": 13, \"Fuel\": \"Petrol\", \"Color\": \"Silver\", \"Engine\": \"1.5\", \"Transmission\": \"Auto\", \"Status\": \"Availabale\"},\n",
    "    {\"Model\": \"B-Class\", \"Year\": 2018, \"Price\": 340000, \"Mileage\": 12, \"Fuel\": \"Diesel\", \"Color\": \"Red\", \"Engine\": \"1.5\", \"Transmission\": \"Manual\", \"Status\": \"Availabale\"},\n",
    "    {\"Model\": \"C-Class\", \"Year\": 2022, \"Price\": 470000, \"Mileage\": 14, \"Fuel\": \"Petrol\", \"Color\": \"White\", \"Engine\": \"2.0\", \"Transmission\": \"Auto\", \"Status\": \"Availabale\"},\n",
    "    {\"Model\": \"E-Class\", \"Year\": 2017, \"Price\": 510000, \"Mileage\": 13, \"Fuel\": \"Hybrid\", \"Color\": \"Grey\", \"Engine\": \"2.0\", \"Transmission\": \"Auto\", \"Status\": \"Availabale\"},\n",
    "    {\"Model\": \"S-Class\", \"Year\": 2020, \"Price\": 680000, \"Mileage\": 11, \"Fuel\": \"Electric\", \"Color\": \"Black\", \"Engine\": \"3.0\", \"Transmission\": \"Auto\", \"Status\": \"Availabale\"},\n",
    "    {\"Model\": \"A-Class\", \"Year\": 2015, \"Price\": 320000, \"Mileage\": 10, \"Fuel\": \"Diesel\", \"Color\": \"Blue\", \"Engine\": \"1.5\", \"Transmission\": \"Manual\", \"Status\": \"Availabale\"},\n",
    "    {\"Model\": \"B-Class\", \"Year\": 2021, \"Price\": 400000, \"Mileage\": 15, \"Fuel\": \"Petrol\", \"Color\": \"Silver\", \"Engine\": \"1.5\", \"Transmission\": \"Auto\", \"Status\": \"Availabale\"},\n",
    "    {\"Model\": \"C-Class\", \"Year\": 2019, \"Price\": 460000, \"Mileage\": 14, \"Fuel\": \"Petrol\", \"Color\": \"Red\", \"Engine\": \"2.0\", \"Transmission\": \"Auto\", \"Status\": \"Availabale\"},\n",
    "    {\"Model\": \"E-Class\", \"Year\": 2023, \"Price\": 530000, \"Mileage\": 12, \"Fuel\": \"Diesel\", \"Color\": \"Black\", \"Engine\": \"2.5\", \"Transmission\": \"Manual\", \"Status\": \"Availabale\"},\n",
    "    {\"Model\": \"S-Class\", \"Year\": 2021, \"Price\": 720000, \"Mileage\": 11, \"Fuel\": \"Hybrid\", \"Color\": \"White\", \"Engine\": \"3.0\", \"Transmission\": \"Auto\", \"Status\": \"Availabale\"},\n",
    "    {\"Model\": \"A-Class\", \"Year\": 2016, \"Price\": 340000, \"Mileage\": 12, \"Fuel\": \"Petrol\", \"Color\": \"Blue\", \"Engine\": \"1.5\", \"Transmission\": \"Manual\", \"Status\": \"Availabale\"},\n",
    "    {\"Model\": \"B-Class\", \"Year\": 2022, \"Price\": 410000, \"Mileage\": 13, \"Fuel\": \"Diesel\", \"Color\": \"White\", \"Engine\": \"1.5\", \"Transmission\": \"Auto\", \"Status\": \"Availabale\"},\n",
    "    {\"Model\": \"C-Class\", \"Year\": 2018, \"Price\": 455000, \"Mileage\": 14, \"Fuel\": \"Petrol\", \"Color\": \"Grey\", \"Engine\": \"2.0\", \"Transmission\": \"Auto\", \"Status\": \"Availabale\"},\n",
    "    {\"Model\": \"E-Class\", \"Year\": 2019, \"Price\": 515000, \"Mileage\": 13, \"Fuel\": \"Hybrid\", \"Color\": \"Red\", \"Engine\": \"2.0\", \"Transmission\": \"Auto\", \"Status\": \"Availabale\"},\n",
    "    {\"Model\": \"S-Class\", \"Year\": 2023, \"Price\": 740000, \"Mileage\": 10, \"Fuel\": \"Electric\", \"Color\": \"Silver\", \"Engine\": \"3.0\", \"Transmission\": \"Auto\", \"Status\": \"Availabale\"},\n",
    "    {\"Model\": \"A-Class\", \"Year\": 2020, \"Price\": 350000, \"Mileage\": 12, \"Fuel\": \"Petrol\", \"Color\": \"White\", \"Engine\": \"1.5\", \"Transmission\": \"Auto\", \"Status\": \"Availabale\"},\n",
    "    {\"Model\": \"B-Class\", \"Year\": 2017, \"Price\": 360000, \"Mileage\": 11, \"Fuel\": \"Diesel\", \"Color\": \"Black\", \"Engine\": \"1.5\", \"Transmission\": \"Manual\", \"Status\": \"Availabale\"},\n",
    "    {\"Model\": \"C-Class\", \"Year\": 2020, \"Price\": 480000, \"Mileage\": 15, \"Fuel\": \"Petrol\", \"Color\": \"Blue\", \"Engine\": \"2.0\", \"Transmission\": \"Auto\", \"Status\": \"Availabale\"},\n",
    "    {\"Model\": \"E-Class\", \"Year\": 2015, \"Price\": 500000, \"Mileage\": 12, \"Fuel\": \"Diesel\", \"Color\": \"White\", \"Engine\": \"2.0\", \"Transmission\": \"Manual\", \"Status\": \"Availabale\"},\n",
    "    {\"Model\": \"S-Class\", \"Year\": 2022, \"Price\": 760000, \"Mileage\": 11, \"Fuel\": \"Hybrid\", \"Color\": \"Red\", \"Engine\": \"3.0\", \"Transmission\": \"Auto\", \"Status\": \"Availabale\"},\n",
    "    {\"Model\": \"A-Class\", \"Year\": 2021, \"Price\": 345000, \"Mileage\": 13, \"Fuel\": \"Petrol\", \"Color\": \"Grey\", \"Engine\": \"1.5\", \"Transmission\": \"Auto\", \"Status\": \"Availabale\"},\n",
    "    {\"Model\": \"B-Class\", \"Year\": 2016, \"Price\": 375000, \"Mileage\": 14, \"Fuel\": \"Diesel\", \"Color\": \"Blue\", \"Engine\": \"1.5\", \"Transmission\": \"Manual\", \"Status\": \"Availabale\"},\n",
    "    {\"Model\": \"C-Class\", \"Year\": 2021, \"Price\": 490000, \"Mileage\": 15, \"Fuel\": \"Petrol\", \"Color\": \"Black\", \"Engine\": \"2.0\", \"Transmission\": \"Auto\", \"Status\": \"Availabale\"},\n",
    "    {\"Model\": \"E-Class\", \"Year\": 2020, \"Price\": 540000, \"Mileage\": 13, \"Fuel\": \"Hybrid\", \"Color\": \"Silver\", \"Engine\": \"2.5\", \"Transmission\": \"Auto\", \"Status\": \"Availabale\"},\n",
    "    {\"Model\": \"S-Class\", \"Year\": 2020, \"Price\": 710000, \"Mileage\": 10, \"Fuel\": \"Electric\", \"Color\": \"White\", \"Engine\": \"3.0\", \"Transmission\": \"Auto\", \"Status\": \"Availabale\"},\n",
    "    {\"Model\": \"A-Class\", \"Year\": 2019, \"Price\": 335000, \"Mileage\": 12, \"Fuel\": \"Diesel\", \"Color\": \"Red\", \"Engine\": \"1.5\", \"Transmission\": \"Manual\", \"Status\": \"Availabale\"},\n",
    "    {\"Model\": \"B-Class\", \"Year\": 2015, \"Price\": 380000, \"Mileage\": 13, \"Fuel\": \"Petrol\", \"Color\": \"White\", \"Engine\": \"1.5\", \"Transmission\": \"Auto\", \"Status\": \"Availabale\"},\n",
    "    {\"Model\": \"C-Class\", \"Year\": 2017, \"Price\": 460000, \"Mileage\": 12, \"Fuel\": \"Petrol\", \"Color\": \"Silver\", \"Engine\": \"2.0\", \"Transmission\": \"Auto\", \"Status\": \"Availabale\"},\n",
    "    {\"Model\": \"E-Class\", \"Year\": 2022, \"Price\": 530000, \"Mileage\": 14, \"Fuel\": \"Diesel\", \"Color\": \"Grey\", \"Engine\": \"2.0\", \"Transmission\": \"Manual\", \"Status\": \"Availabale\"},\n",
    "    {\"Model\": \"S-Class\", \"Year\": 2018, \"Price\": 730000, \"Mileage\": 11, \"Fuel\": \"Hybrid\", \"Color\": \"Blue\", \"Engine\": \"3.0\", \"Transmission\": \"Auto\", \"Status\": \"Availabale\"},\n",
    "    {\"Model\": \"A-Class\", \"Year\": 2018, \"Price\": 360000, \"Mileage\": 13, \"Fuel\": \"Petrol\", \"Color\": \"Black\", \"Engine\": \"1.5\", \"Transmission\": \"Auto\", \"Status\": \"Availabale\"},\n",
    "    {\"Model\": \"B-Class\", \"Year\": 2019, \"Price\": 390000, \"Mileage\": 14, \"Fuel\": \"Diesel\", \"Color\": \"Silver\", \"Engine\": \"1.5\", \"Transmission\": \"Manual\", \"Status\": \"Availabale\"},\n",
    "    {\"Model\": \"C-Class\", \"Year\": 2023, \"Price\": 500000, \"Mileage\": 15, \"Fuel\": \"Petrol\", \"Color\": \"Red\", \"Engine\": \"2.0\", \"Transmission\": \"Auto\", \"Status\": \"Availabale\"},\n",
    "    {\"Model\": \"E-Class\", \"Year\": 2021, \"Price\": 520000, \"Mileage\": 13, \"Fuel\": \"Hybrid\", \"Color\": \"White\", \"Engine\": \"2.5\", \"Transmission\": \"Auto\", \"Status\": \"Availabale\"},\n",
    "    {\"Model\": \"S-Class\", \"Year\": 2017, \"Price\": 745000, \"Mileage\": 10, \"Fuel\": \"Electric\", \"Color\": \"Grey\", \"Engine\": \"3.0\", \"Transmission\": \"Auto\", \"Status\": \"Availabale\"},\n",
    "    {\"Model\": \"A-Class\", \"Year\": 2022, \"Price\": 365000, \"Mileage\": 12, \"Fuel\": \"Petrol\", \"Color\": \"Blue\", \"Engine\": \"1.5\", \"Transmission\": \"Manual\", \"Status\": \"Availabale\"},\n",
    "    {\"Model\": \"B-Class\", \"Year\": 2023, \"Price\": 405000, \"Mileage\": 13, \"Fuel\": \"Diesel\", \"Color\": \"Black\", \"Engine\": \"1.5\", \"Transmission\": \"Auto\", \"Status\": \"Availabale\"}\n",
    "]"
   ]
  },
  {
   "cell_type": "code",
   "execution_count": null,
   "id": "33884618",
   "metadata": {},
   "outputs": [
    {
     "data": {
      "text/plain": [
       "InsertManyResult([ObjectId('683573240e4bb88d9abc8cba'), ObjectId('683573240e4bb88d9abc8cbb'), ObjectId('683573240e4bb88d9abc8cbc'), ObjectId('683573240e4bb88d9abc8cbd'), ObjectId('683573240e4bb88d9abc8cbe'), ObjectId('683573240e4bb88d9abc8cbf'), ObjectId('683573240e4bb88d9abc8cc0'), ObjectId('683573240e4bb88d9abc8cc1'), ObjectId('683573240e4bb88d9abc8cc2'), ObjectId('683573240e4bb88d9abc8cc3'), ObjectId('683573240e4bb88d9abc8cc4'), ObjectId('683573240e4bb88d9abc8cc5'), ObjectId('683573240e4bb88d9abc8cc6'), ObjectId('683573240e4bb88d9abc8cc7'), ObjectId('683573240e4bb88d9abc8cc8'), ObjectId('683573240e4bb88d9abc8cc9'), ObjectId('683573240e4bb88d9abc8cca'), ObjectId('683573240e4bb88d9abc8ccb'), ObjectId('683573240e4bb88d9abc8ccc'), ObjectId('683573240e4bb88d9abc8ccd'), ObjectId('683573240e4bb88d9abc8cce'), ObjectId('683573240e4bb88d9abc8ccf'), ObjectId('683573240e4bb88d9abc8cd0'), ObjectId('683573240e4bb88d9abc8cd1'), ObjectId('683573240e4bb88d9abc8cd2'), ObjectId('683573240e4bb88d9abc8cd3'), ObjectId('683573240e4bb88d9abc8cd4'), ObjectId('683573240e4bb88d9abc8cd5'), ObjectId('683573240e4bb88d9abc8cd6'), ObjectId('683573240e4bb88d9abc8cd7'), ObjectId('683573240e4bb88d9abc8cd8'), ObjectId('683573240e4bb88d9abc8cd9'), ObjectId('683573240e4bb88d9abc8cda'), ObjectId('683573240e4bb88d9abc8cdb'), ObjectId('683573240e4bb88d9abc8cdc'), ObjectId('683573240e4bb88d9abc8cdd'), ObjectId('683573240e4bb88d9abc8cde'), ObjectId('683573240e4bb88d9abc8cdf'), ObjectId('683573240e4bb88d9abc8ce0'), ObjectId('683573240e4bb88d9abc8ce1'), ObjectId('683573240e4bb88d9abc8ce2'), ObjectId('683573240e4bb88d9abc8ce3'), ObjectId('683573240e4bb88d9abc8ce4'), ObjectId('683573240e4bb88d9abc8ce5'), ObjectId('683573240e4bb88d9abc8ce6'), ObjectId('683573240e4bb88d9abc8ce7'), ObjectId('683573240e4bb88d9abc8ce8')], acknowledged=True)"
      ]
     },
     "execution_count": 3,
     "metadata": {},
     "output_type": "execute_result"
    }
   ],
   "source": [
    "# col.insert_many(values)"
   ]
  },
  {
   "cell_type": "markdown",
   "id": "37e21161",
   "metadata": {},
   "source": [
    "TO FIND MODEL IN YEAR 2016"
   ]
  },
  {
   "cell_type": "code",
   "execution_count": 4,
   "id": "427247a9",
   "metadata": {},
   "outputs": [
    {
     "name": "stdout",
     "output_type": "stream",
     "text": [
      "{'Model': 'E-Class', 'Year': 2016, 'Price': 520000}\n",
      "{'Model': 'A-Class', 'Year': 2016, 'Price': 340000}\n",
      "{'Model': 'B-Class', 'Year': 2016, 'Price': 375000}\n"
     ]
    }
   ],
   "source": [
    "var=col.find({\"Year\":2016},{\"Model\":1,\"Year\":1,\"Price\":1,\"_id\":0})\n",
    "for i in var:\n",
    "    print(i)"
   ]
  },
  {
   "cell_type": "markdown",
   "id": "c0edafd5",
   "metadata": {},
   "source": [
    "TO PRINT THE FUEL HYBRID TYPE\n"
   ]
  },
  {
   "cell_type": "code",
   "execution_count": 5,
   "id": "9214d59e",
   "metadata": {},
   "outputs": [
    {
     "name": "stdout",
     "output_type": "stream",
     "text": [
      "{'Model': 'E-Class', 'Year': 2018, 'Price': 500000, 'Fuel': 'Hybrid'}\n",
      "{'Model': 'S-Class', 'Year': 2019, 'Price': 750000, 'Fuel': 'Hybrid'}\n",
      "{'Model': 'E-Class', 'Year': 2017, 'Price': 510000, 'Fuel': 'Hybrid'}\n",
      "{'Model': 'S-Class', 'Year': 2021, 'Price': 720000, 'Fuel': 'Hybrid'}\n",
      "{'Model': 'E-Class', 'Year': 2019, 'Price': 515000, 'Fuel': 'Hybrid'}\n",
      "{'Model': 'S-Class', 'Year': 2022, 'Price': 760000, 'Fuel': 'Hybrid'}\n",
      "{'Model': 'E-Class', 'Year': 2020, 'Price': 540000, 'Fuel': 'Hybrid'}\n",
      "{'Model': 'S-Class', 'Year': 2018, 'Price': 730000, 'Fuel': 'Hybrid'}\n",
      "{'Model': 'E-Class', 'Year': 2021, 'Price': 520000, 'Fuel': 'Hybrid'}\n"
     ]
    }
   ],
   "source": [
    "var=col.find({\"Fuel\":\"Hybrid\"},{\"Model\":1,\"Year\":1,\"Price\":1,\"Fuel\":\"Hybrid\",\"_id\":0})\n",
    "for i in var:\n",
    "    print(i)"
   ]
  },
  {
   "cell_type": "markdown",
   "id": "034b6f24",
   "metadata": {},
   "source": [
    "YEAR SHOULD BE 2020 AND FUEL TYPE SHOULD BE PETROL"
   ]
  },
  {
   "cell_type": "code",
   "execution_count": 7,
   "id": "fdf65ecc",
   "metadata": {},
   "outputs": [
    {
     "name": "stdout",
     "output_type": "stream",
     "text": [
      "{'Model': 'A-Class', 'Year': 2020, 'Price': 350000, 'Fuel': 'Petrol'}\n",
      "{'Model': 'B-Class', 'Year': 2020, 'Price': 390000, 'Fuel': 'Petrol'}\n",
      "{'Model': 'A-Class', 'Year': 2020, 'Price': 350000, 'Fuel': 'Petrol'}\n",
      "{'Model': 'C-Class', 'Year': 2020, 'Price': 480000, 'Fuel': 'Petrol'}\n"
     ]
    }
   ],
   "source": [
    "var=col.find({\"$and\":[{\"Year\":2020},{\"Fuel\":\"Petrol\"}]},{\"Model\":1,\"Year\":1,\"Price\":1,\"Fuel\":1,\"_id\":0})\n",
    "for i in var:\n",
    "    print(i)"
   ]
  },
  {
   "cell_type": "markdown",
   "id": "a489ff56",
   "metadata": {},
   "source": [
    "COLOUR SHOULD BE SILVER OR THE TRANSMISSION SHOLD BE AUTO"
   ]
  },
  {
   "cell_type": "code",
   "execution_count": 11,
   "id": "5593b01a",
   "metadata": {},
   "outputs": [
    {
     "name": "stdout",
     "output_type": "stream",
     "text": [
      "{'Color': 'White', 'Transmission': 'Auto'}\n",
      "{'Color': 'Blue', 'Transmission': 'Auto'}\n",
      "{'Color': 'Silver', 'Transmission': 'Auto'}\n",
      "{'Color': 'White', 'Transmission': 'Auto'}\n",
      "{'Color': 'Black', 'Transmission': 'Auto'}\n",
      "{'Color': 'Grey', 'Transmission': 'Auto'}\n",
      "{'Color': 'Blue', 'Transmission': 'Auto'}\n",
      "{'Color': 'Silver', 'Transmission': 'Auto'}\n",
      "{'Color': 'White', 'Transmission': 'Auto'}\n",
      "{'Color': 'Grey', 'Transmission': 'Auto'}\n",
      "{'Color': 'Black', 'Transmission': 'Auto'}\n",
      "{'Color': 'Silver', 'Transmission': 'Auto'}\n",
      "{'Color': 'Red', 'Transmission': 'Auto'}\n",
      "{'Color': 'White', 'Transmission': 'Auto'}\n",
      "{'Color': 'White', 'Transmission': 'Auto'}\n",
      "{'Color': 'Grey', 'Transmission': 'Auto'}\n",
      "{'Color': 'Red', 'Transmission': 'Auto'}\n",
      "{'Color': 'Silver', 'Transmission': 'Auto'}\n",
      "{'Color': 'White', 'Transmission': 'Auto'}\n",
      "{'Color': 'Blue', 'Transmission': 'Auto'}\n",
      "{'Color': 'Red', 'Transmission': 'Auto'}\n",
      "{'Color': 'Grey', 'Transmission': 'Auto'}\n",
      "{'Color': 'Black', 'Transmission': 'Auto'}\n",
      "{'Color': 'Silver', 'Transmission': 'Auto'}\n",
      "{'Color': 'White', 'Transmission': 'Auto'}\n",
      "{'Color': 'White', 'Transmission': 'Auto'}\n",
      "{'Color': 'Silver', 'Transmission': 'Auto'}\n",
      "{'Color': 'Blue', 'Transmission': 'Auto'}\n",
      "{'Color': 'Black', 'Transmission': 'Auto'}\n",
      "{'Color': 'Silver', 'Transmission': 'Manual'}\n",
      "{'Color': 'Red', 'Transmission': 'Auto'}\n",
      "{'Color': 'White', 'Transmission': 'Auto'}\n",
      "{'Color': 'Grey', 'Transmission': 'Auto'}\n",
      "{'Color': 'Black', 'Transmission': 'Auto'}\n"
     ]
    }
   ],
   "source": [
    "var=col.find({\"$or\":[{\"Color\":\"Silver\"},{\"Transmission\":\"Auto\"}]},{\"Color\":1,\"Transmission\":1,\"_id\":0})\n",
    "for i in var:\n",
    "    print(i)"
   ]
  },
  {
   "cell_type": "markdown",
   "id": "32b65a2b",
   "metadata": {},
   "source": [
    "UPDATE MILEAGE OF HYBRID VECHILE TO 25"
   ]
  },
  {
   "cell_type": "code",
   "execution_count": 2,
   "id": "1d892e15",
   "metadata": {},
   "outputs": [
    {
     "name": "stdout",
     "output_type": "stream",
     "text": [
      "{'_id': ObjectId('683573240e4bb88d9abc8cba'), 'Model': 'A-Class', 'Year': 2020, 'Price': 350000, 'Mileage': 12, 'Fuel': 'Petrol', 'Color': 'White', 'Engine': '1.5', 'Transmission': 'Auto', 'Status': 'Availabale'}\n",
      "{'_id': ObjectId('683573240e4bb88d9abc8cbb'), 'Model': 'B-Class', 'Year': 2019, 'Price': 370000, 'Mileage': 13, 'Fuel': 'Diesel', 'Color': 'Black', 'Engine': '1.5', 'Transmission': 'Manual', 'Status': 'Availabale'}\n",
      "{'_id': ObjectId('683573240e4bb88d9abc8cbc'), 'Model': 'C-Class', 'Year': 2021, 'Price': 450000, 'Mileage': 14, 'Fuel': 'Petrol', 'Color': 'Blue', 'Engine': '2.0', 'Transmission': 'Auto', 'Status': 'Availabale'}\n",
      "{'_id': ObjectId('683573240e4bb88d9abc8cbd'), 'Model': 'E-Class', 'Year': 2018, 'Price': 500000, 'Mileage': 25, 'Fuel': 'Hybrid', 'Color': 'Silver', 'Engine': '2.0', 'Transmission': 'Auto', 'Status': 'Availabale'}\n",
      "{'_id': ObjectId('683573240e4bb88d9abc8cbe'), 'Model': 'S-Class', 'Year': 2022, 'Price': 700000, 'Mileage': 10, 'Fuel': 'Electric', 'Color': 'White', 'Engine': '3.0', 'Transmission': 'Auto', 'Status': 'Availabale'}\n",
      "{'_id': ObjectId('683573240e4bb88d9abc8cbf'), 'Model': 'A-Class', 'Year': 2017, 'Price': 330000, 'Mileage': 11, 'Fuel': 'Diesel', 'Color': 'Red', 'Engine': '1.5', 'Transmission': 'Manual', 'Status': 'Availabale'}\n",
      "{'_id': ObjectId('683573240e4bb88d9abc8cc0'), 'Model': 'B-Class', 'Year': 2020, 'Price': 390000, 'Mileage': 15, 'Fuel': 'Petrol', 'Color': 'Black', 'Engine': '1.5', 'Transmission': 'Auto', 'Status': 'Availabale'}\n",
      "{'_id': ObjectId('683573240e4bb88d9abc8cc1'), 'Model': 'C-Class', 'Year': 2023, 'Price': 600000, 'Mileage': 16, 'Fuel': 'Petrol', 'Color': 'Grey', 'Engine': '2.0', 'Transmission': 'Auto', 'Status': 'Availabale'}\n",
      "{'_id': ObjectId('683573240e4bb88d9abc8cc2'), 'Model': 'E-Class', 'Year': 2016, 'Price': 520000, 'Mileage': 14, 'Fuel': 'Diesel', 'Color': 'White', 'Engine': '2.5', 'Transmission': 'Manual', 'Status': 'Availabale'}\n",
      "{'_id': ObjectId('683573240e4bb88d9abc8cc3'), 'Model': 'S-Class', 'Year': 2019, 'Price': 750000, 'Mileage': 25, 'Fuel': 'Hybrid', 'Color': 'Blue', 'Engine': '3.0', 'Transmission': 'Auto', 'Status': 'Availabale'}\n",
      "{'_id': ObjectId('683573240e4bb88d9abc8cc4'), 'Model': 'A-Class', 'Year': 2021, 'Price': 355000, 'Mileage': 13, 'Fuel': 'Petrol', 'Color': 'Silver', 'Engine': '1.5', 'Transmission': 'Auto', 'Status': 'Availabale'}\n",
      "{'_id': ObjectId('683573240e4bb88d9abc8cc5'), 'Model': 'B-Class', 'Year': 2018, 'Price': 340000, 'Mileage': 12, 'Fuel': 'Diesel', 'Color': 'Red', 'Engine': '1.5', 'Transmission': 'Manual', 'Status': 'Availabale'}\n",
      "{'_id': ObjectId('683573240e4bb88d9abc8cc6'), 'Model': 'C-Class', 'Year': 2022, 'Price': 470000, 'Mileage': 14, 'Fuel': 'Petrol', 'Color': 'White', 'Engine': '2.0', 'Transmission': 'Auto', 'Status': 'Availabale'}\n",
      "{'_id': ObjectId('683573240e4bb88d9abc8cc7'), 'Model': 'E-Class', 'Year': 2017, 'Price': 510000, 'Mileage': 25, 'Fuel': 'Hybrid', 'Color': 'Grey', 'Engine': '2.0', 'Transmission': 'Auto', 'Status': 'Availabale'}\n",
      "{'_id': ObjectId('683573240e4bb88d9abc8cc8'), 'Model': 'S-Class', 'Year': 2020, 'Price': 680000, 'Mileage': 11, 'Fuel': 'Electric', 'Color': 'Black', 'Engine': '3.0', 'Transmission': 'Auto', 'Status': 'Availabale'}\n",
      "{'_id': ObjectId('683573240e4bb88d9abc8cc9'), 'Model': 'A-Class', 'Year': 2015, 'Price': 320000, 'Mileage': 10, 'Fuel': 'Diesel', 'Color': 'Blue', 'Engine': '1.5', 'Transmission': 'Manual', 'Status': 'Availabale'}\n",
      "{'_id': ObjectId('683573240e4bb88d9abc8cca'), 'Model': 'B-Class', 'Year': 2021, 'Price': 400000, 'Mileage': 15, 'Fuel': 'Petrol', 'Color': 'Silver', 'Engine': '1.5', 'Transmission': 'Auto', 'Status': 'Availabale'}\n",
      "{'_id': ObjectId('683573240e4bb88d9abc8ccb'), 'Model': 'C-Class', 'Year': 2019, 'Price': 460000, 'Mileage': 14, 'Fuel': 'Petrol', 'Color': 'Red', 'Engine': '2.0', 'Transmission': 'Auto', 'Status': 'Availabale'}\n",
      "{'_id': ObjectId('683573240e4bb88d9abc8ccc'), 'Model': 'E-Class', 'Year': 2023, 'Price': 530000, 'Mileage': 12, 'Fuel': 'Diesel', 'Color': 'Black', 'Engine': '2.5', 'Transmission': 'Manual', 'Status': 'Availabale'}\n",
      "{'_id': ObjectId('683573240e4bb88d9abc8ccd'), 'Model': 'S-Class', 'Year': 2021, 'Price': 720000, 'Mileage': 25, 'Fuel': 'Hybrid', 'Color': 'White', 'Engine': '3.0', 'Transmission': 'Auto', 'Status': 'Availabale'}\n",
      "{'_id': ObjectId('683573240e4bb88d9abc8cce'), 'Model': 'A-Class', 'Year': 2016, 'Price': 340000, 'Mileage': 12, 'Fuel': 'Petrol', 'Color': 'Blue', 'Engine': '1.5', 'Transmission': 'Manual', 'Status': 'Availabale'}\n",
      "{'_id': ObjectId('683573240e4bb88d9abc8ccf'), 'Model': 'B-Class', 'Year': 2022, 'Price': 410000, 'Mileage': 13, 'Fuel': 'Diesel', 'Color': 'White', 'Engine': '1.5', 'Transmission': 'Auto', 'Status': 'Availabale'}\n",
      "{'_id': ObjectId('683573240e4bb88d9abc8cd0'), 'Model': 'C-Class', 'Year': 2018, 'Price': 455000, 'Mileage': 14, 'Fuel': 'Petrol', 'Color': 'Grey', 'Engine': '2.0', 'Transmission': 'Auto', 'Status': 'Availabale'}\n",
      "{'_id': ObjectId('683573240e4bb88d9abc8cd1'), 'Model': 'E-Class', 'Year': 2019, 'Price': 515000, 'Mileage': 25, 'Fuel': 'Hybrid', 'Color': 'Red', 'Engine': '2.0', 'Transmission': 'Auto', 'Status': 'Availabale'}\n",
      "{'_id': ObjectId('683573240e4bb88d9abc8cd2'), 'Model': 'S-Class', 'Year': 2023, 'Price': 740000, 'Mileage': 10, 'Fuel': 'Electric', 'Color': 'Silver', 'Engine': '3.0', 'Transmission': 'Auto', 'Status': 'Availabale'}\n",
      "{'_id': ObjectId('683573240e4bb88d9abc8cd3'), 'Model': 'A-Class', 'Year': 2020, 'Price': 350000, 'Mileage': 12, 'Fuel': 'Petrol', 'Color': 'White', 'Engine': '1.5', 'Transmission': 'Auto', 'Status': 'Availabale'}\n",
      "{'_id': ObjectId('683573240e4bb88d9abc8cd4'), 'Model': 'B-Class', 'Year': 2017, 'Price': 360000, 'Mileage': 11, 'Fuel': 'Diesel', 'Color': 'Black', 'Engine': '1.5', 'Transmission': 'Manual', 'Status': 'Availabale'}\n",
      "{'_id': ObjectId('683573240e4bb88d9abc8cd5'), 'Model': 'C-Class', 'Year': 2020, 'Price': 480000, 'Mileage': 15, 'Fuel': 'Petrol', 'Color': 'Blue', 'Engine': '2.0', 'Transmission': 'Auto', 'Status': 'Availabale'}\n",
      "{'_id': ObjectId('683573240e4bb88d9abc8cd6'), 'Model': 'E-Class', 'Year': 2015, 'Price': 500000, 'Mileage': 12, 'Fuel': 'Diesel', 'Color': 'White', 'Engine': '2.0', 'Transmission': 'Manual', 'Status': 'Availabale'}\n",
      "{'_id': ObjectId('683573240e4bb88d9abc8cd7'), 'Model': 'S-Class', 'Year': 2022, 'Price': 760000, 'Mileage': 25, 'Fuel': 'Hybrid', 'Color': 'Red', 'Engine': '3.0', 'Transmission': 'Auto', 'Status': 'Availabale'}\n",
      "{'_id': ObjectId('683573240e4bb88d9abc8cd8'), 'Model': 'A-Class', 'Year': 2021, 'Price': 345000, 'Mileage': 13, 'Fuel': 'Petrol', 'Color': 'Grey', 'Engine': '1.5', 'Transmission': 'Auto', 'Status': 'Availabale'}\n",
      "{'_id': ObjectId('683573240e4bb88d9abc8cd9'), 'Model': 'B-Class', 'Year': 2016, 'Price': 375000, 'Mileage': 14, 'Fuel': 'Diesel', 'Color': 'Blue', 'Engine': '1.5', 'Transmission': 'Manual', 'Status': 'Availabale'}\n",
      "{'_id': ObjectId('683573240e4bb88d9abc8cda'), 'Model': 'C-Class', 'Year': 2021, 'Price': 490000, 'Mileage': 15, 'Fuel': 'Petrol', 'Color': 'Black', 'Engine': '2.0', 'Transmission': 'Auto', 'Status': 'Availabale'}\n",
      "{'_id': ObjectId('683573240e4bb88d9abc8cdb'), 'Model': 'E-Class', 'Year': 2020, 'Price': 540000, 'Mileage': 25, 'Fuel': 'Hybrid', 'Color': 'Silver', 'Engine': '2.5', 'Transmission': 'Auto', 'Status': 'Availabale'}\n",
      "{'_id': ObjectId('683573240e4bb88d9abc8cdc'), 'Model': 'S-Class', 'Year': 2020, 'Price': 710000, 'Mileage': 10, 'Fuel': 'Electric', 'Color': 'White', 'Engine': '3.0', 'Transmission': 'Auto', 'Status': 'Availabale'}\n",
      "{'_id': ObjectId('683573240e4bb88d9abc8cdd'), 'Model': 'A-Class', 'Year': 2019, 'Price': 335000, 'Mileage': 12, 'Fuel': 'Diesel', 'Color': 'Red', 'Engine': '1.5', 'Transmission': 'Manual', 'Status': 'Availabale'}\n",
      "{'_id': ObjectId('683573240e4bb88d9abc8cde'), 'Model': 'B-Class', 'Year': 2015, 'Price': 380000, 'Mileage': 13, 'Fuel': 'Petrol', 'Color': 'White', 'Engine': '1.5', 'Transmission': 'Auto', 'Status': 'Availabale'}\n",
      "{'_id': ObjectId('683573240e4bb88d9abc8cdf'), 'Model': 'C-Class', 'Year': 2017, 'Price': 460000, 'Mileage': 12, 'Fuel': 'Petrol', 'Color': 'Silver', 'Engine': '2.0', 'Transmission': 'Auto', 'Status': 'Availabale'}\n",
      "{'_id': ObjectId('683573240e4bb88d9abc8ce0'), 'Model': 'E-Class', 'Year': 2022, 'Price': 530000, 'Mileage': 14, 'Fuel': 'Diesel', 'Color': 'Grey', 'Engine': '2.0', 'Transmission': 'Manual', 'Status': 'Availabale'}\n",
      "{'_id': ObjectId('683573240e4bb88d9abc8ce1'), 'Model': 'S-Class', 'Year': 2018, 'Price': 730000, 'Mileage': 25, 'Fuel': 'Hybrid', 'Color': 'Blue', 'Engine': '3.0', 'Transmission': 'Auto', 'Status': 'Availabale'}\n",
      "{'_id': ObjectId('683573240e4bb88d9abc8ce2'), 'Model': 'A-Class', 'Year': 2018, 'Price': 360000, 'Mileage': 13, 'Fuel': 'Petrol', 'Color': 'Black', 'Engine': '1.5', 'Transmission': 'Auto', 'Status': 'Availabale'}\n",
      "{'_id': ObjectId('683573240e4bb88d9abc8ce3'), 'Model': 'B-Class', 'Year': 2019, 'Price': 390000, 'Mileage': 14, 'Fuel': 'Diesel', 'Color': 'Silver', 'Engine': '1.5', 'Transmission': 'Manual', 'Status': 'Availabale'}\n",
      "{'_id': ObjectId('683573240e4bb88d9abc8ce4'), 'Model': 'C-Class', 'Year': 2023, 'Price': 500000, 'Mileage': 15, 'Fuel': 'Petrol', 'Color': 'Red', 'Engine': '2.0', 'Transmission': 'Auto', 'Status': 'Availabale'}\n",
      "{'_id': ObjectId('683573240e4bb88d9abc8ce5'), 'Model': 'E-Class', 'Year': 2021, 'Price': 520000, 'Mileage': 25, 'Fuel': 'Hybrid', 'Color': 'White', 'Engine': '2.5', 'Transmission': 'Auto', 'Status': 'Availabale'}\n",
      "{'_id': ObjectId('683573240e4bb88d9abc8ce6'), 'Model': 'S-Class', 'Year': 2017, 'Price': 745000, 'Mileage': 10, 'Fuel': 'Electric', 'Color': 'Grey', 'Engine': '3.0', 'Transmission': 'Auto', 'Status': 'Availabale'}\n",
      "{'_id': ObjectId('683573240e4bb88d9abc8ce7'), 'Model': 'A-Class', 'Year': 2022, 'Price': 365000, 'Mileage': 12, 'Fuel': 'Petrol', 'Color': 'Blue', 'Engine': '1.5', 'Transmission': 'Manual', 'Status': 'Availabale'}\n",
      "{'_id': ObjectId('683573240e4bb88d9abc8ce8'), 'Model': 'B-Class', 'Year': 2023, 'Price': 405000, 'Mileage': 13, 'Fuel': 'Diesel', 'Color': 'Black', 'Engine': '1.5', 'Transmission': 'Auto', 'Status': 'Availabale'}\n",
      "{'_id': ObjectId('6835971d0e4bb88d9abc8ce9'), 'Model': 'A-Class', 'Year': 2020, 'Price': 350000, 'Mileage': 12, 'Fuel': 'Petrol', 'Color': 'White', 'Engine': '1.5', 'Transmission': 'Auto', 'Status': 'Availabale'}\n",
      "{'_id': ObjectId('6835972d0e4bb88d9abc8cea'), 'Model': 'A-Class', 'Year': 2025, 'Price': 3500, 'Mileage': 5, 'Fuel': 'Petrol', 'Color': 'White', 'Engine': '1.5', 'Transmission': 'Auto', 'Status': 'Availabale'}\n"
     ]
    }
   ],
   "source": [
    "col.update_many({\"Fuel\":\"Hybrid\"},{\"$set\":{\"Mileage\":25}})\n",
    "var=col.find()\n",
    "for i in var:\n",
    "    print(i)"
   ]
  },
  {
   "cell_type": "markdown",
   "id": "c1e49ebb",
   "metadata": {},
   "source": [
    "SORT WITH YEAR AND DISPLAY FIRST NEW 10 VEHICLES"
   ]
  },
  {
   "cell_type": "code",
   "execution_count": 15,
   "id": "f76220d9",
   "metadata": {},
   "outputs": [
    {
     "name": "stdout",
     "output_type": "stream",
     "text": [
      "{'Model': 'C-Class', 'Year': 2023, 'Price': 600000, 'Fuel': 'Petrol'}\n",
      "{'Model': 'E-Class', 'Year': 2023, 'Price': 530000, 'Fuel': 'Diesel'}\n",
      "{'Model': 'B-Class', 'Year': 2023, 'Price': 405000, 'Fuel': 'Diesel'}\n",
      "{'Model': 'C-Class', 'Year': 2023, 'Price': 500000, 'Fuel': 'Petrol'}\n",
      "{'Model': 'S-Class', 'Year': 2023, 'Price': 740000, 'Fuel': 'Electric'}\n",
      "{'Model': 'C-Class', 'Year': 2022, 'Price': 470000, 'Fuel': 'Petrol'}\n",
      "{'Model': 'E-Class', 'Year': 2022, 'Price': 530000, 'Fuel': 'Diesel'}\n",
      "{'Model': 'S-Class', 'Year': 2022, 'Price': 760000, 'Fuel': 'Hybrid'}\n",
      "{'Model': 'A-Class', 'Year': 2022, 'Price': 365000, 'Fuel': 'Petrol'}\n",
      "{'Model': 'B-Class', 'Year': 2022, 'Price': 410000, 'Fuel': 'Diesel'}\n"
     ]
    }
   ],
   "source": [
    "var=col.find({},{\"Model\":1,\"Year\":1,\"Price\":1,\"Fuel\":1,\"_id\":0}).sort({\"Year\":-1}).limit(10)\n",
    "for i in var:\n",
    "    print(i)"
   ]
  },
  {
   "cell_type": "markdown",
   "id": "9f13bce4",
   "metadata": {},
   "source": [
    "COUNT THE NO OF VECHICLES WHO HAS MILEAGE GREATER THAN 12"
   ]
  },
  {
   "cell_type": "code",
   "execution_count": 38,
   "id": "feda17f7",
   "metadata": {},
   "outputs": [
    {
     "name": "stdout",
     "output_type": "stream",
     "text": [
      "9\n"
     ]
    }
   ],
   "source": [
    "c=0\n",
    "var=col.find({\"Mileage\":{\"$gt\":20}},{\"Model\":1,\"Mileage\":1,\"Price\":1,\"Fuel\":1,\"_id\":0})\n",
    "for i in var:\n",
    "    c+=1\n",
    "print(c)\n",
    "   \n",
    "    "
   ]
  },
  {
   "cell_type": "markdown",
   "id": "df6af91d",
   "metadata": {},
   "source": [
    "DISPLAY VECHILES WHO HAS MILEGAE GREATER THAN 15"
   ]
  },
  {
   "cell_type": "code",
   "execution_count": 39,
   "id": "09b92241",
   "metadata": {},
   "outputs": [
    {
     "name": "stdout",
     "output_type": "stream",
     "text": [
      "{'Model': 'E-Class', 'Price': 500000, 'Mileage': 25, 'Fuel': 'Hybrid'}\n",
      "{'Model': 'S-Class', 'Price': 750000, 'Mileage': 25, 'Fuel': 'Hybrid'}\n",
      "{'Model': 'E-Class', 'Price': 510000, 'Mileage': 25, 'Fuel': 'Hybrid'}\n",
      "{'Model': 'S-Class', 'Price': 720000, 'Mileage': 25, 'Fuel': 'Hybrid'}\n",
      "{'Model': 'E-Class', 'Price': 515000, 'Mileage': 25, 'Fuel': 'Hybrid'}\n",
      "{'Model': 'S-Class', 'Price': 760000, 'Mileage': 25, 'Fuel': 'Hybrid'}\n",
      "{'Model': 'E-Class', 'Price': 540000, 'Mileage': 25, 'Fuel': 'Hybrid'}\n",
      "{'Model': 'S-Class', 'Price': 730000, 'Mileage': 25, 'Fuel': 'Hybrid'}\n",
      "{'Model': 'E-Class', 'Price': 520000, 'Mileage': 25, 'Fuel': 'Hybrid'}\n"
     ]
    }
   ],
   "source": [
    "\n",
    "var=col.find({\"Mileage\":{\"$gt\":20}},{\"Model\":1,\"Mileage\":1,\"Price\":1,\"Fuel\":1,\"_id\":0})\n",
    "for i in var:\n",
    "    print(i)"
   ]
  },
  {
   "cell_type": "markdown",
   "id": "8c021a07",
   "metadata": {},
   "source": [
    "DISPLAY VECHICLES WHO HAS MILEAGE LESSER THAN 20"
   ]
  },
  {
   "cell_type": "code",
   "execution_count": 42,
   "id": "b8396d7b",
   "metadata": {},
   "outputs": [
    {
     "name": "stdout",
     "output_type": "stream",
     "text": [
      "{'Model': 'A-Class', 'Price': 350000, 'Mileage': 12, 'Fuel': 'Petrol'}\n",
      "{'Model': 'B-Class', 'Price': 370000, 'Mileage': 13, 'Fuel': 'Diesel'}\n",
      "{'Model': 'C-Class', 'Price': 450000, 'Mileage': 14, 'Fuel': 'Petrol'}\n",
      "{'Model': 'S-Class', 'Price': 700000, 'Mileage': 10, 'Fuel': 'Electric'}\n",
      "{'Model': 'A-Class', 'Price': 330000, 'Mileage': 11, 'Fuel': 'Diesel'}\n",
      "{'Model': 'B-Class', 'Price': 390000, 'Mileage': 15, 'Fuel': 'Petrol'}\n",
      "{'Model': 'C-Class', 'Price': 600000, 'Mileage': 16, 'Fuel': 'Petrol'}\n",
      "{'Model': 'E-Class', 'Price': 520000, 'Mileage': 14, 'Fuel': 'Diesel'}\n",
      "{'Model': 'A-Class', 'Price': 355000, 'Mileage': 13, 'Fuel': 'Petrol'}\n",
      "{'Model': 'B-Class', 'Price': 340000, 'Mileage': 12, 'Fuel': 'Diesel'}\n"
     ]
    }
   ],
   "source": [
    "var=col.find({\"Mileage\":{\"$lt\":20}},{\"Model\":1,\"Mileage\":1,\"Price\":1,\"Fuel\":1,\"_id\":0}).limit(10)\n",
    "for i in var:\n",
    "    print(i)"
   ]
  },
  {
   "cell_type": "markdown",
   "id": "b2d4d75c",
   "metadata": {},
   "source": [
    "INSERTING NEW VALUE TO THE EXISTING DATAS"
   ]
  },
  {
   "cell_type": "code",
   "execution_count": 49,
   "id": "2ed62c59",
   "metadata": {},
   "outputs": [],
   "source": [
    "values=[{\"Model\": \"A-Class\", \"Year\": 2025, \"Price\": 3500, \"Mileage\": 12, \"Fuel\": \"Petrol\", \"Color\": \"White\", \"Engine\": \"1.5\", \"Transmission\": \"Auto\", \"Status\": \"Availabale\"}]"
   ]
  },
  {
   "cell_type": "code",
   "execution_count": 50,
   "id": "d21ef1e2",
   "metadata": {},
   "outputs": [
    {
     "data": {
      "text/plain": [
       "InsertOneResult(ObjectId('6835972d0e4bb88d9abc8cea'), acknowledged=True)"
      ]
     },
     "execution_count": 50,
     "metadata": {},
     "output_type": "execute_result"
    }
   ],
   "source": [
    "col.insert_one(values[0])"
   ]
  },
  {
   "cell_type": "markdown",
   "id": "3f534e30",
   "metadata": {},
   "source": [
    "TO UPDATE ANY ONE DATA"
   ]
  },
  {
   "cell_type": "code",
   "execution_count": 52,
   "id": "f9faf076",
   "metadata": {},
   "outputs": [
    {
     "data": {
      "text/plain": [
       "UpdateResult({'n': 1, 'nModified': 1, 'ok': 1.0, 'updatedExisting': True}, acknowledged=True)"
      ]
     },
     "execution_count": 52,
     "metadata": {},
     "output_type": "execute_result"
    }
   ],
   "source": [
    "col.update_one({\"Price\":3500},{\"$set\":{\"Mileage\":5}})"
   ]
  },
  {
   "cell_type": "markdown",
   "id": "5856fd39",
   "metadata": {},
   "source": [
    "COUNT HOW MANY ELECTRIC CAR"
   ]
  },
  {
   "cell_type": "code",
   "execution_count": 55,
   "id": "f40575e1",
   "metadata": {},
   "outputs": [
    {
     "name": "stdout",
     "output_type": "stream",
     "text": [
      "5\n"
     ]
    }
   ],
   "source": [
    "var=col.count_documents({\"Fuel\":\"Electric\"})\n",
    "print(var)"
   ]
  },
  {
   "cell_type": "markdown",
   "id": "c8438ecd",
   "metadata": {},
   "source": [
    "TO COUNT NUMBER OF MODELS THAT IS BOTH A-CLASS AND B-CLASS"
   ]
  },
  {
   "cell_type": "code",
   "execution_count": 58,
   "id": "ad46b0f5",
   "metadata": {},
   "outputs": [
    {
     "name": "stdout",
     "output_type": "stream",
     "text": [
      "22\n"
     ]
    }
   ],
   "source": [
    "var=col.count_documents({\"Model\":{\"$in\":[\"A-Class\",\"B-Class\"]}})\n",
    "print(var)"
   ]
  },
  {
   "cell_type": "markdown",
   "id": "cf448278",
   "metadata": {},
   "source": [
    "TOTAL NO OF CARS IN THE COLLECTION"
   ]
  },
  {
   "cell_type": "code",
   "execution_count": 59,
   "id": "6238b694",
   "metadata": {},
   "outputs": [
    {
     "name": "stdout",
     "output_type": "stream",
     "text": [
      "Total no of cars in the collection are :  49\n"
     ]
    }
   ],
   "source": [
    "var=col.count_documents({})\n",
    "print(\"Total no of cars in the collection are : \" ,var)"
   ]
  },
  {
   "cell_type": "markdown",
   "id": "4b979851",
   "metadata": {},
   "source": [
    "CALCULATE THE SUM OF ALL CARS OF A-CLASS AND S-CLASS"
   ]
  },
  {
   "cell_type": "code",
   "execution_count": 62,
   "id": "ccbbd488",
   "metadata": {},
   "outputs": [
    {
     "name": "stdout",
     "output_type": "stream",
     "text": [
      "Total price of all A-Class cars :  3803500\n",
      "Total price of all S-Class cars :  6535000\n"
     ]
    }
   ],
   "source": [
    "sum1=0\n",
    "var1=col.find({\"Model\":\"A-Class\"},{})\n",
    "for i in var1:\n",
    "    sum1+=i[\"Price\"]\n",
    "print(\"Total price of all A-Class cars : \",sum1)\n",
    "\n",
    "sum2=0\n",
    "var2=col.find({\"Model\":\"S-Class\"},{})\n",
    "for i in var2:\n",
    "    sum2+=i[\"Price\"]\n",
    "print(\"Total price of all S-Class cars : \",sum2)"
   ]
  }
 ],
 "metadata": {
  "kernelspec": {
   "display_name": "Python 3",
   "language": "python",
   "name": "python3"
  },
  "language_info": {
   "codemirror_mode": {
    "name": "ipython",
    "version": 3
   },
   "file_extension": ".py",
   "mimetype": "text/x-python",
   "name": "python",
   "nbconvert_exporter": "python",
   "pygments_lexer": "ipython3",
   "version": "3.13.0"
  }
 },
 "nbformat": 4,
 "nbformat_minor": 5
}
