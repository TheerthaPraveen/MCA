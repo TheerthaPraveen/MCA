{
 "cells": [
  {
   "cell_type": "code",
   "execution_count": 1,
   "id": "63e4084a",
   "metadata": {},
   "outputs": [],
   "source": [
    "import pymongo\n",
    "conn=pymongo.MongoClient(\"mongodb://localhost:27017/\")\n",
    "db=conn['gpt']\n",
    "col=db['students']"
   ]
  },
  {
   "cell_type": "code",
   "execution_count": 4,
   "id": "80abe8f0",
   "metadata": {},
   "outputs": [],
   "source": [
    "values=[\n",
    "  { \"name\": \"Rahul\", \"age\": 20, \"department\": \"CSE\", \"marks\": 85 },\n",
    "  { \"name\": \"Anita\", \"age\": 22, \"department\": \"ECE\", \"marks\": 68 },\n",
    "  { \"name\": \"Ajay\", \"age\": 21, \"department\": \"CSE\", \"marks\": 73 },\n",
    "  { \"name\": \"Sneha\", \"age\": 23, \"department\": \"IT\", \"marks\": 91 },\n",
    "  { \"name\": \"Arjun\", \"age\": 20, \"department\": \"CSE\", \"marks\": 60 },\n",
    "  { \"name\": \"Priya\", \"age\": 22, \"department\": \"IT\", \"marks\": 77 },\n",
    "  { \"name\": \"Aman\", \"age\": 21, \"department\": \"ECE\", \"marks\": 55 },\n",
    "  { \"name\": \"Divya\", \"age\": 23, \"department\": \"CSE\", \"marks\": 80 },\n",
    "  { \"name\": \"Kiran\", \"age\": 20, \"department\": \"EEE\", \"marks\": 45 },\n",
    "  { \"name\": \"Alok\", \"age\": 21, \"department\": \"IT\", \"marks\": 88 }\n",
    "]; "
   ]
  },
  {
   "cell_type": "code",
   "execution_count": 5,
   "id": "f5de6bde",
   "metadata": {},
   "outputs": [
    {
     "data": {
      "text/plain": [
       "InsertManyResult([ObjectId('683f35354ace46bf85784127'), ObjectId('683f35354ace46bf85784128'), ObjectId('683f35354ace46bf85784129'), ObjectId('683f35354ace46bf8578412a'), ObjectId('683f35354ace46bf8578412b'), ObjectId('683f35354ace46bf8578412c'), ObjectId('683f35354ace46bf8578412d'), ObjectId('683f35354ace46bf8578412e'), ObjectId('683f35354ace46bf8578412f'), ObjectId('683f35354ace46bf85784130')], acknowledged=True)"
      ]
     },
     "execution_count": 5,
     "metadata": {},
     "output_type": "execute_result"
    }
   ],
   "source": [
    "col.insert_many(values)"
   ]
  },
  {
   "cell_type": "markdown",
   "id": "04343c61",
   "metadata": {},
   "source": [
    "2.display all the documents from the students collection"
   ]
  },
  {
   "cell_type": "code",
   "execution_count": 7,
   "id": "ee6e5b48",
   "metadata": {},
   "outputs": [
    {
     "name": "stdout",
     "output_type": "stream",
     "text": [
      "{'name': 'Rahul', 'age': 20, 'department': 'CSE', 'marks': 85}\n",
      "{'name': 'Anita', 'age': 22, 'department': 'ECE', 'marks': 68}\n",
      "{'name': 'Ajay', 'age': 21, 'department': 'CSE', 'marks': 73}\n",
      "{'name': 'Sneha', 'age': 23, 'department': 'IT', 'marks': 91}\n",
      "{'name': 'Arjun', 'age': 20, 'department': 'CSE', 'marks': 60}\n",
      "{'name': 'Priya', 'age': 22, 'department': 'IT', 'marks': 77}\n",
      "{'name': 'Aman', 'age': 21, 'department': 'ECE', 'marks': 55}\n",
      "{'name': 'Divya', 'age': 23, 'department': 'CSE', 'marks': 80}\n",
      "{'name': 'Kiran', 'age': 20, 'department': 'EEE', 'marks': 45}\n",
      "{'name': 'Alok', 'age': 21, 'department': 'IT', 'marks': 88}\n"
     ]
    }
   ],
   "source": [
    "var=col.find({},{\"_id\":0})\n",
    "for i in var:\n",
    "    print(i)"
   ]
  },
  {
   "cell_type": "markdown",
   "id": "80e4073f",
   "metadata": {},
   "source": [
    "3.find the students who have mark greater than 70"
   ]
  },
  {
   "cell_type": "code",
   "execution_count": null,
   "id": "e316207e",
   "metadata": {},
   "outputs": [
    {
     "name": "stdout",
     "output_type": "stream",
     "text": [
      "{'name': 'Sneha'}\n"
     ]
    }
   ],
   "source": [
    "var=col.find({\"marks\":{\"$gt\":70}},{\"name\":1,\"_id\":0})\n",
    "for i in var:\n",
    "    print(i)"
   ]
  },
  {
   "cell_type": "markdown",
   "id": "8e533d50",
   "metadata": {},
   "source": [
    "4: update the department of a student whose name is rahul to IT"
   ]
  },
  {
   "cell_type": "code",
   "execution_count": 33,
   "id": "2001654a",
   "metadata": {},
   "outputs": [
    {
     "data": {
      "text/plain": [
       "UpdateResult({'n': 1, 'nModified': 1, 'ok': 1.0, 'updatedExisting': True}, acknowledged=True)"
      ]
     },
     "execution_count": 33,
     "metadata": {},
     "output_type": "execute_result"
    }
   ],
   "source": [
    "col.update_one({\"name\":\"Rahul\"},{\"$set\":{\"department\":\"IT\"}})"
   ]
  },
  {
   "cell_type": "markdown",
   "id": "a41b896c",
   "metadata": {},
   "source": [
    "5:delete a student record whose name is anita"
   ]
  },
  {
   "cell_type": "code",
   "execution_count": 34,
   "id": "f06a9dbb",
   "metadata": {},
   "outputs": [
    {
     "data": {
      "text/plain": [
       "DeleteResult({'n': 1, 'ok': 1.0}, acknowledged=True)"
      ]
     },
     "execution_count": 34,
     "metadata": {},
     "output_type": "execute_result"
    }
   ],
   "source": [
    "col.delete_one({\"name\":\"Anita\"})"
   ]
  },
  {
   "cell_type": "markdown",
   "id": "84a1114f",
   "metadata": {},
   "source": [
    "find all students who belong to the cse department"
   ]
  },
  {
   "cell_type": "code",
   "execution_count": 36,
   "id": "a24a6068",
   "metadata": {},
   "outputs": [
    {
     "name": "stdout",
     "output_type": "stream",
     "text": [
      "{'name': 'Ajay', 'department': 'CSE'}\n",
      "{'name': 'Arjun', 'department': 'CSE'}\n",
      "{'name': 'Divya', 'department': 'CSE'}\n"
     ]
    }
   ],
   "source": [
    "var=col.find({\"department\":\"CSE\"},{\"name\":1,\"_id\":0,\"department\":1})\n",
    "for i in var:\n",
    "    print(i)"
   ]
  },
  {
   "cell_type": "markdown",
   "id": "b787284e",
   "metadata": {},
   "source": [
    "7 find the students with marks between 70 and 80"
   ]
  },
  {
   "cell_type": "code",
   "execution_count": 2,
   "id": "3f9de574",
   "metadata": {},
   "outputs": [
    {
     "name": "stdout",
     "output_type": "stream",
     "text": [
      "{'name': 'Ajay', 'department': 'CSE', 'marks': 73}\n",
      "{'name': 'Arjun', 'department': 'CSE', 'marks': 60}\n",
      "{'name': 'Priya', 'department': 'IT', 'marks': 77}\n",
      "{'name': 'Aman', 'department': 'ECE', 'marks': 55}\n"
     ]
    }
   ],
   "source": [
    "var=col.find({\"marks\":{\"$gt\":50,\"$lt\":80}},{\"_id\":0,\"name\":1,\"department\":1,\"marks\":1})\n",
    "for i in var:\n",
    "    print(i)"
   ]
  },
  {
   "cell_type": "markdown",
   "id": "d3dc1cc7",
   "metadata": {},
   "source": [
    "8: display students whose name starts with A"
   ]
  },
  {
   "cell_type": "code",
   "execution_count": null,
   "id": "2b6372f9",
   "metadata": {},
   "outputs": [
    {
     "name": "stdout",
     "output_type": "stream",
     "text": [
      "{'name': 'Sneha', 'department': 'IT', 'marks': 91}\n",
      "{'name': 'Priya', 'department': 'IT', 'marks': 77}\n",
      "{'name': 'Divya', 'department': 'CSE', 'marks': 80}\n"
     ]
    }
   ],
   "source": [
    "var=col.find({\"name\":{\"$regex\":\"^a\",\"$options\":\"i\"}},{\"_id\":0,\"name\":1,\"department\":1,\"marks\":1})\n",
    "for i in var:\n",
    "    print(i)"
   ]
  },
  {
   "cell_type": "markdown",
   "id": "faf2d129",
   "metadata": {},
   "source": [
    "9. Find students who are either in CSE or IT department."
   ]
  },
  {
   "cell_type": "code",
   "execution_count": 11,
   "id": "bb207151",
   "metadata": {},
   "outputs": [
    {
     "name": "stdout",
     "output_type": "stream",
     "text": [
      "{'name': 'Aman', 'department': 'ECE', 'marks': 55}\n",
      "{'name': 'Kiran', 'department': 'EEE', 'marks': 45}\n"
     ]
    }
   ],
   "source": [
    "var=col.find({\"department\":{\"$nin\":[\"IT\",\"CSE\"]}},{\"_id\":0,\"name\":1,\"department\":1,\"marks\":1})\n",
    "for i in var:\n",
    "    print(i)"
   ]
  },
  {
   "cell_type": "markdown",
   "id": "f216d9d9",
   "metadata": {},
   "source": [
    "10. Display only the name and marks of students (exclude _id)."
   ]
  },
  {
   "cell_type": "code",
   "execution_count": 12,
   "id": "7b831af3",
   "metadata": {},
   "outputs": [
    {
     "name": "stdout",
     "output_type": "stream",
     "text": [
      "{'name': 'Rahul', 'department': 'IT', 'marks': 85}\n",
      "{'name': 'Ajay', 'department': 'CSE', 'marks': 73}\n",
      "{'name': 'Sneha', 'department': 'IT', 'marks': 91}\n",
      "{'name': 'Arjun', 'department': 'CSE', 'marks': 60}\n",
      "{'name': 'Priya', 'department': 'IT', 'marks': 77}\n",
      "{'name': 'Aman', 'department': 'ECE', 'marks': 55}\n",
      "{'name': 'Divya', 'department': 'CSE', 'marks': 80}\n",
      "{'name': 'Kiran', 'department': 'EEE', 'marks': 45}\n",
      "{'name': 'Alok', 'department': 'IT', 'marks': 88}\n"
     ]
    }
   ],
   "source": [
    "var=col.find({},{\"_id\":0,\"name\":1,\"department\":1,\"marks\":1})\n",
    "for i in var:\n",
    "    print(i)"
   ]
  },
  {
   "cell_type": "markdown",
   "id": "a0074b5a",
   "metadata": {},
   "source": [
    "11. Group students by department and find the average marks."
   ]
  },
  {
   "cell_type": "code",
   "execution_count": 3,
   "id": "ba6d4ee9",
   "metadata": {},
   "outputs": [
    {
     "name": "stdout",
     "output_type": "stream",
     "text": [
      "{'_id': 'EEE', 'Average_Marks': 45.0}\n",
      "{'_id': 'ECE', 'Average_Marks': 55.0}\n",
      "{'_id': 'CSE', 'Average_Marks': 71.0}\n",
      "{'_id': 'IT', 'Average_Marks': 85.25}\n"
     ]
    }
   ],
   "source": [
    "var=col.aggregate([{\"$group\":{\"_id\":\"$department\",\"Average_Marks\":{\"$avg\":\"$marks\"}}},{\"$sort\":{\"Average_Marks\":1}}])\n",
    "for i in var:\n",
    "    print(i)"
   ]
  },
  {
   "cell_type": "markdown",
   "id": "6e4ffef2",
   "metadata": {},
   "source": [
    "12. Find the total number of students in each department."
   ]
  },
  {
   "cell_type": "code",
   "execution_count": 17,
   "id": "76029e77",
   "metadata": {},
   "outputs": [
    {
     "name": "stdout",
     "output_type": "stream",
     "text": [
      "{'_id': 'CSE', 'Count': 3}\n",
      "{'_id': 'ECE', 'Count': 1}\n",
      "{'_id': 'EEE', 'Count': 1}\n",
      "{'_id': 'IT', 'Count': 4}\n"
     ]
    }
   ],
   "source": [
    "var=col.aggregate([{\"$group\":{\"_id\":\"$department\",\"Count\":{\"$sum\":1}}}])\n",
    "for i in var:\n",
    "    print(i)"
   ]
  },
  {
   "cell_type": "markdown",
   "id": "1ca79903",
   "metadata": {},
   "source": [
    "13. Find the student with the highest marks."
   ]
  },
  {
   "cell_type": "code",
   "execution_count": 26,
   "id": "23d85935",
   "metadata": {},
   "outputs": [
    {
     "name": "stdout",
     "output_type": "stream",
     "text": [
      "{'_id': 'marks', 'Highest_mark': 'Sneha'}\n"
     ]
    }
   ],
   "source": [
    "var=col.aggregate([{\"$group\":{\"_id\":\"marks\",\"Highest_mark\":{\"$max\":\"$name\"}}}])\n",
    "for i in var:\n",
    "    print(i)"
   ]
  },
  {
   "cell_type": "code",
   "execution_count": 24,
   "id": "c005974e",
   "metadata": {},
   "outputs": [
    {
     "name": "stdout",
     "output_type": "stream",
     "text": [
      "{'name': 'Sneha', 'marks': 91}\n"
     ]
    }
   ],
   "source": [
    "var=col.find({},{\"_id\":0,\"name\":1,\"marks\":1}).sort({\"marks\":-1}).limit(1)\n",
    "for i in var:\n",
    "    print(i)"
   ]
  },
  {
   "cell_type": "markdown",
   "id": "941953fb",
   "metadata": {},
   "source": [
    "14. Find the top 3 students based on marks."
   ]
  },
  {
   "cell_type": "code",
   "execution_count": 41,
   "id": "7c9195b4",
   "metadata": {},
   "outputs": [
    {
     "name": "stdout",
     "output_type": "stream",
     "text": [
      "{'_id': 91, 'Name_of_studnet': 'Sneha'}\n",
      "{'_id': 85, 'Name_of_studnet': 'Rahul'}\n",
      "{'_id': 73, 'Name_of_studnet': 'Ajay'}\n"
     ]
    }
   ],
   "source": [
    "var=col.aggregate([{\"$group\":{\"_id\":\"$marks\",\"Name_of_studnet\":{\"$max\":\"$name\"}}},{\"$sort\":{\"marks\":1}},{\"$limit\":3}])\n",
    "for i in var:\n",
    "    print(i)"
   ]
  },
  {
   "cell_type": "code",
   "execution_count": 43,
   "id": "4f038376",
   "metadata": {},
   "outputs": [
    {
     "name": "stdout",
     "output_type": "stream",
     "text": [
      "{'name': 'Sneha', 'marks': 91}\n",
      "{'name': 'Alok', 'marks': 88}\n",
      "{'name': 'Rahul', 'marks': 85}\n"
     ]
    }
   ],
   "source": [
    "var=col.find({},{\"name\":1,\"marks\":1,\"_id\":0}).sort({\"marks\":-1}).limit(3)\n",
    "for i in var:\n",
    "    print(i)"
   ]
  },
  {
   "cell_type": "markdown",
   "id": "94c98950",
   "metadata": {},
   "source": [
    "Count how many students scored above 75."
   ]
  },
  {
   "cell_type": "code",
   "execution_count": 44,
   "id": "cb00d1ff",
   "metadata": {},
   "outputs": [
    {
     "name": "stdout",
     "output_type": "stream",
     "text": [
      "5\n"
     ]
    }
   ],
   "source": [
    "var=col.count_documents({\"marks\":{\"$gt\":75}})\n",
    "print(var)"
   ]
  },
  {
   "cell_type": "code",
   "execution_count": 46,
   "id": "bf341503",
   "metadata": {},
   "outputs": [
    {
     "ename": "OperationFailure",
     "evalue": "index not found with name [Alok], full error: {'ok': 0.0, 'errmsg': 'index not found with name [Alok]', 'code': 27, 'codeName': 'IndexNotFound'}",
     "output_type": "error",
     "traceback": [
      "\u001b[31m---------------------------------------------------------------------------\u001b[39m",
      "\u001b[31mOperationFailure\u001b[39m                          Traceback (most recent call last)",
      "\u001b[36mCell\u001b[39m\u001b[36m \u001b[39m\u001b[32mIn[46]\u001b[39m\u001b[32m, line 1\u001b[39m\n\u001b[32m----> \u001b[39m\u001b[32m1\u001b[39m \u001b[43mcol\u001b[49m\u001b[43m.\u001b[49m\u001b[43mdrop_index\u001b[49m\u001b[43m(\u001b[49m\u001b[33;43m\"\u001b[39;49m\u001b[33;43mAlok\u001b[39;49m\u001b[33;43m\"\u001b[39;49m\u001b[43m)\u001b[49m\n",
      "\u001b[36mFile \u001b[39m\u001b[32mc:\\Users\\ACER\\AppData\\Local\\Programs\\Python\\Python313\\Lib\\site-packages\\pymongo\\_csot.py:119\u001b[39m, in \u001b[36mapply.<locals>.csot_wrapper\u001b[39m\u001b[34m(self, *args, **kwargs)\u001b[39m\n\u001b[32m    117\u001b[39m         \u001b[38;5;28;01mwith\u001b[39;00m _TimeoutContext(timeout):\n\u001b[32m    118\u001b[39m             \u001b[38;5;28;01mreturn\u001b[39;00m func(\u001b[38;5;28mself\u001b[39m, *args, **kwargs)\n\u001b[32m--> \u001b[39m\u001b[32m119\u001b[39m \u001b[38;5;28;01mreturn\u001b[39;00m \u001b[43mfunc\u001b[49m\u001b[43m(\u001b[49m\u001b[38;5;28;43mself\u001b[39;49m\u001b[43m,\u001b[49m\u001b[43m \u001b[49m\u001b[43m*\u001b[49m\u001b[43margs\u001b[49m\u001b[43m,\u001b[49m\u001b[43m \u001b[49m\u001b[43m*\u001b[49m\u001b[43m*\u001b[49m\u001b[43mkwargs\u001b[49m\u001b[43m)\u001b[49m\n",
      "\u001b[36mFile \u001b[39m\u001b[32mc:\\Users\\ACER\\AppData\\Local\\Programs\\Python\\Python313\\Lib\\site-packages\\pymongo\\synchronous\\collection.py:2460\u001b[39m, in \u001b[36mCollection.drop_index\u001b[39m\u001b[34m(self, index_or_name, session, comment, **kwargs)\u001b[39m\n\u001b[32m   2413\u001b[39m \u001b[38;5;129m@_csot\u001b[39m.apply\n\u001b[32m   2414\u001b[39m \u001b[38;5;28;01mdef\u001b[39;00m\u001b[38;5;250m \u001b[39m\u001b[34mdrop_index\u001b[39m(\n\u001b[32m   2415\u001b[39m     \u001b[38;5;28mself\u001b[39m,\n\u001b[32m   (...)\u001b[39m\u001b[32m   2419\u001b[39m     **kwargs: Any,\n\u001b[32m   2420\u001b[39m ) -> \u001b[38;5;28;01mNone\u001b[39;00m:\n\u001b[32m   2421\u001b[39m \u001b[38;5;250m    \u001b[39m\u001b[33;03m\"\"\"Drops the specified index on this collection.\u001b[39;00m\n\u001b[32m   2422\u001b[39m \n\u001b[32m   2423\u001b[39m \u001b[33;03m    Can be used on non-existent collections or collections with no\u001b[39;00m\n\u001b[32m   (...)\u001b[39m\u001b[32m   2458\u001b[39m \n\u001b[32m   2459\u001b[39m \u001b[33;03m    \"\"\"\u001b[39;00m\n\u001b[32m-> \u001b[39m\u001b[32m2460\u001b[39m     \u001b[38;5;28;43mself\u001b[39;49m\u001b[43m.\u001b[49m\u001b[43m_drop_index\u001b[49m\u001b[43m(\u001b[49m\u001b[43mindex_or_name\u001b[49m\u001b[43m,\u001b[49m\u001b[43m \u001b[49m\u001b[43msession\u001b[49m\u001b[43m,\u001b[49m\u001b[43m \u001b[49m\u001b[43mcomment\u001b[49m\u001b[43m,\u001b[49m\u001b[43m \u001b[49m\u001b[43m*\u001b[49m\u001b[43m*\u001b[49m\u001b[43mkwargs\u001b[49m\u001b[43m)\u001b[49m\n",
      "\u001b[36mFile \u001b[39m\u001b[32mc:\\Users\\ACER\\AppData\\Local\\Programs\\Python\\Python313\\Lib\\site-packages\\pymongo\\_csot.py:119\u001b[39m, in \u001b[36mapply.<locals>.csot_wrapper\u001b[39m\u001b[34m(self, *args, **kwargs)\u001b[39m\n\u001b[32m    117\u001b[39m         \u001b[38;5;28;01mwith\u001b[39;00m _TimeoutContext(timeout):\n\u001b[32m    118\u001b[39m             \u001b[38;5;28;01mreturn\u001b[39;00m func(\u001b[38;5;28mself\u001b[39m, *args, **kwargs)\n\u001b[32m--> \u001b[39m\u001b[32m119\u001b[39m \u001b[38;5;28;01mreturn\u001b[39;00m \u001b[43mfunc\u001b[49m\u001b[43m(\u001b[49m\u001b[38;5;28;43mself\u001b[39;49m\u001b[43m,\u001b[49m\u001b[43m \u001b[49m\u001b[43m*\u001b[49m\u001b[43margs\u001b[49m\u001b[43m,\u001b[49m\u001b[43m \u001b[49m\u001b[43m*\u001b[49m\u001b[43m*\u001b[49m\u001b[43mkwargs\u001b[49m\u001b[43m)\u001b[49m\n",
      "\u001b[36mFile \u001b[39m\u001b[32mc:\\Users\\ACER\\AppData\\Local\\Programs\\Python\\Python313\\Lib\\site-packages\\pymongo\\synchronous\\collection.py:2482\u001b[39m, in \u001b[36mCollection._drop_index\u001b[39m\u001b[34m(self, index_or_name, session, comment, **kwargs)\u001b[39m\n\u001b[32m   2480\u001b[39m     cmd[\u001b[33m\"\u001b[39m\u001b[33mcomment\u001b[39m\u001b[33m\"\u001b[39m] = comment\n\u001b[32m   2481\u001b[39m \u001b[38;5;28;01mwith\u001b[39;00m \u001b[38;5;28mself\u001b[39m._conn_for_writes(session, operation=_Op.DROP_INDEXES) \u001b[38;5;28;01mas\u001b[39;00m conn:\n\u001b[32m-> \u001b[39m\u001b[32m2482\u001b[39m     \u001b[38;5;28;43mself\u001b[39;49m\u001b[43m.\u001b[49m\u001b[43m_command\u001b[49m\u001b[43m(\u001b[49m\n\u001b[32m   2483\u001b[39m \u001b[43m        \u001b[49m\u001b[43mconn\u001b[49m\u001b[43m,\u001b[49m\n\u001b[32m   2484\u001b[39m \u001b[43m        \u001b[49m\u001b[43mcmd\u001b[49m\u001b[43m,\u001b[49m\n\u001b[32m   2485\u001b[39m \u001b[43m        \u001b[49m\u001b[43mread_preference\u001b[49m\u001b[43m=\u001b[49m\u001b[43mReadPreference\u001b[49m\u001b[43m.\u001b[49m\u001b[43mPRIMARY\u001b[49m\u001b[43m,\u001b[49m\n\u001b[32m   2486\u001b[39m \u001b[43m        \u001b[49m\u001b[43mallowable_errors\u001b[49m\u001b[43m=\u001b[49m\u001b[43m[\u001b[49m\u001b[33;43m\"\u001b[39;49m\u001b[33;43mns not found\u001b[39;49m\u001b[33;43m\"\u001b[39;49m\u001b[43m,\u001b[49m\u001b[43m \u001b[49m\u001b[32;43m26\u001b[39;49m\u001b[43m]\u001b[49m\u001b[43m,\u001b[49m\n\u001b[32m   2487\u001b[39m \u001b[43m        \u001b[49m\u001b[43mwrite_concern\u001b[49m\u001b[43m=\u001b[49m\u001b[38;5;28;43mself\u001b[39;49m\u001b[43m.\u001b[49m\u001b[43m_write_concern_for\u001b[49m\u001b[43m(\u001b[49m\u001b[43msession\u001b[49m\u001b[43m)\u001b[49m\u001b[43m,\u001b[49m\n\u001b[32m   2488\u001b[39m \u001b[43m        \u001b[49m\u001b[43msession\u001b[49m\u001b[43m=\u001b[49m\u001b[43msession\u001b[49m\u001b[43m,\u001b[49m\n\u001b[32m   2489\u001b[39m \u001b[43m    \u001b[49m\u001b[43m)\u001b[49m\n",
      "\u001b[36mFile \u001b[39m\u001b[32mc:\\Users\\ACER\\AppData\\Local\\Programs\\Python\\Python313\\Lib\\site-packages\\pymongo\\synchronous\\collection.py:621\u001b[39m, in \u001b[36mCollection._command\u001b[39m\u001b[34m(self, conn, command, read_preference, codec_options, check, allowable_errors, read_concern, write_concern, collation, session, retryable_write, user_fields)\u001b[39m\n\u001b[32m    595\u001b[39m \u001b[38;5;250m\u001b[39m\u001b[33;03m\"\"\"Internal command helper.\u001b[39;00m\n\u001b[32m    596\u001b[39m \n\u001b[32m    597\u001b[39m \u001b[33;03m:param conn` - A Connection instance.\u001b[39;00m\n\u001b[32m   (...)\u001b[39m\u001b[32m    618\u001b[39m \u001b[33;03m:return: The result document.\u001b[39;00m\n\u001b[32m    619\u001b[39m \u001b[33;03m\"\"\"\u001b[39;00m\n\u001b[32m    620\u001b[39m \u001b[38;5;28;01mwith\u001b[39;00m \u001b[38;5;28mself\u001b[39m._database.client._tmp_session(session) \u001b[38;5;28;01mas\u001b[39;00m s:\n\u001b[32m--> \u001b[39m\u001b[32m621\u001b[39m     \u001b[38;5;28;01mreturn\u001b[39;00m \u001b[43mconn\u001b[49m\u001b[43m.\u001b[49m\u001b[43mcommand\u001b[49m\u001b[43m(\u001b[49m\n\u001b[32m    622\u001b[39m \u001b[43m        \u001b[49m\u001b[38;5;28;43mself\u001b[39;49m\u001b[43m.\u001b[49m\u001b[43m_database\u001b[49m\u001b[43m.\u001b[49m\u001b[43mname\u001b[49m\u001b[43m,\u001b[49m\n\u001b[32m    623\u001b[39m \u001b[43m        \u001b[49m\u001b[43mcommand\u001b[49m\u001b[43m,\u001b[49m\n\u001b[32m    624\u001b[39m \u001b[43m        \u001b[49m\u001b[43mread_preference\u001b[49m\u001b[43m \u001b[49m\u001b[38;5;129;43;01mor\u001b[39;49;00m\u001b[43m \u001b[49m\u001b[38;5;28;43mself\u001b[39;49m\u001b[43m.\u001b[49m\u001b[43m_read_preference_for\u001b[49m\u001b[43m(\u001b[49m\u001b[43msession\u001b[49m\u001b[43m)\u001b[49m\u001b[43m,\u001b[49m\n\u001b[32m    625\u001b[39m \u001b[43m        \u001b[49m\u001b[43mcodec_options\u001b[49m\u001b[43m \u001b[49m\u001b[38;5;129;43;01mor\u001b[39;49;00m\u001b[43m \u001b[49m\u001b[38;5;28;43mself\u001b[39;49m\u001b[43m.\u001b[49m\u001b[43mcodec_options\u001b[49m\u001b[43m,\u001b[49m\n\u001b[32m    626\u001b[39m \u001b[43m        \u001b[49m\u001b[43mcheck\u001b[49m\u001b[43m,\u001b[49m\n\u001b[32m    627\u001b[39m \u001b[43m        \u001b[49m\u001b[43mallowable_errors\u001b[49m\u001b[43m,\u001b[49m\n\u001b[32m    628\u001b[39m \u001b[43m        \u001b[49m\u001b[43mread_concern\u001b[49m\u001b[43m=\u001b[49m\u001b[43mread_concern\u001b[49m\u001b[43m,\u001b[49m\n\u001b[32m    629\u001b[39m \u001b[43m        \u001b[49m\u001b[43mwrite_concern\u001b[49m\u001b[43m=\u001b[49m\u001b[43mwrite_concern\u001b[49m\u001b[43m,\u001b[49m\n\u001b[32m    630\u001b[39m \u001b[43m        \u001b[49m\u001b[43mparse_write_concern_error\u001b[49m\u001b[43m=\u001b[49m\u001b[38;5;28;43;01mTrue\u001b[39;49;00m\u001b[43m,\u001b[49m\n\u001b[32m    631\u001b[39m \u001b[43m        \u001b[49m\u001b[43mcollation\u001b[49m\u001b[43m=\u001b[49m\u001b[43mcollation\u001b[49m\u001b[43m,\u001b[49m\n\u001b[32m    632\u001b[39m \u001b[43m        \u001b[49m\u001b[43msession\u001b[49m\u001b[43m=\u001b[49m\u001b[43ms\u001b[49m\u001b[43m,\u001b[49m\n\u001b[32m    633\u001b[39m \u001b[43m        \u001b[49m\u001b[43mclient\u001b[49m\u001b[43m=\u001b[49m\u001b[38;5;28;43mself\u001b[39;49m\u001b[43m.\u001b[49m\u001b[43m_database\u001b[49m\u001b[43m.\u001b[49m\u001b[43mclient\u001b[49m\u001b[43m,\u001b[49m\n\u001b[32m    634\u001b[39m \u001b[43m        \u001b[49m\u001b[43mretryable_write\u001b[49m\u001b[43m=\u001b[49m\u001b[43mretryable_write\u001b[49m\u001b[43m,\u001b[49m\n\u001b[32m    635\u001b[39m \u001b[43m        \u001b[49m\u001b[43muser_fields\u001b[49m\u001b[43m=\u001b[49m\u001b[43muser_fields\u001b[49m\u001b[43m,\u001b[49m\n\u001b[32m    636\u001b[39m \u001b[43m    \u001b[49m\u001b[43m)\u001b[49m\n",
      "\u001b[36mFile \u001b[39m\u001b[32mc:\\Users\\ACER\\AppData\\Local\\Programs\\Python\\Python313\\Lib\\site-packages\\pymongo\\synchronous\\helpers.py:47\u001b[39m, in \u001b[36m_handle_reauth.<locals>.inner\u001b[39m\u001b[34m(*args, **kwargs)\u001b[39m\n\u001b[32m     44\u001b[39m \u001b[38;5;28;01mfrom\u001b[39;00m\u001b[38;5;250m \u001b[39m\u001b[34;01mpymongo\u001b[39;00m\u001b[34;01m.\u001b[39;00m\u001b[34;01msynchronous\u001b[39;00m\u001b[34;01m.\u001b[39;00m\u001b[34;01mpool\u001b[39;00m\u001b[38;5;250m \u001b[39m\u001b[38;5;28;01mimport\u001b[39;00m Connection\n\u001b[32m     46\u001b[39m \u001b[38;5;28;01mtry\u001b[39;00m:\n\u001b[32m---> \u001b[39m\u001b[32m47\u001b[39m     \u001b[38;5;28;01mreturn\u001b[39;00m \u001b[43mfunc\u001b[49m\u001b[43m(\u001b[49m\u001b[43m*\u001b[49m\u001b[43margs\u001b[49m\u001b[43m,\u001b[49m\u001b[43m \u001b[49m\u001b[43m*\u001b[49m\u001b[43m*\u001b[49m\u001b[43mkwargs\u001b[49m\u001b[43m)\u001b[49m\n\u001b[32m     48\u001b[39m \u001b[38;5;28;01mexcept\u001b[39;00m OperationFailure \u001b[38;5;28;01mas\u001b[39;00m exc:\n\u001b[32m     49\u001b[39m     \u001b[38;5;28;01mif\u001b[39;00m no_reauth:\n",
      "\u001b[36mFile \u001b[39m\u001b[32mc:\\Users\\ACER\\AppData\\Local\\Programs\\Python\\Python313\\Lib\\site-packages\\pymongo\\synchronous\\pool.py:414\u001b[39m, in \u001b[36mConnection.command\u001b[39m\u001b[34m(self, dbname, spec, read_preference, codec_options, check, allowable_errors, read_concern, write_concern, parse_write_concern_error, collation, session, client, retryable_write, publish_events, user_fields, exhaust_allowed)\u001b[39m\n\u001b[32m    412\u001b[39m     \u001b[38;5;28mself\u001b[39m._raise_if_not_writable(unacknowledged)\n\u001b[32m    413\u001b[39m \u001b[38;5;28;01mtry\u001b[39;00m:\n\u001b[32m--> \u001b[39m\u001b[32m414\u001b[39m     \u001b[38;5;28;01mreturn\u001b[39;00m \u001b[43mcommand\u001b[49m\u001b[43m(\u001b[49m\n\u001b[32m    415\u001b[39m \u001b[43m        \u001b[49m\u001b[38;5;28;43mself\u001b[39;49m\u001b[43m,\u001b[49m\n\u001b[32m    416\u001b[39m \u001b[43m        \u001b[49m\u001b[43mdbname\u001b[49m\u001b[43m,\u001b[49m\n\u001b[32m    417\u001b[39m \u001b[43m        \u001b[49m\u001b[43mspec\u001b[49m\u001b[43m,\u001b[49m\n\u001b[32m    418\u001b[39m \u001b[43m        \u001b[49m\u001b[38;5;28;43mself\u001b[39;49m\u001b[43m.\u001b[49m\u001b[43mis_mongos\u001b[49m\u001b[43m,\u001b[49m\n\u001b[32m    419\u001b[39m \u001b[43m        \u001b[49m\u001b[43mread_preference\u001b[49m\u001b[43m,\u001b[49m\n\u001b[32m    420\u001b[39m \u001b[43m        \u001b[49m\u001b[43mcodec_options\u001b[49m\u001b[43m,\u001b[49m\n\u001b[32m    421\u001b[39m \u001b[43m        \u001b[49m\u001b[43msession\u001b[49m\u001b[43m,\u001b[49m\n\u001b[32m    422\u001b[39m \u001b[43m        \u001b[49m\u001b[43mclient\u001b[49m\u001b[43m,\u001b[49m\n\u001b[32m    423\u001b[39m \u001b[43m        \u001b[49m\u001b[43mcheck\u001b[49m\u001b[43m,\u001b[49m\n\u001b[32m    424\u001b[39m \u001b[43m        \u001b[49m\u001b[43mallowable_errors\u001b[49m\u001b[43m,\u001b[49m\n\u001b[32m    425\u001b[39m \u001b[43m        \u001b[49m\u001b[38;5;28;43mself\u001b[39;49m\u001b[43m.\u001b[49m\u001b[43maddress\u001b[49m\u001b[43m,\u001b[49m\n\u001b[32m    426\u001b[39m \u001b[43m        \u001b[49m\u001b[43mlisteners\u001b[49m\u001b[43m,\u001b[49m\n\u001b[32m    427\u001b[39m \u001b[43m        \u001b[49m\u001b[38;5;28;43mself\u001b[39;49m\u001b[43m.\u001b[49m\u001b[43mmax_bson_size\u001b[49m\u001b[43m,\u001b[49m\n\u001b[32m    428\u001b[39m \u001b[43m        \u001b[49m\u001b[43mread_concern\u001b[49m\u001b[43m,\u001b[49m\n\u001b[32m    429\u001b[39m \u001b[43m        \u001b[49m\u001b[43mparse_write_concern_error\u001b[49m\u001b[43m=\u001b[49m\u001b[43mparse_write_concern_error\u001b[49m\u001b[43m,\u001b[49m\n\u001b[32m    430\u001b[39m \u001b[43m        \u001b[49m\u001b[43mcollation\u001b[49m\u001b[43m=\u001b[49m\u001b[43mcollation\u001b[49m\u001b[43m,\u001b[49m\n\u001b[32m    431\u001b[39m \u001b[43m        \u001b[49m\u001b[43mcompression_ctx\u001b[49m\u001b[43m=\u001b[49m\u001b[38;5;28;43mself\u001b[39;49m\u001b[43m.\u001b[49m\u001b[43mcompression_context\u001b[49m\u001b[43m,\u001b[49m\n\u001b[32m    432\u001b[39m \u001b[43m        \u001b[49m\u001b[43muse_op_msg\u001b[49m\u001b[43m=\u001b[49m\u001b[38;5;28;43mself\u001b[39;49m\u001b[43m.\u001b[49m\u001b[43mop_msg_enabled\u001b[49m\u001b[43m,\u001b[49m\n\u001b[32m    433\u001b[39m \u001b[43m        \u001b[49m\u001b[43munacknowledged\u001b[49m\u001b[43m=\u001b[49m\u001b[43munacknowledged\u001b[49m\u001b[43m,\u001b[49m\n\u001b[32m    434\u001b[39m \u001b[43m        \u001b[49m\u001b[43muser_fields\u001b[49m\u001b[43m=\u001b[49m\u001b[43muser_fields\u001b[49m\u001b[43m,\u001b[49m\n\u001b[32m    435\u001b[39m \u001b[43m        \u001b[49m\u001b[43mexhaust_allowed\u001b[49m\u001b[43m=\u001b[49m\u001b[43mexhaust_allowed\u001b[49m\u001b[43m,\u001b[49m\n\u001b[32m    436\u001b[39m \u001b[43m        \u001b[49m\u001b[43mwrite_concern\u001b[49m\u001b[43m=\u001b[49m\u001b[43mwrite_concern\u001b[49m\u001b[43m,\u001b[49m\n\u001b[32m    437\u001b[39m \u001b[43m    \u001b[49m\u001b[43m)\u001b[49m\n\u001b[32m    438\u001b[39m \u001b[38;5;28;01mexcept\u001b[39;00m (OperationFailure, NotPrimaryError):\n\u001b[32m    439\u001b[39m     \u001b[38;5;28;01mraise\u001b[39;00m\n",
      "\u001b[36mFile \u001b[39m\u001b[32mc:\\Users\\ACER\\AppData\\Local\\Programs\\Python\\Python313\\Lib\\site-packages\\pymongo\\synchronous\\network.py:212\u001b[39m, in \u001b[36mcommand\u001b[39m\u001b[34m(conn, dbname, spec, is_mongos, read_preference, codec_options, session, client, check, allowable_errors, address, listeners, max_bson_size, read_concern, parse_write_concern_error, collation, compression_ctx, use_op_msg, unacknowledged, user_fields, exhaust_allowed, write_concern)\u001b[39m\n\u001b[32m    210\u001b[39m             client._process_response(response_doc, session)\n\u001b[32m    211\u001b[39m         \u001b[38;5;28;01mif\u001b[39;00m check:\n\u001b[32m--> \u001b[39m\u001b[32m212\u001b[39m             \u001b[43mhelpers_shared\u001b[49m\u001b[43m.\u001b[49m\u001b[43m_check_command_response\u001b[49m\u001b[43m(\u001b[49m\n\u001b[32m    213\u001b[39m \u001b[43m                \u001b[49m\u001b[43mresponse_doc\u001b[49m\u001b[43m,\u001b[49m\n\u001b[32m    214\u001b[39m \u001b[43m                \u001b[49m\u001b[43mconn\u001b[49m\u001b[43m.\u001b[49m\u001b[43mmax_wire_version\u001b[49m\u001b[43m,\u001b[49m\n\u001b[32m    215\u001b[39m \u001b[43m                \u001b[49m\u001b[43mallowable_errors\u001b[49m\u001b[43m,\u001b[49m\n\u001b[32m    216\u001b[39m \u001b[43m                \u001b[49m\u001b[43mparse_write_concern_error\u001b[49m\u001b[43m=\u001b[49m\u001b[43mparse_write_concern_error\u001b[49m\u001b[43m,\u001b[49m\n\u001b[32m    217\u001b[39m \u001b[43m            \u001b[49m\u001b[43m)\u001b[49m\n\u001b[32m    218\u001b[39m \u001b[38;5;28;01mexcept\u001b[39;00m \u001b[38;5;167;01mException\u001b[39;00m \u001b[38;5;28;01mas\u001b[39;00m exc:\n\u001b[32m    219\u001b[39m     duration = datetime.datetime.now() - start\n",
      "\u001b[36mFile \u001b[39m\u001b[32mc:\\Users\\ACER\\AppData\\Local\\Programs\\Python\\Python313\\Lib\\site-packages\\pymongo\\helpers_shared.py:250\u001b[39m, in \u001b[36m_check_command_response\u001b[39m\u001b[34m(response, max_wire_version, allowable_errors, parse_write_concern_error)\u001b[39m\n\u001b[32m    247\u001b[39m \u001b[38;5;28;01melif\u001b[39;00m code == \u001b[32m43\u001b[39m:\n\u001b[32m    248\u001b[39m     \u001b[38;5;28;01mraise\u001b[39;00m CursorNotFound(errmsg, code, response, max_wire_version)\n\u001b[32m--> \u001b[39m\u001b[32m250\u001b[39m \u001b[38;5;28;01mraise\u001b[39;00m OperationFailure(errmsg, code, response, max_wire_version)\n",
      "\u001b[31mOperationFailure\u001b[39m: index not found with name [Alok], full error: {'ok': 0.0, 'errmsg': 'index not found with name [Alok]', 'code': 27, 'codeName': 'IndexNotFound'}"
     ]
    }
   ],
   "source": [
    "col.drop_index(\"Alok\")"
   ]
  }
 ],
 "metadata": {
  "kernelspec": {
   "display_name": "Python 3",
   "language": "python",
   "name": "python3"
  },
  "language_info": {
   "codemirror_mode": {
    "name": "ipython",
    "version": 3
   },
   "file_extension": ".py",
   "mimetype": "text/x-python",
   "name": "python",
   "nbconvert_exporter": "python",
   "pygments_lexer": "ipython3",
   "version": "3.13.0"
  }
 },
 "nbformat": 4,
 "nbformat_minor": 5
}
