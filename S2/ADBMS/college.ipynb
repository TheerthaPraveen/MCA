{
 "cells": [
  {
   "cell_type": "code",
   "execution_count": 1,
   "id": "74242f92",
   "metadata": {},
   "outputs": [],
   "source": [
    "import pymongo\n",
    "conn=pymongo.MongoClient(\"mongodb://localhost:27017/\")\n",
    "db=conn['college']\n",
    "col=db['studentlist']\n"
   ]
  },
  {
   "cell_type": "code",
   "execution_count": 19,
   "id": "b692d4e9",
   "metadata": {},
   "outputs": [],
   "source": [
    "\n",
    "values = [\n",
    "    {\"Fname\": \"john\", \"Lname\": \"Williom\", \"Mark\": 23, \"Grade\": \"A\", \"Contact\": 2548751365, \"Gender\": \"Male\", \"Dept\": \"MCA\", \"District\": \"Trivandrum\", \"Course\": \"Computer Application\"},\n",
    "    {\"Fname\": \"Alice\", \"Lname\": \"Thomas\", \"Mark\": 81, \"Grade\": \"A\", \"Contact\": 9876543210, \"Gender\": \"Female\", \"Dept\": \"MBA\", \"District\": \"Kollam\", \"Course\": \"Business Administration\"},\n",
    "    {\"Fname\": \"Bob\", \"Lname\": \"Mathew\", \"Mark\": 67, \"Grade\": \"B\", \"Contact\": 9123456789, \"Gender\": \"Male\", \"Dept\": \"MCA\", \"District\": \"Ernakulam\", \"Course\": \"Computer Application\"},\n",
    "    {\"Fname\": \"Clara\", \"Lname\": \"George\", \"Mark\": 73, \"Grade\": \"B\", \"Contact\": 8547123654, \"Gender\": \"Female\", \"Dept\": \"MSc\", \"District\": \"Kottayam\", \"Course\": \"Mathematics\"},\n",
    "    {\"Fname\": \"David\", \"Lname\": \"Joseph\", \"Mark\": 58, \"Grade\": \"C\", \"Contact\": 9845612378, \"Gender\": \"Male\", \"Dept\": \"MCom\", \"District\": \"Thrissur\", \"Course\": \"Commerce\"},\n",
    "    {\"Fname\": \"Emma\", \"Lname\": \"Jacob\", \"Mark\": 90, \"Grade\": \"A\", \"Contact\": 9745613289, \"Gender\": \"Female\", \"Dept\": \"MCA\", \"District\": \"Alappuzha\", \"Course\": \"Computer Application\"},\n",
    "    {\"Fname\": \"Frank\", \"Lname\": \"Eapen\", \"Mark\": 48, \"Grade\": \"D\", \"Contact\": 9645123874, \"Gender\": \"Male\", \"Dept\": \"MBA\", \"District\": \"Pathanamthitta\", \"Course\": \"Business Administration\"},\n",
    "    {\"Fname\": \"Grace\", \"Lname\": \"Cherian\", \"Mark\": 75, \"Grade\": \"B\", \"Contact\": 8541239671, \"Gender\": \"Female\", \"Dept\": \"MCA\", \"District\": \"Idukki\", \"Course\": \"Computer Application\"},\n",
    "    {\"Fname\": \"Henry\", \"Lname\": \"Koshy\", \"Mark\": 35, \"Grade\": \"D\", \"Contact\": 9987123654, \"Gender\": \"Male\", \"Dept\": \"MSc\", \"District\": \"Palakkad\", \"Course\": \"Physics\"},\n",
    "    {\"Fname\": \"Isla\", \"Lname\": \"Antony\", \"Mark\": 89, \"Grade\": \"A\", \"Contact\": 9871123984, \"Gender\": \"Female\", \"Dept\": \"MCA\", \"District\": \"Kannur\", \"Course\": \"Computer Application\"},\n",
    "    {\"Fname\": \"Jack\", \"Lname\": \"Paul\", \"Mark\": 62, \"Grade\": \"B\", \"Contact\": 9312312354, \"Gender\": \"Male\", \"Dept\": \"MSc\", \"District\": \"Kasargod\", \"Course\": \"Statistics\"},\n",
    "    {\"Fname\": \"Karen\", \"Lname\": \"Philip\", \"Mark\": 47, \"Grade\": \"C\", \"Contact\": 9512369841, \"Gender\": \"Female\", \"Dept\": \"MCom\", \"District\": \"Malappuram\", \"Course\": \"Commerce\"},\n",
    "    {\"Fname\": \"Leo\", \"Lname\": \"Benny\", \"Mark\": 79, \"Grade\": \"B\", \"Contact\": 9612375412, \"Gender\": \"Male\", \"Dept\": \"MBA\", \"District\": \"Wayanad\", \"Course\": \"Business Administration\"},\n",
    "    {\"Fname\": \"Mia\", \"Lname\": \"Manu\", \"Mark\": 94, \"Grade\": \"A\", \"Contact\": 9447125632, \"Gender\": \"Female\", \"Dept\": \"MCA\", \"District\": \"Kozhikode\", \"Course\": \"Computer Application\"},\n",
    "    {\"Fname\": \"Nate\", \"Lname\": \"Jude\", \"Mark\": 38, \"Grade\": \"D\", \"Contact\": 9074123564, \"Gender\": \"Male\", \"Dept\": \"MCom\", \"District\": \"Trivandrum\", \"Course\": \"Commerce\"},\n",
    "    {\"Fname\": \"Olivia\", \"Lname\": \"Noel\", \"Mark\": 85, \"Grade\": \"A\", \"Contact\": 9945612345, \"Gender\": \"Female\", \"Dept\": \"MBA\", \"District\": \"Kollam\", \"Course\": \"Business Administration\"},\n",
    "    {\"Fname\": \"Paul\", \"Lname\": \"Basil\", \"Mark\": 52, \"Grade\": \"C\", \"Contact\": 9845987456, \"Gender\": \"Male\", \"Dept\": \"MSc\", \"District\": \"Ernakulam\", \"Course\": \"Mathematics\"},\n",
    "    {\"Fname\": \"Quinn\", \"Lname\": \"Roy\", \"Mark\": 88, \"Grade\": \"A\", \"Contact\": 9745612387, \"Gender\": \"Female\", \"Dept\": \"MCA\", \"District\": \"Kottayam\", \"Course\": \"Computer Application\"},\n",
    "    {\"Fname\": \"Rachel\", \"Lname\": \"George\", \"Mark\": 67, \"Grade\": \"B\", \"Contact\": 9475612385, \"Gender\": \"Female\", \"Dept\": \"MSc\", \"District\": \"Thrissur\", \"Course\": \"Statistics\"},\n",
    "    {\"Fname\": \"Sam\", \"Lname\": \"Shaji\", \"Mark\": 49, \"Grade\": \"C\", \"Contact\": 9845982345, \"Gender\": \"Male\", \"Dept\": \"MBA\", \"District\": \"Alappuzha\", \"Course\": \"Business Administration\"},\n",
    "    {\"Fname\": \"Tina\", \"Lname\": \"David\", \"Mark\": 74, \"Grade\": \"B\", \"Contact\": 9987123890, \"Gender\": \"Female\", \"Dept\": \"MCom\", \"District\": \"Pathanamthitta\", \"Course\": \"Commerce\"},\n",
    "    {\"Fname\": \"Umar\", \"Lname\": \"Ismail\", \"Mark\": 59, \"Grade\": \"C\", \"Contact\": 9945612371, \"Gender\": \"Male\", \"Dept\": \"MCA\", \"District\": \"Idukki\", \"Course\": \"Computer Application\"},\n",
    "    {\"Fname\": \"Victoria\", \"Lname\": \"Susan\", \"Mark\": 92, \"Grade\": \"A\", \"Contact\": 9845123458, \"Gender\": \"Female\", \"Dept\": \"MBA\", \"District\": \"Palakkad\", \"Course\": \"Business Administration\"},\n",
    "    {\"Fname\": \"Will\", \"Lname\": \"Joel\", \"Mark\": 37, \"Grade\": \"D\", \"Contact\": 9447123965, \"Gender\": \"Male\", \"Dept\": \"MCom\", \"District\": \"Kannur\", \"Course\": \"Commerce\"},\n",
    "    {\"Fname\": \"Xena\", \"Lname\": \"Ann\", \"Mark\": 81, \"Grade\": \"A\", \"Contact\": 9987412365, \"Gender\": \"Female\", \"Dept\": \"MCA\", \"District\": \"Kasargod\", \"Course\": \"Computer Application\"},\n",
    "    {\"Fname\": \"Yusuf\", \"Lname\": \"Arif\", \"Mark\": 69, \"Grade\": \"B\", \"Contact\": 9756123890, \"Gender\": \"Male\", \"Dept\": \"MSc\", \"District\": \"Malappuram\", \"Course\": \"Physics\"},\n",
    "    {\"Fname\": \"Zoe\", \"Lname\": \"Mary\", \"Mark\": 77, \"Grade\": \"B\", \"Contact\": 9447896321, \"Gender\": \"Female\", \"Dept\": \"MCA\", \"District\": \"Wayanad\", \"Course\": \"Computer Application\"},\n",
    "    {\"Fname\": \"Anil\", \"Lname\": \"Kumar\", \"Mark\": 61, \"Grade\": \"C\", \"Contact\": 9182375461, \"Gender\": \"Male\", \"Dept\": \"MBA\", \"District\": \"Kozhikode\", \"Course\": \"Business Administration\"},\n",
    "    {\"Fname\": \"Beena\", \"Lname\": \"Menon\", \"Mark\": 90, \"Grade\": \"A\", \"Contact\": 9874512365, \"Gender\": \"Female\", \"Dept\": \"MCA\", \"District\": \"Trivandrum\", \"Course\": \"Computer Application\"},\n",
    "    {\"Fname\": \"Chris\", \"Lname\": \"Babu\", \"Mark\": 46, \"Grade\": \"C\", \"Contact\": 9012458745, \"Gender\": \"Male\", \"Dept\": \"MSc\", \"District\": \"Kollam\", \"Course\": \"Statistics\"}\n",
    "]"
   ]
  },
  {
   "cell_type": "code",
   "execution_count": null,
   "id": "dac5caf9",
   "metadata": {},
   "outputs": [
    {
     "data": {
      "text/plain": [
       "InsertManyResult([ObjectId('682b339db4aee26897834aaa'), ObjectId('682b339db4aee26897834aab'), ObjectId('682b339db4aee26897834aac'), ObjectId('682b339db4aee26897834aad'), ObjectId('682b339db4aee26897834aae'), ObjectId('682b339db4aee26897834aaf'), ObjectId('682b339db4aee26897834ab0'), ObjectId('682b339db4aee26897834ab1'), ObjectId('682b339db4aee26897834ab2'), ObjectId('682b339db4aee26897834ab3'), ObjectId('682b339db4aee26897834ab4'), ObjectId('682b339db4aee26897834ab5'), ObjectId('682b339db4aee26897834ab6'), ObjectId('682b339db4aee26897834ab7'), ObjectId('682b339db4aee26897834ab8'), ObjectId('682b339db4aee26897834ab9'), ObjectId('682b339db4aee26897834aba'), ObjectId('682b339db4aee26897834abb'), ObjectId('682b339db4aee26897834abc'), ObjectId('682b339db4aee26897834abd'), ObjectId('682b339db4aee26897834abe'), ObjectId('682b339db4aee26897834abf'), ObjectId('682b339db4aee26897834ac0'), ObjectId('682b339db4aee26897834ac1'), ObjectId('682b339db4aee26897834ac2'), ObjectId('682b339db4aee26897834ac3'), ObjectId('682b339db4aee26897834ac4'), ObjectId('682b339db4aee26897834ac5'), ObjectId('682b339db4aee26897834ac6'), ObjectId('682b339db4aee26897834ac7')], acknowledged=True)"
      ]
     },
     "execution_count": 20,
     "metadata": {},
     "output_type": "execute_result"
    }
   ],
   "source": [
    "# col.insert_many(values)"
   ]
  },
  {
   "cell_type": "code",
   "execution_count": 24,
   "id": "161c68b8",
   "metadata": {},
   "outputs": [
    {
     "name": "stdout",
     "output_type": "stream",
     "text": [
      "{'Fname': 'john', 'Lname': 'Williom', 'Mark': 23}\n",
      "{'Fname': 'Bob', 'Lname': 'Mathew', 'Mark': 67}\n",
      "{'Fname': 'Emma', 'Lname': 'Jacob', 'Mark': 90}\n",
      "{'Fname': 'Grace', 'Lname': 'Cherian', 'Mark': 75}\n",
      "{'Fname': 'Isla', 'Lname': 'Antony', 'Mark': 89}\n",
      "{'Fname': 'Mia', 'Lname': 'Manu', 'Mark': 94}\n",
      "{'Fname': 'Quinn', 'Lname': 'Roy', 'Mark': 88}\n",
      "{'Fname': 'Umar', 'Lname': 'Ismail', 'Mark': 59}\n",
      "{'Fname': 'Xena', 'Lname': 'Ann', 'Mark': 81}\n",
      "{'Fname': 'Zoe', 'Lname': 'Mary', 'Mark': 77}\n",
      "{'Fname': 'Beena', 'Lname': 'Menon', 'Mark': 90}\n"
     ]
    }
   ],
   "source": [
    "var=col.find({\"Dept\":\"MCA\"},{\"Mark\":1,\"Fname\":1,\"Lname\":1,\"_id\":0})\n",
    "for i in var:\n",
    "    print(i)"
   ]
  },
  {
   "cell_type": "code",
   "execution_count": 25,
   "id": "69057ec9",
   "metadata": {},
   "outputs": [
    {
     "name": "stdout",
     "output_type": "stream",
     "text": [
      "{'Fname': 'Alice', 'Lname': 'Thomas', 'Mark': 81, 'Dept': 'MBA'}\n",
      "{'Fname': 'Clara', 'Lname': 'George', 'Mark': 73, 'Dept': 'MSc'}\n",
      "{'Fname': 'Emma', 'Lname': 'Jacob', 'Mark': 90, 'Dept': 'MCA'}\n",
      "{'Fname': 'Grace', 'Lname': 'Cherian', 'Mark': 75, 'Dept': 'MCA'}\n",
      "{'Fname': 'Isla', 'Lname': 'Antony', 'Mark': 89, 'Dept': 'MCA'}\n",
      "{'Fname': 'Karen', 'Lname': 'Philip', 'Mark': 47, 'Dept': 'MCom'}\n",
      "{'Fname': 'Mia', 'Lname': 'Manu', 'Mark': 94, 'Dept': 'MCA'}\n",
      "{'Fname': 'Olivia', 'Lname': 'Noel', 'Mark': 85, 'Dept': 'MBA'}\n",
      "{'Fname': 'Quinn', 'Lname': 'Roy', 'Mark': 88, 'Dept': 'MCA'}\n",
      "{'Fname': 'Rachel', 'Lname': 'George', 'Mark': 67, 'Dept': 'MSc'}\n",
      "{'Fname': 'Tina', 'Lname': 'David', 'Mark': 74, 'Dept': 'MCom'}\n",
      "{'Fname': 'Victoria', 'Lname': 'Susan', 'Mark': 92, 'Dept': 'MBA'}\n",
      "{'Fname': 'Xena', 'Lname': 'Ann', 'Mark': 81, 'Dept': 'MCA'}\n",
      "{'Fname': 'Zoe', 'Lname': 'Mary', 'Mark': 77, 'Dept': 'MCA'}\n",
      "{'Fname': 'Beena', 'Lname': 'Menon', 'Mark': 90, 'Dept': 'MCA'}\n"
     ]
    }
   ],
   "source": [
    "var=col.find({\"Gender\":\"Female\"},{\"Mark\":1,\"Fname\":1,\"Lname\":1,\"_id\":0,\"Dept\":1})\n",
    "for i in var:\n",
    "    print(i)"
   ]
  },
  {
   "cell_type": "code",
   "execution_count": 26,
   "id": "f07103f0",
   "metadata": {},
   "outputs": [
    {
     "name": "stdout",
     "output_type": "stream",
     "text": [
      "{'Fname': 'Emma', 'Lname': 'Jacob', 'Mark': 90, 'Contact': 9745613289}\n",
      "{'Fname': 'Grace', 'Lname': 'Cherian', 'Mark': 75, 'Contact': 8541239671}\n",
      "{'Fname': 'Isla', 'Lname': 'Antony', 'Mark': 89, 'Contact': 9871123984}\n",
      "{'Fname': 'Mia', 'Lname': 'Manu', 'Mark': 94, 'Contact': 9447125632}\n",
      "{'Fname': 'Quinn', 'Lname': 'Roy', 'Mark': 88, 'Contact': 9745612387}\n",
      "{'Fname': 'Xena', 'Lname': 'Ann', 'Mark': 81, 'Contact': 9987412365}\n",
      "{'Fname': 'Zoe', 'Lname': 'Mary', 'Mark': 77, 'Contact': 9447896321}\n",
      "{'Fname': 'Beena', 'Lname': 'Menon', 'Mark': 90, 'Contact': 9874512365}\n"
     ]
    }
   ],
   "source": [
    "var=col.find({\"$and\":[{\"Gender\":\"Female\"},{\"Dept\":\"MCA\"}]},{\"Mark\":1,\"Lname\":1,\"Fname\":1,\"Contact\":1,\"_id\":0})\n",
    "for i in var:\n",
    "    print(i)"
   ]
  },
  {
   "cell_type": "code",
   "execution_count": 30,
   "id": "018b52d6",
   "metadata": {},
   "outputs": [
    {
     "name": "stdout",
     "output_type": "stream",
     "text": [
      "{'Fname': 'Mia', 'Lname': 'Manu', 'Mark': 94, 'Dept': 'MCA'}\n",
      "{'Fname': 'Emma', 'Lname': 'Jacob', 'Mark': 90, 'Dept': 'MCA'}\n"
     ]
    }
   ],
   "source": [
    "var=col.find({\"Dept\":\"MCA\"},{\"Lname\":1,\"Fname\":1,\"Dept\":1,\"Mark\":1,\"_id\":0}).sort({\"Mark\":-1}).limit(2)\n",
    "for i in var:\n",
    "    print(i)"
   ]
  },
  {
   "cell_type": "code",
   "execution_count": 31,
   "id": "6b8f0390",
   "metadata": {},
   "outputs": [
    {
     "name": "stdout",
     "output_type": "stream",
     "text": [
      "{'Fname': 'john', 'Lname': 'Williom', 'Mark': 23, 'Dept': 'MCA'}\n",
      "{'Fname': 'Umar', 'Lname': 'Ismail', 'Mark': 59, 'Dept': 'MCA'}\n"
     ]
    }
   ],
   "source": [
    "var=col.find({\"Dept\":\"MCA\"},{\"Lname\":1,\"Fname\":1,\"Dept\":1,\"Mark\":1,\"_id\":0}).sort({\"Mark\":1}).limit(2)\n",
    "for i in var:\n",
    "    print(i)"
   ]
  },
  {
   "cell_type": "code",
   "execution_count": 33,
   "id": "7e568af4",
   "metadata": {},
   "outputs": [
    {
     "name": "stdout",
     "output_type": "stream",
     "text": [
      "{'Fname': 'Leo', 'Lname': 'Benny', 'Mark': 79, 'Dept': 'MBA'}\n",
      "{'Fname': 'Yusuf', 'Lname': 'Arif', 'Mark': 69, 'Dept': 'MSc'}\n",
      "{'Fname': 'Bob', 'Lname': 'Mathew', 'Mark': 67, 'Dept': 'MCA'}\n"
     ]
    }
   ],
   "source": [
    "var=col.find({\"Gender\":\"Male\"},{\"Fname\":1,\"Lname\":1,\"Mark\":1,\"Dept\":1,\"_id\":0}).sort({\"Mark\":-1}).limit(3)\n",
    "for i in var:\n",
    "    print(i)"
   ]
  },
  {
   "cell_type": "code",
   "execution_count": 35,
   "id": "e0903b8d",
   "metadata": {},
   "outputs": [
    {
     "name": "stdout",
     "output_type": "stream",
     "text": [
      "{'Fname': 'john', 'Lname': 'Williom', 'Grade': 'A', 'Gender': 'Male'}\n"
     ]
    }
   ],
   "source": [
    "var=col.find({\"$and\":[{\"Gender\":\"Male\"},{\"Grade\":\"A\"}]},{\"Fname\":1,\"Lname\":1,\"Gender\":1,\"Grade\":1,\"_id\":0})\n",
    "for i in var:\n",
    "    print(i)"
   ]
  },
  {
   "cell_type": "code",
   "execution_count": 37,
   "id": "a63ee2ae",
   "metadata": {},
   "outputs": [
    {
     "name": "stdout",
     "output_type": "stream",
     "text": [
      "{'Fname': 'Victoria', 'Lname': 'Susan', 'Mark': 92}\n",
      "{'Fname': 'Olivia', 'Lname': 'Noel', 'Mark': 85}\n",
      "{'Fname': 'Alice', 'Lname': 'Thomas', 'Mark': 81}\n",
      "{'Fname': 'Leo', 'Lname': 'Benny', 'Mark': 79}\n",
      "{'Fname': 'Anil', 'Lname': 'Kumar', 'Mark': 61}\n"
     ]
    }
   ],
   "source": [
    "var=col.find({\"Dept\":\"MBA\"},{\"Fname\":1,\"Lname\":1,\"Mark\":1,\"_id\":0}).sort({\"Mark\":-1}).limit(5)\n",
    "for i in var:\n",
    "    print(i)"
   ]
  },
  {
   "cell_type": "code",
   "execution_count": 38,
   "id": "0c8968e4",
   "metadata": {},
   "outputs": [
    {
     "name": "stdout",
     "output_type": "stream",
     "text": [
      "{'Fname': 'Mia', 'Lname': 'Manu', 'Mark': 94, 'Gender': 'Female'}\n",
      "{'Fname': 'Victoria', 'Lname': 'Susan', 'Mark': 92, 'Gender': 'Female'}\n"
     ]
    }
   ],
   "source": [
    "var=col.find({\"$and\":[{\"Gender\":\"Female\"},{\"Mark\":{\"$gt\":90}}]},{\"Fname\":1,\"Lname\":1,\"Mark\":1,\"Gender\":1,\"_id\":0})\n",
    "for i in var:\n",
    "    print(i)"
   ]
  },
  {
   "cell_type": "code",
   "execution_count": 40,
   "id": "74bbc3c8",
   "metadata": {},
   "outputs": [
    {
     "name": "stdout",
     "output_type": "stream",
     "text": [
      "{'Fname': 'Alice', 'Lname': 'Thomas', 'Mark': 81, 'Grade': 'A'}\n",
      "{'Fname': 'Isla', 'Lname': 'Antony', 'Mark': 89, 'Grade': 'A'}\n",
      "{'Fname': 'Olivia', 'Lname': 'Noel', 'Mark': 85, 'Grade': 'A'}\n",
      "{'Fname': 'Quinn', 'Lname': 'Roy', 'Mark': 88, 'Grade': 'A'}\n",
      "{'Fname': 'Xena', 'Lname': 'Ann', 'Mark': 81, 'Grade': 'A'}\n"
     ]
    }
   ],
   "source": [
    "var=col.find({\"Mark\":{\"$gt\":80,\"$lt\":90}},{\"Fname\":1,\"Lname\":1,\"Mark\":1,\"Grade\":1,\"_id\":0})\n",
    "for i in var:\n",
    "    print(i)"
   ]
  },
  {
   "cell_type": "code",
   "execution_count": 6,
   "id": "4f90f2ac",
   "metadata": {},
   "outputs": [
    {
     "name": "stdout",
     "output_type": "stream",
     "text": [
      "{'Fname': 'Alice', 'Lname': 'Thomas'}\n",
      "{'Fname': 'Anil', 'Lname': 'Kumar'}\n"
     ]
    }
   ],
   "source": [
    "var=col.find({\"Fname\":{\"$regex\":\"A\"}},{\"Fname\":1,\"Lname\":1,\"_id\":0})\n",
    "for i in var:\n",
    "    print(i)"
   ]
  },
  {
   "cell_type": "code",
   "execution_count": null,
   "id": "7342d86f",
   "metadata": {},
   "outputs": [
    {
     "name": "stdout",
     "output_type": "stream",
     "text": [
      "{'Fname': 'Bob', 'Lname': 'Mathew', 'Mark': 67, 'Grade': 'B', 'Contact': 9123456789, 'Gender': 'Male', 'Dept': 'MCA', 'District': 'Ernakulam', 'Course': 'Computer Application'}\n",
      "{'Fname': 'Clara', 'Lname': 'George', 'Mark': 73, 'Grade': 'B', 'Contact': 8547123654, 'Gender': 'Female', 'Dept': 'MSc', 'District': 'Kottayam', 'Course': 'Mathematics'}\n",
      "{'Fname': 'David', 'Lname': 'Joseph', 'Mark': 58, 'Grade': 'C', 'Contact': 9845612378, 'Gender': 'Male', 'Dept': 'MCom', 'District': 'Thrissur', 'Course': 'Commerce'}\n",
      "{'Fname': 'Emma', 'Lname': 'Jacob', 'Mark': 90, 'Grade': 'A', 'Contact': 9745613289, 'Gender': 'Female', 'Dept': 'MCA', 'District': 'Alappuzha', 'Course': 'Computer Application'}\n"
     ]
    }
   ],
   "source": [
    "var=col.find({\"District\":{\"$nin\":[\"Kollam\",\"Trivandrum\"]}},{\"_id\":0}).limit(4)\n",
    "for i in var:\n",
    "    print(i)\n"
   ]
  },
  {
   "cell_type": "markdown",
   "id": "dd26ffba",
   "metadata": {},
   "source": [
    "MAKES CASE INSENSITIVE AND DISPLAYS FIRST NAME STARTING WITH 'a' OR 'A'"
   ]
  },
  {
   "cell_type": "code",
   "execution_count": 9,
   "id": "10da1bba",
   "metadata": {},
   "outputs": [
    {
     "name": "stdout",
     "output_type": "stream",
     "text": [
      "{'Fname': 'Alice', 'Lname': 'Thomas'}\n",
      "{'Fname': 'Anil', 'Lname': 'Kumar'}\n"
     ]
    }
   ],
   "source": [
    "var=col.find({\"Fname\":{\"$regex\": \"^a\", \"$options\": \"i\"}},{\"Fname\":1,\"Lname\":1,\"_id\":0})\n",
    "for i in var:\n",
    "    print(i)\n",
    "\n"
   ]
  },
  {
   "cell_type": "markdown",
   "id": "c467bc95",
   "metadata": {},
   "source": [
    "MAKES CASE INSENSITIVE AND DISPLAYS THE NAME WITH APLHABET 'a' or 'A' IN IT"
   ]
  },
  {
   "cell_type": "code",
   "execution_count": null,
   "id": "7598db21",
   "metadata": {},
   "outputs": [],
   "source": []
  },
  {
   "cell_type": "code",
   "execution_count": 10,
   "id": "6775ee81",
   "metadata": {},
   "outputs": [
    {
     "name": "stdout",
     "output_type": "stream",
     "text": [
      "{'Fname': 'Alice', 'Lname': 'Thomas'}\n",
      "{'Fname': 'Clara', 'Lname': 'George'}\n",
      "{'Fname': 'David', 'Lname': 'Joseph'}\n",
      "{'Fname': 'Emma', 'Lname': 'Jacob'}\n",
      "{'Fname': 'Frank', 'Lname': 'Eapen'}\n",
      "{'Fname': 'Grace', 'Lname': 'Cherian'}\n",
      "{'Fname': 'Isla', 'Lname': 'Antony'}\n",
      "{'Fname': 'Jack', 'Lname': 'Paul'}\n",
      "{'Fname': 'Karen', 'Lname': 'Philip'}\n",
      "{'Fname': 'Mia', 'Lname': 'Manu'}\n",
      "{'Fname': 'Nate', 'Lname': 'Jude'}\n",
      "{'Fname': 'Olivia', 'Lname': 'Noel'}\n",
      "{'Fname': 'Paul', 'Lname': 'Basil'}\n",
      "{'Fname': 'Rachel', 'Lname': 'George'}\n",
      "{'Fname': 'Sam', 'Lname': 'Shaji'}\n",
      "{'Fname': 'Tina', 'Lname': 'David'}\n",
      "{'Fname': 'Umar', 'Lname': 'Ismail'}\n",
      "{'Fname': 'Victoria', 'Lname': 'Susan'}\n",
      "{'Fname': 'Xena', 'Lname': 'Ann'}\n",
      "{'Fname': 'Anil', 'Lname': 'Kumar'}\n",
      "{'Fname': 'Beena', 'Lname': 'Menon'}\n"
     ]
    }
   ],
   "source": [
    "var=col.find({\"Fname\":{\"$regex\": \"a\", \"$options\": \"i\"}},{\"Fname\":1,\"Lname\":1,\"_id\":0})\n",
    "for i in var:\n",
    "    print(i)\n"
   ]
  },
  {
   "cell_type": "markdown",
   "id": "54363709",
   "metadata": {},
   "source": [
    "MAKES CASE INSENSITIVE AND DISPLAYS THE NAME WITH APLHABET 'a' or 'A' IN IT AS LAST LETTER"
   ]
  },
  {
   "cell_type": "code",
   "execution_count": 12,
   "id": "80ba66b1",
   "metadata": {},
   "outputs": [
    {
     "name": "stdout",
     "output_type": "stream",
     "text": [
      "{'Fname': 'Clara', 'Lname': 'George'}\n",
      "{'Fname': 'Emma', 'Lname': 'Jacob'}\n",
      "{'Fname': 'Isla', 'Lname': 'Antony'}\n",
      "{'Fname': 'Mia', 'Lname': 'Manu'}\n",
      "{'Fname': 'Olivia', 'Lname': 'Noel'}\n",
      "{'Fname': 'Tina', 'Lname': 'David'}\n",
      "{'Fname': 'Victoria', 'Lname': 'Susan'}\n",
      "{'Fname': 'Xena', 'Lname': 'Ann'}\n",
      "{'Fname': 'Beena', 'Lname': 'Menon'}\n"
     ]
    }
   ],
   "source": [
    "var=col.find({\"Fname\":{\"$regex\": \"a$\", \"$options\": \"i\"}},{\"Fname\":1,\"Lname\":1,\"_id\":0})\n",
    "for i in var:\n",
    "    print(i)\n"
   ]
  }
 ],
 "metadata": {
  "kernelspec": {
   "display_name": "Python 3",
   "language": "python",
   "name": "python3"
  },
  "language_info": {
   "codemirror_mode": {
    "name": "ipython",
    "version": 3
   },
   "file_extension": ".py",
   "mimetype": "text/x-python",
   "name": "python",
   "nbconvert_exporter": "python",
   "pygments_lexer": "ipython3",
   "version": "3.13.0"
  }
 },
 "nbformat": 4,
 "nbformat_minor": 5
}
