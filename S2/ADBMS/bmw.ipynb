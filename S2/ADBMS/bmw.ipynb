{
 "cells": [
  {
   "cell_type": "code",
   "execution_count": 2,
   "id": "2cf02813",
   "metadata": {},
   "outputs": [],
   "source": [
    "import pymongo\n",
    "conn=pymongo.MongoClient(\"mongodb://localhost:27017/\")\n",
    "db=conn['bmw']\n",
    "col=db['cars']"
   ]
  },
  {
   "cell_type": "code",
   "execution_count": 3,
   "id": "6db2deab",
   "metadata": {},
   "outputs": [],
   "source": [
    "values=[\n",
    "    {\"Model\": \"530i\", \"Year\": 2010, \"Transmission\": \"Manual\", \"Fuel\": \"Petrol\", \"Price\": 700000, \"Mileage\": {\"Old\": 12, \"New\": 15}, \"Status\": \"Available\"},\n",
    "    {\"Model\": \"320d\", \"Year\": 2015, \"Transmission\": \"Automatic\", \"Fuel\": \"Diesel\", \"Price\": 950000, \"Mileage\": {\"Old\": 16, \"New\": 19}, \"Status\": \"Sold\"},\n",
    "    {\"Model\": \"X5\", \"Year\": 2018, \"Transmission\": \"Automatic\", \"Fuel\": \"Diesel\", \"Price\": 3000000, \"Mileage\": {\"Old\": 10, \"New\": 13}, \"Status\": \"Available\"},\n",
    "    {\"Model\": \"X1\", \"Year\": 2020, \"Transmission\": \"Automatic\", \"Fuel\": \"Petrol\", \"Price\": 2500000, \"Mileage\": {\"Old\": 14, \"New\": 18}, \"Status\": \"Available\"},\n",
    "    {\"Model\": \"M3\", \"Year\": 2016, \"Transmission\": \"Manual\", \"Fuel\": \"Petrol\", \"Price\": 4200000, \"Mileage\": {\"Old\": 8, \"New\": 10}, \"Status\": \"Sold\"},\n",
    "    {\"Model\": \"740Li\", \"Year\": 2019, \"Transmission\": \"Automatic\", \"Fuel\": \"Petrol\", \"Price\": 5800000, \"Mileage\": {\"Old\": 7, \"New\": 10}, \"Status\": \"Available\"},\n",
    "    {\"Model\": \"X3\", \"Year\": 2017, \"Transmission\": \"Automatic\", \"Fuel\": \"Diesel\", \"Price\": 2800000, \"Mileage\": {\"Old\": 13, \"New\": 16}, \"Status\": \"Sold\"},\n",
    "    {\"Model\": \"Z4\", \"Year\": 2014, \"Transmission\": \"Manual\", \"Fuel\": \"Petrol\", \"Price\": 3200000, \"Mileage\": {\"Old\": 9, \"New\": 12}, \"Status\": \"Available\"},\n",
    "    {\"Model\": \"X6\", \"Year\": 2021, \"Transmission\": \"Automatic\", \"Fuel\": \"Diesel\", \"Price\": 6500000, \"Mileage\": {\"Old\": 11, \"New\": 14}, \"Status\": \"Available\"},\n",
    "    {\"Model\": \"530d\", \"Year\": 2013, \"Transmission\": \"Manual\", \"Fuel\": \"Diesel\", \"Price\": 1800000, \"Mileage\": {\"Old\": 13, \"New\": 16}, \"Status\": \"Sold\"},\n",
    "    {\"Model\": \"320i\", \"Year\": 2011, \"Transmission\": \"Manual\", \"Fuel\": \"Petrol\", \"Price\": 750000, \"Mileage\": {\"Old\": 12, \"New\": 15}, \"Status\": \"Available\"},\n",
    "    {\"Model\": \"M5\", \"Year\": 2017, \"Transmission\": \"Automatic\", \"Fuel\": \"Petrol\", \"Price\": 5800000, \"Mileage\": {\"Old\": 7, \"New\": 9}, \"Status\": \"Sold\"},\n",
    "    {\"Model\": \"X7\", \"Year\": 2022, \"Transmission\": \"Automatic\", \"Fuel\": \"Diesel\", \"Price\": 9800000, \"Mileage\": {\"Old\": 10, \"New\": 13}, \"Status\": \"Available\"},\n",
    "    {\"Model\": \"118d\", \"Year\": 2012, \"Transmission\": \"Manual\", \"Fuel\": \"Diesel\", \"Price\": 890000, \"Mileage\": {\"Old\": 17, \"New\": 20}, \"Status\": \"Sold\"},\n",
    "    {\"Model\": \"i8\", \"Year\": 2019, \"Transmission\": \"Automatic\", \"Fuel\": \"Hybrid\", \"Price\": 9000000, \"Mileage\": {\"Old\": 14, \"New\": 17}, \"Status\": \"Available\"},\n",
    "    {\"Model\": \"X2\", \"Year\": 2021, \"Transmission\": \"Automatic\", \"Fuel\": \"Petrol\", \"Price\": 3200000, \"Mileage\": {\"Old\": 15, \"New\": 18}, \"Status\": \"Available\"},\n",
    "    {\"Model\": \"M4\", \"Year\": 2018, \"Transmission\": \"Manual\", \"Fuel\": \"Petrol\", \"Price\": 4500000, \"Mileage\": {\"Old\": 9, \"New\": 11}, \"Status\": \"Sold\"},\n",
    "    {\"Model\": \"525d\", \"Year\": 2014, \"Transmission\": \"Manual\", \"Fuel\": \"Diesel\", \"Price\": 2000000, \"Mileage\": {\"Old\": 14, \"New\": 17}, \"Status\": \"Available\"},\n",
    "    {\"Model\": \"X4\", \"Year\": 2020, \"Transmission\": \"Automatic\", \"Fuel\": \"Diesel\", \"Price\": 4200000, \"Mileage\": {\"Old\": 13, \"New\": 16}, \"Status\": \"Available\"},\n",
    "    {\"Model\": \"316i\", \"Year\": 2010, \"Transmission\": \"Manual\", \"Fuel\": \"Petrol\", \"Price\": 600000, \"Mileage\": {\"Old\": 11, \"New\": 14}, \"Status\": \"Sold\"},\n",
    "    {\"Model\": \"730Ld\", \"Year\": 2016, \"Transmission\": \"Automatic\", \"Fuel\": \"Diesel\", \"Price\": 5000000, \"Mileage\": {\"Old\": 11, \"New\": 14}, \"Status\": \"Available\"},\n",
    "    {\"Model\": \"X1\", \"Year\": 2018, \"Transmission\": \"Manual\", \"Fuel\": \"Petrol\", \"Price\": 2200000, \"Mileage\": {\"Old\": 13, \"New\": 16}, \"Status\": \"Sold\"},\n",
    "    {\"Model\": \"Z3\", \"Year\": 2009, \"Transmission\": \"Manual\", \"Fuel\": \"Petrol\", \"Price\": 450000, \"Mileage\": {\"Old\": 10, \"New\": 12}, \"Status\": \"Available\"},\n",
    "    {\"Model\": \"525i\", \"Year\": 2011, \"Transmission\": \"Manual\", \"Fuel\": \"Petrol\", \"Price\": 1000000, \"Mileage\": {\"Old\": 12, \"New\": 14}, \"Status\": \"Sold\"},\n",
    "    {\"Model\": \"i3\", \"Year\": 2020, \"Transmission\": \"Automatic\", \"Fuel\": \"Electric\", \"Price\": 3500000, \"Mileage\": {\"Old\": 0, \"New\": 200}, \"Status\": \"Available\"},\n",
    "    {\"Model\": \"M2\", \"Year\": 2017, \"Transmission\": \"Manual\", \"Fuel\": \"Petrol\", \"Price\": 3800000, \"Mileage\": {\"Old\": 9, \"New\": 11}, \"Status\": \"Available\"},\n",
    "    {\"Model\": \"X5\", \"Year\": 2021, \"Transmission\": \"Automatic\", \"Fuel\": \"Diesel\", \"Price\": 6000000, \"Mileage\": {\"Old\": 12, \"New\": 15}, \"Status\": \"Available\"},\n",
    "    {\"Model\": \"320d\", \"Year\": 2013, \"Transmission\": \"Manual\", \"Fuel\": \"Diesel\", \"Price\": 1500000, \"Mileage\": {\"Old\": 15, \"New\": 18}, \"Status\": \"Sold\"},\n",
    "    {\"Model\": \"Z4\", \"Year\": 2015, \"Transmission\": \"Automatic\", \"Fuel\": \"Petrol\", \"Price\": 2800000, \"Mileage\": {\"Old\": 10, \"New\": 13}, \"Status\": \"Available\"},\n",
    "    {\"Model\": \"M6\", \"Year\": 2014, \"Transmission\": \"Automatic\", \"Fuel\": \"Petrol\", \"Price\": 5600000, \"Mileage\": {\"Old\": 8, \"New\": 10}, \"Status\": \"Sold\"},\n",
    "    {\"Model\": \"118i\", \"Year\": 2013, \"Transmission\": \"Manual\", \"Fuel\": \"Petrol\", \"Price\": 950000, \"Mileage\": {\"Old\": 15, \"New\": 18}, \"Status\": \"Available\"},\n",
    "    {\"Model\": \"X6\", \"Year\": 2022, \"Transmission\": \"Automatic\", \"Fuel\": \"Diesel\", \"Price\": 7200000, \"Mileage\": {\"Old\": 11, \"New\": 14}, \"Status\": \"Available\"},\n",
    "    {\"Model\": \"750Li\", \"Year\": 2018, \"Transmission\": \"Automatic\", \"Fuel\": \"Petrol\", \"Price\": 8400000, \"Mileage\": {\"Old\": 9, \"New\": 12}, \"Status\": \"Sold\"},\n",
    "    {\"Model\": \"X3\", \"Year\": 2016, \"Transmission\": \"Automatic\", \"Fuel\": \"Diesel\", \"Price\": 2600000, \"Mileage\": {\"Old\": 13, \"New\": 15}, \"Status\": \"Available\"},\n",
    "    {\"Model\": \"530e\", \"Year\": 2021, \"Transmission\": \"Automatic\", \"Fuel\": \"Hybrid\", \"Price\": 4800000, \"Mileage\": {\"Old\": 18, \"New\": 21}, \"Status\": \"Available\"},\n",
    "    {\"Model\": \"Z4\", \"Year\": 2011, \"Transmission\": \"Manual\", \"Fuel\": \"Petrol\", \"Price\": 2400000, \"Mileage\": {\"Old\": 11, \"New\": 13}, \"Status\": \"Sold\"},\n",
    "    {\"Model\": \"320i\", \"Year\": 2015, \"Transmission\": \"Automatic\", \"Fuel\": \"Petrol\", \"Price\": 1800000, \"Mileage\": {\"Old\": 13, \"New\": 16}, \"Status\": \"Available\"},\n",
    "    {\"Model\": \"M3\", \"Year\": 2020, \"Transmission\": \"Automatic\", \"Fuel\": \"Petrol\", \"Price\": 6200000, \"Mileage\": {\"Old\": 9, \"New\": 11}, \"Status\": \"Sold\"},\n",
    "    {\"Model\": \"X1\", \"Year\": 2014, \"Transmission\": \"Manual\", \"Fuel\": \"Diesel\", \"Price\": 1400000, \"Mileage\": {\"Old\": 15, \"New\": 18}, \"Status\": \"Available\"},\n",
    "    {\"Model\": \"118d\", \"Year\": 2016, \"Transmission\": \"Manual\", \"Fuel\": \"Diesel\", \"Price\": 1300000, \"Mileage\": {\"Old\": 16, \"New\": 19}, \"Status\": \"Sold\"},\n",
    "    {\"Model\": \"X7\", \"Year\": 2023, \"Transmission\": \"Automatic\", \"Fuel\": \"Diesel\", \"Price\": 10500000, \"Mileage\": {\"Old\": 10, \"New\": 13}, \"Status\": \"Available\"},\n",
    "    {\"Model\": \"iX\", \"Year\": 2022, \"Transmission\": \"Automatic\", \"Fuel\": \"Electric\", \"Price\": 11000000, \"Mileage\": {\"Old\": 0, \"New\": 390}, \"Status\": \"Available\"},\n",
    "    {\"Model\": \"M8\", \"Year\": 2021, \"Transmission\": \"Automatic\", \"Fuel\": \"Petrol\", \"Price\": 9500000, \"Mileage\": {\"Old\": 8, \"New\": 11}, \"Status\": \"Sold\"},\n",
    "    {\"Model\": \"Z8\", \"Year\": 2008, \"Transmission\": \"Manual\", \"Fuel\": \"Petrol\", \"Price\": 2000000, \"Mileage\": {\"Old\": 9, \"New\": 11}, \"Status\": \"Available\"},\n",
    "    {\"Model\": \"730i\", \"Year\": 2013, \"Transmission\": \"Automatic\", \"Fuel\": \"Petrol\", \"Price\": 3600000, \"Mileage\": {\"Old\": 10, \"New\": 13}, \"Status\": \"Sold\"},\n",
    "    {\"Model\": \"X5\", \"Year\": 2015, \"Transmission\": \"Automatic\", \"Fuel\": \"Diesel\", \"Price\": 3400000, \"Mileage\": {\"Old\": 12, \"New\": 15}, \"Status\": \"Available\"},\n",
    "    {\"Model\": \"330Li\", \"Year\": 2022, \"Transmission\": \"Automatic\", \"Fuel\": \"Petrol\", \"Price\": 4800000, \"Mileage\": {\"Old\": 13, \"New\": 16}, \"Status\": \"Available\"},\n",
    "    {\"Model\": \"M235i\", \"Year\": 2019, \"Transmission\": \"Automatic\", \"Fuel\": \"Petrol\", \"Price\": 4000000, \"Mileage\": {\"Old\": 12, \"New\": 15}, \"Status\": \"Sold\"},\n",
    "    {\"Model\": \"220d\", \"Year\": 2018, \"Transmission\": \"Manual\", \"Fuel\": \"Diesel\", \"Price\": 2400000, \"Mileage\": {\"Old\": 17, \"New\": 20}, \"Status\": \"Available\"}\n",
    "    ]"
   ]
  },
  {
   "cell_type": "code",
   "execution_count": null,
   "id": "29a3c7ca",
   "metadata": {},
   "outputs": [
    {
     "data": {
      "text/plain": [
       "InsertManyResult([ObjectId('683eaf59bf6c20c9c5900ca1'), ObjectId('683eaf59bf6c20c9c5900ca2'), ObjectId('683eaf59bf6c20c9c5900ca3'), ObjectId('683eaf59bf6c20c9c5900ca4'), ObjectId('683eaf59bf6c20c9c5900ca5'), ObjectId('683eaf59bf6c20c9c5900ca6'), ObjectId('683eaf59bf6c20c9c5900ca7'), ObjectId('683eaf59bf6c20c9c5900ca8'), ObjectId('683eaf59bf6c20c9c5900ca9'), ObjectId('683eaf59bf6c20c9c5900caa'), ObjectId('683eaf59bf6c20c9c5900cab'), ObjectId('683eaf59bf6c20c9c5900cac'), ObjectId('683eaf59bf6c20c9c5900cad'), ObjectId('683eaf59bf6c20c9c5900cae'), ObjectId('683eaf59bf6c20c9c5900caf'), ObjectId('683eaf59bf6c20c9c5900cb0'), ObjectId('683eaf59bf6c20c9c5900cb1'), ObjectId('683eaf59bf6c20c9c5900cb2'), ObjectId('683eaf59bf6c20c9c5900cb3'), ObjectId('683eaf59bf6c20c9c5900cb4'), ObjectId('683eaf59bf6c20c9c5900cb5'), ObjectId('683eaf59bf6c20c9c5900cb6'), ObjectId('683eaf59bf6c20c9c5900cb7'), ObjectId('683eaf59bf6c20c9c5900cb8'), ObjectId('683eaf59bf6c20c9c5900cb9'), ObjectId('683eaf59bf6c20c9c5900cba'), ObjectId('683eaf59bf6c20c9c5900cbb'), ObjectId('683eaf59bf6c20c9c5900cbc'), ObjectId('683eaf59bf6c20c9c5900cbd'), ObjectId('683eaf59bf6c20c9c5900cbe'), ObjectId('683eaf59bf6c20c9c5900cbf'), ObjectId('683eaf59bf6c20c9c5900cc0'), ObjectId('683eaf59bf6c20c9c5900cc1'), ObjectId('683eaf59bf6c20c9c5900cc2'), ObjectId('683eaf59bf6c20c9c5900cc3'), ObjectId('683eaf59bf6c20c9c5900cc4'), ObjectId('683eaf59bf6c20c9c5900cc5'), ObjectId('683eaf59bf6c20c9c5900cc6'), ObjectId('683eaf59bf6c20c9c5900cc7'), ObjectId('683eaf59bf6c20c9c5900cc8'), ObjectId('683eaf59bf6c20c9c5900cc9'), ObjectId('683eaf59bf6c20c9c5900cca'), ObjectId('683eaf59bf6c20c9c5900ccb'), ObjectId('683eaf59bf6c20c9c5900ccc'), ObjectId('683eaf59bf6c20c9c5900ccd'), ObjectId('683eaf59bf6c20c9c5900cce'), ObjectId('683eaf59bf6c20c9c5900ccf'), ObjectId('683eaf59bf6c20c9c5900cd0'), ObjectId('683eaf59bf6c20c9c5900cd1')], acknowledged=True)"
      ]
     },
     "execution_count": 4,
     "metadata": {},
     "output_type": "execute_result"
    }
   ],
   "source": [
    "# col.insert_many(values)"
   ]
  },
  {
   "cell_type": "code",
   "execution_count": 9,
   "id": "52732e9a",
   "metadata": {},
   "outputs": [
    {
     "name": "stdout",
     "output_type": "stream",
     "text": [
      "{'_id': ObjectId('683eaf59bf6c20c9c5900ca1'), 'Model': '530i', 'Year': 2010, 'Transmission': 'Manual', 'Fuel': 'Petrol', 'Price': 700000, 'Mileage': {'Old': 12, 'New': 15}, 'Status': 'Available'}\n",
      "{'_id': ObjectId('683eaf59bf6c20c9c5900ca2'), 'Model': '320d', 'Year': 2015, 'Transmission': 'Automatic', 'Fuel': 'Diesel', 'Price': 950000, 'Mileage': {'Old': 16, 'New': 19}, 'Status': 'Sold'}\n",
      "{'_id': ObjectId('683eaf59bf6c20c9c5900ca3'), 'Model': 'X5', 'Year': 2018, 'Transmission': 'Automatic', 'Fuel': 'Diesel', 'Price': 3000000, 'Mileage': {'Old': 10, 'New': 13}, 'Status': 'Available'}\n",
      "{'_id': ObjectId('683eaf59bf6c20c9c5900ca4'), 'Model': 'X1', 'Year': 2020, 'Transmission': 'Automatic', 'Fuel': 'Petrol', 'Price': 2500000, 'Mileage': {'Old': 14, 'New': 18}, 'Status': 'Available'}\n",
      "{'_id': ObjectId('683eaf59bf6c20c9c5900ca5'), 'Model': 'M3', 'Year': 2016, 'Transmission': 'Manual', 'Fuel': 'Petrol', 'Price': 4200000, 'Mileage': {'Old': 8, 'New': 10}, 'Status': 'Sold'}\n",
      "{'_id': ObjectId('683eaf59bf6c20c9c5900ca6'), 'Model': '740Li', 'Year': 2019, 'Transmission': 'Automatic', 'Fuel': 'Petrol', 'Price': 5800000, 'Mileage': {'Old': 7, 'New': 10}, 'Status': 'Available'}\n",
      "{'_id': ObjectId('683eaf59bf6c20c9c5900ca7'), 'Model': 'X3', 'Year': 2017, 'Transmission': 'Automatic', 'Fuel': 'Diesel', 'Price': 2800000, 'Mileage': {'Old': 13, 'New': 16}, 'Status': 'Sold'}\n",
      "{'_id': ObjectId('683eaf59bf6c20c9c5900ca8'), 'Model': 'Z4', 'Year': 2014, 'Transmission': 'Manual', 'Fuel': 'Petrol', 'Price': 3200000, 'Mileage': {'Old': 9, 'New': 12}, 'Status': 'Available'}\n",
      "{'_id': ObjectId('683eaf59bf6c20c9c5900ca9'), 'Model': 'X6', 'Year': 2021, 'Transmission': 'Automatic', 'Fuel': 'Diesel', 'Price': 6500000, 'Mileage': {'Old': 11, 'New': 14}, 'Status': 'Available'}\n",
      "{'_id': ObjectId('683eaf59bf6c20c9c5900caa'), 'Model': '530d', 'Year': 2013, 'Transmission': 'Manual', 'Fuel': 'Diesel', 'Price': 1800000, 'Mileage': {'Old': 13, 'New': 16}, 'Status': 'Sold'}\n",
      "{'_id': ObjectId('683eaf59bf6c20c9c5900cab'), 'Model': '320i', 'Year': 2011, 'Transmission': 'Manual', 'Fuel': 'Petrol', 'Price': 750000, 'Mileage': {'Old': 12, 'New': 15}, 'Status': 'Available'}\n",
      "{'_id': ObjectId('683eaf59bf6c20c9c5900cac'), 'Model': 'M5', 'Year': 2017, 'Transmission': 'Automatic', 'Fuel': 'Petrol', 'Price': 5800000, 'Mileage': {'Old': 7, 'New': 9}, 'Status': 'Sold'}\n",
      "{'_id': ObjectId('683eaf59bf6c20c9c5900cad'), 'Model': 'X7', 'Year': 2022, 'Transmission': 'Automatic', 'Fuel': 'Diesel', 'Price': 9800000, 'Mileage': {'Old': 10, 'New': 13}, 'Status': 'Available'}\n",
      "{'_id': ObjectId('683eaf59bf6c20c9c5900cae'), 'Model': '118d', 'Year': 2012, 'Transmission': 'Manual', 'Fuel': 'Diesel', 'Price': 890000, 'Mileage': {'Old': 17, 'New': 20}, 'Status': 'Sold'}\n",
      "{'_id': ObjectId('683eaf59bf6c20c9c5900caf'), 'Model': 'i8', 'Year': 2019, 'Transmission': 'Automatic', 'Fuel': 'Hybrid', 'Price': 9000000, 'Mileage': {'Old': 14, 'New': 17}, 'Status': 'Available'}\n",
      "{'_id': ObjectId('683eaf59bf6c20c9c5900cb0'), 'Model': 'X2', 'Year': 2021, 'Transmission': 'Automatic', 'Fuel': 'Petrol', 'Price': 3200000, 'Mileage': {'Old': 15, 'New': 18}, 'Status': 'Available'}\n",
      "{'_id': ObjectId('683eaf59bf6c20c9c5900cb1'), 'Model': 'M4', 'Year': 2018, 'Transmission': 'Manual', 'Fuel': 'Petrol', 'Price': 4500000, 'Mileage': {'Old': 9, 'New': 11}, 'Status': 'Sold'}\n",
      "{'_id': ObjectId('683eaf59bf6c20c9c5900cb2'), 'Model': '525d', 'Year': 2014, 'Transmission': 'Manual', 'Fuel': 'Diesel', 'Price': 2000000, 'Mileage': {'Old': 14, 'New': 17}, 'Status': 'Available'}\n",
      "{'_id': ObjectId('683eaf59bf6c20c9c5900cb3'), 'Model': 'X4', 'Year': 2020, 'Transmission': 'Automatic', 'Fuel': 'Diesel', 'Price': 4200000, 'Mileage': {'Old': 13, 'New': 16}, 'Status': 'Available'}\n",
      "{'_id': ObjectId('683eaf59bf6c20c9c5900cb4'), 'Model': '316i', 'Year': 2010, 'Transmission': 'Manual', 'Fuel': 'Petrol', 'Price': 600000, 'Mileage': {'Old': 11, 'New': 14}, 'Status': 'Sold'}\n",
      "{'_id': ObjectId('683eaf59bf6c20c9c5900cb5'), 'Model': '730Ld', 'Year': 2016, 'Transmission': 'Automatic', 'Fuel': 'Diesel', 'Price': 5000000, 'Mileage': {'Old': 11, 'New': 14}, 'Status': 'Available'}\n",
      "{'_id': ObjectId('683eaf59bf6c20c9c5900cb6'), 'Model': 'X1', 'Year': 2018, 'Transmission': 'Manual', 'Fuel': 'Petrol', 'Price': 2200000, 'Mileage': {'Old': 13, 'New': 16}, 'Status': 'Sold'}\n",
      "{'_id': ObjectId('683eaf59bf6c20c9c5900cb7'), 'Model': 'Z3', 'Year': 2009, 'Transmission': 'Manual', 'Fuel': 'Petrol', 'Price': 450000, 'Mileage': {'Old': 10, 'New': 12}, 'Status': 'Available'}\n",
      "{'_id': ObjectId('683eaf59bf6c20c9c5900cb8'), 'Model': '525i', 'Year': 2011, 'Transmission': 'Manual', 'Fuel': 'Petrol', 'Price': 1000000, 'Mileage': {'Old': 12, 'New': 14}, 'Status': 'Sold'}\n",
      "{'_id': ObjectId('683eaf59bf6c20c9c5900cb9'), 'Model': 'i3', 'Year': 2020, 'Transmission': 'Automatic', 'Fuel': 'Electric', 'Price': 3500000, 'Mileage': {'Old': 0, 'New': 200}, 'Status': 'Available'}\n",
      "{'_id': ObjectId('683eaf59bf6c20c9c5900cba'), 'Model': 'M2', 'Year': 2017, 'Transmission': 'Manual', 'Fuel': 'Petrol', 'Price': 3800000, 'Mileage': {'Old': 9, 'New': 11}, 'Status': 'Available'}\n",
      "{'_id': ObjectId('683eaf59bf6c20c9c5900cbb'), 'Model': 'X5', 'Year': 2021, 'Transmission': 'Automatic', 'Fuel': 'Diesel', 'Price': 6000000, 'Mileage': {'Old': 12, 'New': 15}, 'Status': 'Available'}\n",
      "{'_id': ObjectId('683eaf59bf6c20c9c5900cbc'), 'Model': '320d', 'Year': 2013, 'Transmission': 'Manual', 'Fuel': 'Diesel', 'Price': 1500000, 'Mileage': {'Old': 15, 'New': 18}, 'Status': 'Sold'}\n",
      "{'_id': ObjectId('683eaf59bf6c20c9c5900cbd'), 'Model': 'Z4', 'Year': 2015, 'Transmission': 'Automatic', 'Fuel': 'Petrol', 'Price': 2800000, 'Mileage': {'Old': 10, 'New': 13}, 'Status': 'Available'}\n",
      "{'_id': ObjectId('683eaf59bf6c20c9c5900cbe'), 'Model': 'M6', 'Year': 2014, 'Transmission': 'Automatic', 'Fuel': 'Petrol', 'Price': 5600000, 'Mileage': {'Old': 8, 'New': 10}, 'Status': 'Sold'}\n",
      "{'_id': ObjectId('683eaf59bf6c20c9c5900cbf'), 'Model': '118i', 'Year': 2013, 'Transmission': 'Manual', 'Fuel': 'Petrol', 'Price': 950000, 'Mileage': {'Old': 15, 'New': 18}, 'Status': 'Available'}\n",
      "{'_id': ObjectId('683eaf59bf6c20c9c5900cc0'), 'Model': 'X6', 'Year': 2022, 'Transmission': 'Automatic', 'Fuel': 'Diesel', 'Price': 7200000, 'Mileage': {'Old': 11, 'New': 14}, 'Status': 'Available'}\n",
      "{'_id': ObjectId('683eaf59bf6c20c9c5900cc1'), 'Model': '750Li', 'Year': 2018, 'Transmission': 'Automatic', 'Fuel': 'Petrol', 'Price': 8400000, 'Mileage': {'Old': 9, 'New': 12}, 'Status': 'Sold'}\n",
      "{'_id': ObjectId('683eaf59bf6c20c9c5900cc2'), 'Model': 'X3', 'Year': 2016, 'Transmission': 'Automatic', 'Fuel': 'Diesel', 'Price': 2600000, 'Mileage': {'Old': 13, 'New': 15}, 'Status': 'Available'}\n",
      "{'_id': ObjectId('683eaf59bf6c20c9c5900cc3'), 'Model': '530e', 'Year': 2021, 'Transmission': 'Automatic', 'Fuel': 'Hybrid', 'Price': 4800000, 'Mileage': {'Old': 18, 'New': 21}, 'Status': 'Available'}\n",
      "{'_id': ObjectId('683eaf59bf6c20c9c5900cc4'), 'Model': 'Z4', 'Year': 2011, 'Transmission': 'Manual', 'Fuel': 'Petrol', 'Price': 2400000, 'Mileage': {'Old': 11, 'New': 13}, 'Status': 'Sold'}\n",
      "{'_id': ObjectId('683eaf59bf6c20c9c5900cc5'), 'Model': '320i', 'Year': 2015, 'Transmission': 'Automatic', 'Fuel': 'Petrol', 'Price': 1800000, 'Mileage': {'Old': 13, 'New': 16}, 'Status': 'Available'}\n",
      "{'_id': ObjectId('683eaf59bf6c20c9c5900cc6'), 'Model': 'M3', 'Year': 2020, 'Transmission': 'Automatic', 'Fuel': 'Petrol', 'Price': 6200000, 'Mileage': {'Old': 9, 'New': 11}, 'Status': 'Sold'}\n",
      "{'_id': ObjectId('683eaf59bf6c20c9c5900cc7'), 'Model': 'X1', 'Year': 2014, 'Transmission': 'Manual', 'Fuel': 'Diesel', 'Price': 1400000, 'Mileage': {'Old': 15, 'New': 18}, 'Status': 'Available'}\n",
      "{'_id': ObjectId('683eaf59bf6c20c9c5900cc8'), 'Model': '118d', 'Year': 2016, 'Transmission': 'Manual', 'Fuel': 'Diesel', 'Price': 1300000, 'Mileage': {'Old': 16, 'New': 19}, 'Status': 'Sold'}\n",
      "{'_id': ObjectId('683eaf59bf6c20c9c5900cc9'), 'Model': 'X7', 'Year': 2023, 'Transmission': 'Automatic', 'Fuel': 'Diesel', 'Price': 10500000, 'Mileage': {'Old': 10, 'New': 13}, 'Status': 'Available'}\n",
      "{'_id': ObjectId('683eaf59bf6c20c9c5900cca'), 'Model': 'iX', 'Year': 2022, 'Transmission': 'Automatic', 'Fuel': 'Electric', 'Price': 11000000, 'Mileage': {'Old': 0, 'New': 390}, 'Status': 'Available'}\n",
      "{'_id': ObjectId('683eaf59bf6c20c9c5900ccb'), 'Model': 'M8', 'Year': 2021, 'Transmission': 'Automatic', 'Fuel': 'Petrol', 'Price': 9500000, 'Mileage': {'Old': 8, 'New': 11}, 'Status': 'Sold'}\n",
      "{'_id': ObjectId('683eaf59bf6c20c9c5900ccc'), 'Model': 'Z8', 'Year': 2008, 'Transmission': 'Manual', 'Fuel': 'Petrol', 'Price': 2000000, 'Mileage': {'Old': 9, 'New': 11}, 'Status': 'Available'}\n",
      "{'_id': ObjectId('683eaf59bf6c20c9c5900ccd'), 'Model': '730i', 'Year': 2013, 'Transmission': 'Automatic', 'Fuel': 'Petrol', 'Price': 3600000, 'Mileage': {'Old': 10, 'New': 13}, 'Status': 'Sold'}\n",
      "{'_id': ObjectId('683eaf59bf6c20c9c5900cce'), 'Model': 'X5', 'Year': 2015, 'Transmission': 'Automatic', 'Fuel': 'Diesel', 'Price': 3400000, 'Mileage': {'Old': 12, 'New': 15}, 'Status': 'Available'}\n",
      "{'_id': ObjectId('683eaf59bf6c20c9c5900ccf'), 'Model': '330Li', 'Year': 2022, 'Transmission': 'Automatic', 'Fuel': 'Petrol', 'Price': 4800000, 'Mileage': {'Old': 13, 'New': 16}, 'Status': 'Available'}\n",
      "{'_id': ObjectId('683eaf59bf6c20c9c5900cd0'), 'Model': 'M235i', 'Year': 2019, 'Transmission': 'Automatic', 'Fuel': 'Petrol', 'Price': 4000000, 'Mileage': {'Old': 12, 'New': 15}, 'Status': 'Sold'}\n",
      "{'_id': ObjectId('683eaf59bf6c20c9c5900cd1'), 'Model': '220d', 'Year': 2018, 'Transmission': 'Manual', 'Fuel': 'Diesel', 'Price': 2400000, 'Mileage': {'Old': 17, 'New': 20}, 'Status': 'Available'}\n"
     ]
    }
   ],
   "source": [
    "var=col.find()\n",
    "for i in var:\n",
    "    print(i)"
   ]
  },
  {
   "cell_type": "code",
   "execution_count": 10,
   "id": "b9da8cea",
   "metadata": {},
   "outputs": [
    {
     "name": "stdout",
     "output_type": "stream",
     "text": [
      "{'Model': '530i'}\n",
      "{'Model': '320d'}\n",
      "{'Model': 'X5'}\n",
      "{'Model': 'X1'}\n",
      "{'Model': 'M3'}\n",
      "{'Model': '740Li'}\n",
      "{'Model': 'X3'}\n",
      "{'Model': 'Z4'}\n",
      "{'Model': 'X6'}\n",
      "{'Model': '530d'}\n",
      "{'Model': '320i'}\n",
      "{'Model': 'M5'}\n",
      "{'Model': 'X7'}\n",
      "{'Model': '118d'}\n",
      "{'Model': 'i8'}\n",
      "{'Model': 'X2'}\n",
      "{'Model': 'M4'}\n",
      "{'Model': '525d'}\n",
      "{'Model': 'X4'}\n",
      "{'Model': '316i'}\n",
      "{'Model': '730Ld'}\n",
      "{'Model': 'X1'}\n",
      "{'Model': 'Z3'}\n",
      "{'Model': '525i'}\n",
      "{'Model': 'i3'}\n",
      "{'Model': 'M2'}\n",
      "{'Model': 'X5'}\n",
      "{'Model': '320d'}\n",
      "{'Model': 'Z4'}\n",
      "{'Model': 'M6'}\n",
      "{'Model': '118i'}\n",
      "{'Model': 'X6'}\n",
      "{'Model': '750Li'}\n",
      "{'Model': 'X3'}\n",
      "{'Model': '530e'}\n",
      "{'Model': 'Z4'}\n",
      "{'Model': '320i'}\n",
      "{'Model': 'M3'}\n",
      "{'Model': 'X1'}\n",
      "{'Model': '118d'}\n",
      "{'Model': 'X7'}\n",
      "{'Model': 'iX'}\n",
      "{'Model': 'M8'}\n",
      "{'Model': 'Z8'}\n",
      "{'Model': '730i'}\n",
      "{'Model': 'X5'}\n",
      "{'Model': '330Li'}\n",
      "{'Model': 'M235i'}\n",
      "{'Model': '220d'}\n"
     ]
    }
   ],
   "source": [
    "var=col.find({ },{\"_id\":0,\"Model\":1})\n",
    "for i in var:\n",
    "    print(i)"
   ]
  },
  {
   "cell_type": "code",
   "execution_count": 36,
   "id": "1c651889",
   "metadata": {},
   "outputs": [
    {
     "name": "stdout",
     "output_type": "stream",
     "text": [
      "{'Model': '530i', 'Year': 2010, 'Fuel': 'Petrol', 'Price': 700000, 'Mileage': {'Old': 12, 'New': 14}, 'Status': 'Available'}\n",
      "{'Model': '320d', 'Year': 2015, 'Fuel': 'Diesel', 'Price': 950000, 'Mileage': {'Old': 16, 'New': 19}, 'Status': 'Sold'}\n",
      "{'Model': 'X5', 'Year': 2018, 'Fuel': 'Diesel', 'Price': 3000000, 'Mileage': {'Old': 10, 'New': 13}, 'Status': 'Available'}\n",
      "{'Model': 'M3', 'Year': 2016, 'Fuel': 'Petrol', 'Price': 4200000, 'Mileage': {'Old': 8, 'New': 10}, 'Status': 'Sold'}\n",
      "{'Model': '740Li', 'Year': 2019, 'Fuel': 'Petrol', 'Price': 5800000, 'Mileage': {'Old': 7, 'New': 10}, 'Status': 'Available'}\n",
      "{'Model': 'X3', 'Year': 2017, 'Fuel': 'Diesel', 'Price': 2800000, 'Mileage': {'Old': 13, 'New': 16}, 'Status': 'Sold'}\n",
      "{'Model': 'Z4', 'Year': 2014, 'Fuel': 'Petrol', 'Price': 3200000, 'Mileage': {'Old': 9, 'New': 12}, 'Status': 'Available'}\n",
      "{'Model': 'X6', 'Year': 2021, 'Fuel': 'Diesel', 'Price': 6500000, 'Mileage': {'Old': 11, 'New': 14}, 'Status': 'Available'}\n",
      "{'Model': '530d', 'Year': 2013, 'Fuel': 'Diesel', 'Price': 1800000, 'Mileage': {'Old': 13, 'New': 16}, 'Status': 'Sold'}\n",
      "{'Model': '320i', 'Year': 2011, 'Fuel': 'Petrol', 'Price': 750000, 'Mileage': {'Old': 12, 'New': 15}, 'Status': 'Available'}\n",
      "{'Model': 'M5', 'Year': 2017, 'Fuel': 'Petrol', 'Price': 5800000, 'Mileage': {'Old': 7, 'New': 9}, 'Status': 'Sold'}\n",
      "{'Model': 'X7', 'Year': 2022, 'Fuel': 'Diesel', 'Price': 9800000, 'Mileage': {'Old': 10, 'New': 13}, 'Status': 'Available'}\n",
      "{'Model': '118d', 'Year': 2012, 'Fuel': 'Diesel', 'Price': 890000, 'Mileage': {'Old': 17, 'New': 20}, 'Status': 'Sold'}\n",
      "{'Model': 'i8', 'Year': 2019, 'Fuel': 'Hybrid', 'Price': 9000000, 'Mileage': {'Old': 14, 'New': 17}, 'Status': 'Available'}\n",
      "{'Model': 'X2', 'Year': 2021, 'Fuel': 'Petrol', 'Price': 3200000, 'Mileage': {'Old': 15, 'New': 18}, 'Status': 'Available'}\n",
      "{'Model': 'M4', 'Year': 2018, 'Fuel': 'Petrol', 'Price': 4500000, 'Mileage': {'Old': 9, 'New': 11}, 'Status': 'Sold'}\n",
      "{'Model': '525d', 'Year': 2014, 'Fuel': 'Diesel', 'Price': 2000000, 'Mileage': {'Old': 14, 'New': 17}, 'Status': 'Available'}\n",
      "{'Model': '316i', 'Year': 2010, 'Fuel': 'Petrol', 'Price': 600000, 'Mileage': {'Old': 11, 'New': 13}, 'Status': 'Sold'}\n",
      "{'Model': '730Ld', 'Year': 2016, 'Fuel': 'Diesel', 'Price': 5000000, 'Mileage': {'Old': 11, 'New': 14}, 'Status': 'Available'}\n",
      "{'Model': 'X1', 'Year': 2018, 'Fuel': 'Petrol', 'Price': 2200000, 'Mileage': {'Old': 13, 'New': 16}, 'Status': 'Sold'}\n",
      "{'Model': 'Z3', 'Year': 2009, 'Fuel': 'Petrol', 'Price': 450000, 'Mileage': {'Old': 10, 'New': 12}, 'Status': 'Available'}\n",
      "{'Model': '525i', 'Year': 2011, 'Fuel': 'Petrol', 'Price': 1000000, 'Mileage': {'Old': 12, 'New': 14}, 'Status': 'Sold'}\n",
      "{'Model': 'M2', 'Year': 2017, 'Fuel': 'Petrol', 'Price': 3800000, 'Mileage': {'Old': 9, 'New': 11}, 'Status': 'Available'}\n",
      "{'Model': 'X5', 'Year': 2021, 'Fuel': 'Diesel', 'Price': 6000000, 'Mileage': {'Old': 12, 'New': 15}, 'Status': 'Available'}\n",
      "{'Model': '320d', 'Year': 2013, 'Fuel': 'Diesel', 'Price': 1500000, 'Mileage': {'Old': 15, 'New': 18}, 'Status': 'Sold'}\n",
      "{'Model': 'Z4', 'Year': 2015, 'Fuel': 'Petrol', 'Price': 2800000, 'Mileage': {'Old': 10, 'New': 13}, 'Status': 'Available'}\n",
      "{'Model': 'M6', 'Year': 2014, 'Fuel': 'Petrol', 'Price': 5600000, 'Mileage': {'Old': 8, 'New': 10}, 'Status': 'Sold'}\n",
      "{'Model': '118i', 'Year': 2013, 'Fuel': 'Petrol', 'Price': 950000, 'Mileage': {'Old': 15, 'New': 18}, 'Status': 'Available'}\n",
      "{'Model': 'X6', 'Year': 2022, 'Fuel': 'Diesel', 'Price': 7200000, 'Mileage': {'Old': 11, 'New': 14}, 'Status': 'Available'}\n",
      "{'Model': '750Li', 'Year': 2018, 'Fuel': 'Petrol', 'Price': 8400000, 'Mileage': {'Old': 9, 'New': 12}, 'Status': 'Sold'}\n",
      "{'Model': 'X3', 'Year': 2016, 'Fuel': 'Diesel', 'Price': 2600000, 'Mileage': {'Old': 13, 'New': 15}, 'Status': 'Available'}\n",
      "{'Model': '530e', 'Year': 2021, 'Fuel': 'Hybrid', 'Price': 4800000, 'Mileage': {'Old': 18, 'New': 21}, 'Status': 'Available'}\n",
      "{'Model': 'Z4', 'Year': 2011, 'Fuel': 'Petrol', 'Price': 2400000, 'Mileage': {'Old': 11, 'New': 13}, 'Status': 'Sold'}\n",
      "{'Model': '320i', 'Year': 2015, 'Fuel': 'Petrol', 'Price': 1800000, 'Mileage': {'Old': 13, 'New': 16}, 'Status': 'Available'}\n",
      "{'Model': 'X1', 'Year': 2014, 'Fuel': 'Diesel', 'Price': 1400000, 'Mileage': {'Old': 15, 'New': 18}, 'Status': 'Available'}\n",
      "{'Model': '118d', 'Year': 2016, 'Fuel': 'Diesel', 'Price': 1300000, 'Mileage': {'Old': 16, 'New': 19}, 'Status': 'Sold'}\n",
      "{'Model': 'X7', 'Year': 2023, 'Fuel': 'Diesel', 'Price': 10500000, 'Mileage': {'Old': 10, 'New': 13}, 'Status': 'Available'}\n",
      "{'Model': 'iX', 'Year': 2022, 'Fuel': 'Electric', 'Price': 11000000, 'Mileage': {'Old': 0, 'New': 390}, 'Status': 'Available'}\n",
      "{'Model': 'M8', 'Year': 2021, 'Fuel': 'Petrol', 'Price': 9500000, 'Mileage': {'Old': 8, 'New': 11}, 'Status': 'Sold'}\n",
      "{'Model': 'Z8', 'Year': 2008, 'Fuel': 'Petrol', 'Price': 2000000, 'Mileage': {'Old': 9, 'New': 11}, 'Status': 'Available'}\n",
      "{'Model': '730i', 'Year': 2013, 'Fuel': 'Petrol', 'Price': 3600000, 'Mileage': {'Old': 10, 'New': 13}, 'Status': 'Sold'}\n",
      "{'Model': 'X5', 'Year': 2015, 'Fuel': 'Diesel', 'Price': 3400000, 'Mileage': {'Old': 12, 'New': 15}, 'Status': 'Available'}\n",
      "{'Model': '330Li', 'Year': 2022, 'Fuel': 'Petrol', 'Price': 4800000, 'Mileage': {'Old': 13, 'New': 16}, 'Status': 'Available'}\n",
      "{'Model': 'M235i', 'Year': 2019, 'Fuel': 'Petrol', 'Price': 4000000, 'Mileage': {'Old': 12, 'New': 15}, 'Status': 'Sold'}\n",
      "{'Model': '220d', 'Year': 2018, 'Fuel': 'Diesel', 'Price': 2400000, 'Mileage': {'Old': 17, 'New': 20}, 'Status': 'Available'}\n"
     ]
    }
   ],
   "source": [
    "var=col.find({},{\"_id\":0,\"Transmission\":0})\n",
    "for i in var:\n",
    "    print(i)"
   ]
  },
  {
   "cell_type": "code",
   "execution_count": 14,
   "id": "6d80eb0b",
   "metadata": {},
   "outputs": [
    {
     "name": "stdout",
     "output_type": "stream",
     "text": [
      "{'Model': '530i', 'Year': 2010, 'Transmission': 'Manual'}\n",
      "{'Model': '316i', 'Year': 2010, 'Transmission': 'Manual'}\n"
     ]
    }
   ],
   "source": [
    "var=col.find({\"Year\":2010,\"Transmission\":\"Manual\"},{\"_id\":0,\"Transmission\":1,\"Year\":1,\"Model\":1})\n",
    "for i in var:\n",
    "    print(i)"
   ]
  },
  {
   "cell_type": "code",
   "execution_count": 15,
   "id": "837534c3",
   "metadata": {},
   "outputs": [
    {
     "name": "stdout",
     "output_type": "stream",
     "text": [
      "{'Model': '530i', 'Year': 2010, 'Fuel': 'Petrol'}\n",
      "{'Model': 'X1', 'Year': 2020, 'Fuel': 'Petrol'}\n",
      "{'Model': 'M3', 'Year': 2016, 'Fuel': 'Petrol'}\n",
      "{'Model': '740Li', 'Year': 2019, 'Fuel': 'Petrol'}\n",
      "{'Model': 'Z4', 'Year': 2014, 'Fuel': 'Petrol'}\n",
      "{'Model': 'X6', 'Year': 2021, 'Fuel': 'Diesel'}\n",
      "{'Model': '320i', 'Year': 2011, 'Fuel': 'Petrol'}\n",
      "{'Model': 'M5', 'Year': 2017, 'Fuel': 'Petrol'}\n",
      "{'Model': 'X2', 'Year': 2021, 'Fuel': 'Petrol'}\n",
      "{'Model': 'M4', 'Year': 2018, 'Fuel': 'Petrol'}\n",
      "{'Model': '316i', 'Year': 2010, 'Fuel': 'Petrol'}\n",
      "{'Model': 'X1', 'Year': 2018, 'Fuel': 'Petrol'}\n",
      "{'Model': 'Z3', 'Year': 2009, 'Fuel': 'Petrol'}\n",
      "{'Model': '525i', 'Year': 2011, 'Fuel': 'Petrol'}\n",
      "{'Model': 'M2', 'Year': 2017, 'Fuel': 'Petrol'}\n",
      "{'Model': 'X5', 'Year': 2021, 'Fuel': 'Diesel'}\n",
      "{'Model': 'Z4', 'Year': 2015, 'Fuel': 'Petrol'}\n",
      "{'Model': 'M6', 'Year': 2014, 'Fuel': 'Petrol'}\n",
      "{'Model': '118i', 'Year': 2013, 'Fuel': 'Petrol'}\n",
      "{'Model': '750Li', 'Year': 2018, 'Fuel': 'Petrol'}\n",
      "{'Model': '530e', 'Year': 2021, 'Fuel': 'Hybrid'}\n",
      "{'Model': 'Z4', 'Year': 2011, 'Fuel': 'Petrol'}\n",
      "{'Model': '320i', 'Year': 2015, 'Fuel': 'Petrol'}\n",
      "{'Model': 'M3', 'Year': 2020, 'Fuel': 'Petrol'}\n",
      "{'Model': 'M8', 'Year': 2021, 'Fuel': 'Petrol'}\n",
      "{'Model': 'Z8', 'Year': 2008, 'Fuel': 'Petrol'}\n",
      "{'Model': '730i', 'Year': 2013, 'Fuel': 'Petrol'}\n",
      "{'Model': '330Li', 'Year': 2022, 'Fuel': 'Petrol'}\n",
      "{'Model': 'M235i', 'Year': 2019, 'Fuel': 'Petrol'}\n"
     ]
    }
   ],
   "source": [
    "var=col.find({\"$or\":[{\"Year\":2021},{\"Fuel\":\"Petrol\"}]},{\"_id\":0,\"Fuel\":1,\"Year\":1,\"Model\":1})\n",
    "for i in var:\n",
    "    print(i)"
   ]
  },
  {
   "cell_type": "markdown",
   "id": "20d3aee8",
   "metadata": {},
   "source": [
    "year 2010 transmission manual price gt than 10lah"
   ]
  },
  {
   "cell_type": "code",
   "execution_count": 37,
   "id": "0157ac8a",
   "metadata": {},
   "outputs": [
    {
     "name": "stdout",
     "output_type": "stream",
     "text": [
      "{'Model': '530i', 'Year': 2010, 'Fuel': 'Petrol'}\n",
      "{'Model': '320d', 'Year': 2015, 'Fuel': 'Diesel'}\n",
      "{'Model': 'X5', 'Year': 2018, 'Fuel': 'Diesel'}\n",
      "{'Model': 'M3', 'Year': 2016, 'Fuel': 'Petrol'}\n",
      "{'Model': '740Li', 'Year': 2019, 'Fuel': 'Petrol'}\n",
      "{'Model': 'X3', 'Year': 2017, 'Fuel': 'Diesel'}\n",
      "{'Model': 'Z4', 'Year': 2014, 'Fuel': 'Petrol'}\n",
      "{'Model': 'X6', 'Year': 2021, 'Fuel': 'Diesel'}\n",
      "{'Model': '530d', 'Year': 2013, 'Fuel': 'Diesel'}\n",
      "{'Model': '320i', 'Year': 2011, 'Fuel': 'Petrol'}\n",
      "{'Model': 'M5', 'Year': 2017, 'Fuel': 'Petrol'}\n",
      "{'Model': 'X7', 'Year': 2022, 'Fuel': 'Diesel'}\n",
      "{'Model': '118d', 'Year': 2012, 'Fuel': 'Diesel'}\n",
      "{'Model': 'i8', 'Year': 2019, 'Fuel': 'Hybrid'}\n",
      "{'Model': 'X2', 'Year': 2021, 'Fuel': 'Petrol'}\n",
      "{'Model': 'M4', 'Year': 2018, 'Fuel': 'Petrol'}\n",
      "{'Model': '525d', 'Year': 2014, 'Fuel': 'Diesel'}\n",
      "{'Model': '316i', 'Year': 2010, 'Fuel': 'Petrol'}\n",
      "{'Model': '730Ld', 'Year': 2016, 'Fuel': 'Diesel'}\n",
      "{'Model': 'X1', 'Year': 2018, 'Fuel': 'Petrol'}\n",
      "{'Model': 'Z3', 'Year': 2009, 'Fuel': 'Petrol'}\n",
      "{'Model': '525i', 'Year': 2011, 'Fuel': 'Petrol'}\n",
      "{'Model': 'M2', 'Year': 2017, 'Fuel': 'Petrol'}\n",
      "{'Model': 'X5', 'Year': 2021, 'Fuel': 'Diesel'}\n",
      "{'Model': '320d', 'Year': 2013, 'Fuel': 'Diesel'}\n",
      "{'Model': 'Z4', 'Year': 2015, 'Fuel': 'Petrol'}\n",
      "{'Model': 'M6', 'Year': 2014, 'Fuel': 'Petrol'}\n",
      "{'Model': '118i', 'Year': 2013, 'Fuel': 'Petrol'}\n",
      "{'Model': 'X6', 'Year': 2022, 'Fuel': 'Diesel'}\n",
      "{'Model': '750Li', 'Year': 2018, 'Fuel': 'Petrol'}\n",
      "{'Model': 'X3', 'Year': 2016, 'Fuel': 'Diesel'}\n",
      "{'Model': '530e', 'Year': 2021, 'Fuel': 'Hybrid'}\n",
      "{'Model': 'Z4', 'Year': 2011, 'Fuel': 'Petrol'}\n",
      "{'Model': '320i', 'Year': 2015, 'Fuel': 'Petrol'}\n",
      "{'Model': 'X1', 'Year': 2014, 'Fuel': 'Diesel'}\n",
      "{'Model': '118d', 'Year': 2016, 'Fuel': 'Diesel'}\n",
      "{'Model': 'X7', 'Year': 2023, 'Fuel': 'Diesel'}\n",
      "{'Model': 'iX', 'Year': 2022, 'Fuel': 'Electric'}\n",
      "{'Model': 'M8', 'Year': 2021, 'Fuel': 'Petrol'}\n",
      "{'Model': 'Z8', 'Year': 2008, 'Fuel': 'Petrol'}\n",
      "{'Model': '730i', 'Year': 2013, 'Fuel': 'Petrol'}\n",
      "{'Model': 'X5', 'Year': 2015, 'Fuel': 'Diesel'}\n",
      "{'Model': '330Li', 'Year': 2022, 'Fuel': 'Petrol'}\n",
      "{'Model': 'M235i', 'Year': 2019, 'Fuel': 'Petrol'}\n",
      "{'Model': '220d', 'Year': 2018, 'Fuel': 'Diesel'}\n"
     ]
    }
   ],
   "source": [
    "\n",
    "var=col.find({\"$or\":[{\"Year\":2010},{\"Transmission\":\"Manual\"},{\"Price\":{\"$gt\":100000}}]},{\"_id\":0,\"Fuel\":1,\"Year\":1,\"Model\":1})\n",
    "for i in var:\n",
    "    print(i)"
   ]
  },
  {
   "cell_type": "markdown",
   "id": "e20ccc43",
   "metadata": {},
   "source": [
    "year 2016"
   ]
  },
  {
   "cell_type": "code",
   "execution_count": 17,
   "id": "f1ae3486",
   "metadata": {},
   "outputs": [
    {
     "name": "stdout",
     "output_type": "stream",
     "text": [
      "{'Model': 'M3', 'Transmission': 'Manual'}\n",
      "{'Model': '730Ld', 'Transmission': 'Automatic'}\n",
      "{'Model': 'X3', 'Transmission': 'Automatic'}\n",
      "{'Model': '118d', 'Transmission': 'Manual'}\n"
     ]
    }
   ],
   "source": [
    "var=col.find({\"Year\":2016},{\"Model\":1,\"Transmission\":1,\"_id\":0})\n",
    "for i in var:\n",
    "    print(i)"
   ]
  },
  {
   "cell_type": "markdown",
   "id": "edbc96f1",
   "metadata": {},
   "source": [
    "transmission automatic and old mileage gt than 15\n"
   ]
  },
  {
   "cell_type": "code",
   "execution_count": 20,
   "id": "f23c1159",
   "metadata": {},
   "outputs": [
    {
     "name": "stdout",
     "output_type": "stream",
     "text": [
      "{'Model': '320d', 'Year': 2015, 'Transmission': 'Automatic', 'Fuel': 'Diesel', 'Mileage': {'Old': 16}}\n",
      "{'Model': '530e', 'Year': 2021, 'Transmission': 'Automatic', 'Fuel': 'Hybrid', 'Mileage': {'Old': 18}}\n"
     ]
    }
   ],
   "source": [
    "var=col.find({\"$and\":[{\"Transmission\":\"Automatic\"},{\"Mileage.Old\":{\"$gt\":15}}]},{\"_id\":0,\"Fuel\":1,\"Year\":1,\"Model\":1,\"Mileage.Old\":1,\"Transmission\":1})\n",
    "for i in var:\n",
    "    print(i)"
   ]
  },
  {
   "cell_type": "markdown",
   "id": "a4605fe3",
   "metadata": {},
   "source": [
    "2020 status sold "
   ]
  },
  {
   "cell_type": "code",
   "execution_count": 21,
   "id": "c7ec6c56",
   "metadata": {},
   "outputs": [
    {
     "data": {
      "text/plain": [
       "UpdateResult({'n': 4, 'nModified': 3, 'ok': 1.0, 'updatedExisting': True}, acknowledged=True)"
      ]
     },
     "execution_count": 21,
     "metadata": {},
     "output_type": "execute_result"
    }
   ],
   "source": [
    "col.update_many({\"Year\":2020},{\"$set\":{\"Status\":\"Sold\"}})"
   ]
  },
  {
   "cell_type": "markdown",
   "id": "84994b8d",
   "metadata": {},
   "source": [
    "update year 2010,fuel petrol,decrement a mileage by 1"
   ]
  },
  {
   "cell_type": "code",
   "execution_count": 22,
   "id": "c3bdf3d3",
   "metadata": {},
   "outputs": [
    {
     "data": {
      "text/plain": [
       "UpdateResult({'n': 2, 'nModified': 2, 'ok': 1.0, 'updatedExisting': True}, acknowledged=True)"
      ]
     },
     "execution_count": 22,
     "metadata": {},
     "output_type": "execute_result"
    }
   ],
   "source": [
    "col.update_many({\"Year\":2010,\"Fuel\":\"Petrol\"},{\"$inc\":{\"Mileage.New\":-1}})"
   ]
  },
  {
   "cell_type": "markdown",
   "id": "2bff7212",
   "metadata": {},
   "source": [
    "sort with year with limit 10"
   ]
  },
  {
   "cell_type": "code",
   "execution_count": 24,
   "id": "f2662e6a",
   "metadata": {},
   "outputs": [
    {
     "name": "stdout",
     "output_type": "stream",
     "text": [
      "{'Model': 'X7', 'Year': 2023, 'Fuel': 'Diesel'}\n",
      "{'Model': '330Li', 'Year': 2022, 'Fuel': 'Petrol'}\n",
      "{'Model': 'X7', 'Year': 2022, 'Fuel': 'Diesel'}\n",
      "{'Model': 'iX', 'Year': 2022, 'Fuel': 'Electric'}\n",
      "{'Model': 'X6', 'Year': 2022, 'Fuel': 'Diesel'}\n",
      "{'Model': 'X6', 'Year': 2021, 'Fuel': 'Diesel'}\n",
      "{'Model': 'M8', 'Year': 2021, 'Fuel': 'Petrol'}\n",
      "{'Model': '530e', 'Year': 2021, 'Fuel': 'Hybrid'}\n",
      "{'Model': 'X5', 'Year': 2021, 'Fuel': 'Diesel'}\n",
      "{'Model': 'X2', 'Year': 2021, 'Fuel': 'Petrol'}\n"
     ]
    }
   ],
   "source": [
    "var=col.find({},{\"_id\":0,\"Fuel\":1,\"Year\":1,\"Model\":1}).sort({\"Year\":-1}).limit(10)\n",
    "for i in var:\n",
    "    print(i)"
   ]
  },
  {
   "cell_type": "markdown",
   "id": "45052b9e",
   "metadata": {},
   "source": [
    "count old mileage greater than 16"
   ]
  },
  {
   "cell_type": "code",
   "execution_count": 25,
   "id": "f11a163f",
   "metadata": {},
   "outputs": [
    {
     "name": "stdout",
     "output_type": "stream",
     "text": [
      "3\n"
     ]
    }
   ],
   "source": [
    "c=0\n",
    "var=col.find({\"Mileage.Old\":{\"$gt\":16}},{\"_id\":0,\"Fuel\":1,\"Year\":1,\"Model\":1,\"Mileage.Old\":1})\n",
    "for i in var:\n",
    "    c=c+1\n",
    "print(c)"
   ]
  },
  {
   "cell_type": "code",
   "execution_count": 29,
   "id": "66df972e",
   "metadata": {},
   "outputs": [
    {
     "name": "stdout",
     "output_type": "stream",
     "text": [
      "3\n"
     ]
    }
   ],
   "source": [
    "var=col.count_documents({\"Mileage.Old\":{\"$gt\":16}})\n",
    "\n",
    "print(var)"
   ]
  },
  {
   "cell_type": "markdown",
   "id": "7a45ff1f",
   "metadata": {},
   "source": [
    "delete "
   ]
  },
  {
   "cell_type": "code",
   "execution_count": 30,
   "id": "0327a4ef",
   "metadata": {},
   "outputs": [
    {
     "data": {
      "text/plain": [
       "DeleteResult({'n': 4, 'ok': 1.0}, acknowledged=True)"
      ]
     },
     "execution_count": 30,
     "metadata": {},
     "output_type": "execute_result"
    }
   ],
   "source": [
    "col.delete_many({\"Year\":2020})"
   ]
  },
  {
   "cell_type": "markdown",
   "id": "b0557698",
   "metadata": {},
   "source": [
    "model name start with 3"
   ]
  },
  {
   "cell_type": "code",
   "execution_count": null,
   "id": "97513c6a",
   "metadata": {},
   "outputs": [
    {
     "name": "stdout",
     "output_type": "stream",
     "text": [
      "{'Model': 'M3', 'Year': 2016, 'Fuel': 'Petrol', 'Mileage': {'Old': 8}}\n",
      "{'Model': 'X3', 'Year': 2017, 'Fuel': 'Diesel', 'Mileage': {'Old': 13}}\n",
      "{'Model': 'Z3', 'Year': 2009, 'Fuel': 'Petrol', 'Mileage': {'Old': 10}}\n",
      "{'Model': 'X3', 'Year': 2016, 'Fuel': 'Diesel', 'Mileage': {'Old': 13}}\n"
     ]
    }
   ],
   "source": [
    "var=col.find({\"Model\":{\"$regex\":\"^3\"}},{\"_id\":0,\"Fuel\":1,\"Year\":1,\"Model\":1,\"Mileage.Old\":1})\n",
    "for i in var:\n",
    "    print(i)"
   ]
  },
  {
   "cell_type": "markdown",
   "id": "25f1e440",
   "metadata": {},
   "source": [
    "model name ending with 3"
   ]
  },
  {
   "cell_type": "code",
   "execution_count": 33,
   "id": "e369f30f",
   "metadata": {},
   "outputs": [
    {
     "name": "stdout",
     "output_type": "stream",
     "text": [
      "{'Model': 'M3', 'Year': 2016, 'Fuel': 'Petrol', 'Mileage': {'Old': 8}}\n",
      "{'Model': 'X3', 'Year': 2017, 'Fuel': 'Diesel', 'Mileage': {'Old': 13}}\n",
      "{'Model': 'Z3', 'Year': 2009, 'Fuel': 'Petrol', 'Mileage': {'Old': 10}}\n",
      "{'Model': 'X3', 'Year': 2016, 'Fuel': 'Diesel', 'Mileage': {'Old': 13}}\n"
     ]
    }
   ],
   "source": [
    "var=col.find({\"Model\":{\"$regex\":\"3$\"}},{\"_id\":0,\"Fuel\":1,\"Year\":1,\"Model\":1,\"Mileage.Old\":1})\n",
    "for i in var:\n",
    "    print(i)"
   ]
  },
  {
   "cell_type": "markdown",
   "id": "2322afba",
   "metadata": {},
   "source": [
    "new mileage between 10 and 15"
   ]
  },
  {
   "cell_type": "code",
   "execution_count": 35,
   "id": "fd620bda",
   "metadata": {},
   "outputs": [
    {
     "name": "stdout",
     "output_type": "stream",
     "text": [
      "{'Model': '530i', 'Year': 2010, 'Fuel': 'Petrol', 'Mileage': {'New': 14}}\n",
      "{'Model': 'X5', 'Year': 2018, 'Fuel': 'Diesel', 'Mileage': {'New': 13}}\n",
      "{'Model': 'Z4', 'Year': 2014, 'Fuel': 'Petrol', 'Mileage': {'New': 12}}\n",
      "{'Model': 'X6', 'Year': 2021, 'Fuel': 'Diesel', 'Mileage': {'New': 14}}\n",
      "{'Model': 'X7', 'Year': 2022, 'Fuel': 'Diesel', 'Mileage': {'New': 13}}\n",
      "{'Model': 'M4', 'Year': 2018, 'Fuel': 'Petrol', 'Mileage': {'New': 11}}\n",
      "{'Model': '316i', 'Year': 2010, 'Fuel': 'Petrol', 'Mileage': {'New': 13}}\n",
      "{'Model': '730Ld', 'Year': 2016, 'Fuel': 'Diesel', 'Mileage': {'New': 14}}\n",
      "{'Model': 'Z3', 'Year': 2009, 'Fuel': 'Petrol', 'Mileage': {'New': 12}}\n",
      "{'Model': '525i', 'Year': 2011, 'Fuel': 'Petrol', 'Mileage': {'New': 14}}\n",
      "{'Model': 'M2', 'Year': 2017, 'Fuel': 'Petrol', 'Mileage': {'New': 11}}\n",
      "{'Model': 'Z4', 'Year': 2015, 'Fuel': 'Petrol', 'Mileage': {'New': 13}}\n",
      "{'Model': 'X6', 'Year': 2022, 'Fuel': 'Diesel', 'Mileage': {'New': 14}}\n",
      "{'Model': '750Li', 'Year': 2018, 'Fuel': 'Petrol', 'Mileage': {'New': 12}}\n",
      "{'Model': 'Z4', 'Year': 2011, 'Fuel': 'Petrol', 'Mileage': {'New': 13}}\n",
      "{'Model': 'X7', 'Year': 2023, 'Fuel': 'Diesel', 'Mileage': {'New': 13}}\n",
      "{'Model': 'M8', 'Year': 2021, 'Fuel': 'Petrol', 'Mileage': {'New': 11}}\n",
      "{'Model': 'Z8', 'Year': 2008, 'Fuel': 'Petrol', 'Mileage': {'New': 11}}\n",
      "{'Model': '730i', 'Year': 2013, 'Fuel': 'Petrol', 'Mileage': {'New': 13}}\n"
     ]
    }
   ],
   "source": [
    "var=col.find({\"Mileage.New\":{\"$gt\":10,\"$lt\":15}},{\"_id\":0,\"Fuel\":1,\"Year\":1,\"Model\":1,\"Mileage.New\":1})\n",
    "for i in var:\n",
    "    print(i)"
   ]
  },
  {
   "cell_type": "markdown",
   "id": "e250d208",
   "metadata": {},
   "source": [
    "using agrregate"
   ]
  },
  {
   "cell_type": "code",
   "execution_count": 40,
   "id": "78bb6926",
   "metadata": {},
   "outputs": [
    {
     "name": "stdout",
     "output_type": "stream",
     "text": [
      "{'_id': 'X1', 'Aveerage': 1800000.0}\n",
      "{'_id': '525i', 'Aveerage': 1000000.0}\n",
      "{'_id': 'M3', 'Aveerage': 4200000.0}\n",
      "{'_id': 'X5', 'Aveerage': 4133333.3333333335}\n",
      "{'_id': 'X6', 'Aveerage': 6850000.0}\n",
      "{'_id': '730i', 'Aveerage': 3600000.0}\n",
      "{'_id': 'M4', 'Aveerage': 4500000.0}\n",
      "{'_id': '530d', 'Aveerage': 1800000.0}\n",
      "{'_id': '220d', 'Aveerage': 2400000.0}\n",
      "{'_id': 'iX', 'Aveerage': 11000000.0}\n",
      "{'_id': 'Z3', 'Aveerage': 450000.0}\n",
      "{'_id': 'X7', 'Aveerage': 10150000.0}\n",
      "{'_id': '118i', 'Aveerage': 950000.0}\n",
      "{'_id': '320d', 'Aveerage': 1225000.0}\n",
      "{'_id': 'M5', 'Aveerage': 5800000.0}\n",
      "{'_id': 'i8', 'Aveerage': 9000000.0}\n",
      "{'_id': '525d', 'Aveerage': 2000000.0}\n",
      "{'_id': 'M8', 'Aveerage': 9500000.0}\n",
      "{'_id': 'M2', 'Aveerage': 3800000.0}\n",
      "{'_id': 'X2', 'Aveerage': 3200000.0}\n",
      "{'_id': '530e', 'Aveerage': 4800000.0}\n",
      "{'_id': '330Li', 'Aveerage': 4800000.0}\n",
      "{'_id': '530i', 'Aveerage': 700000.0}\n",
      "{'_id': 'M6', 'Aveerage': 5600000.0}\n",
      "{'_id': '740Li', 'Aveerage': 5800000.0}\n",
      "{'_id': 'X3', 'Aveerage': 2700000.0}\n",
      "{'_id': 'Z8', 'Aveerage': 2000000.0}\n",
      "{'_id': '320i', 'Aveerage': 1275000.0}\n",
      "{'_id': '118d', 'Aveerage': 1095000.0}\n",
      "{'_id': 'Z4', 'Aveerage': 2800000.0}\n",
      "{'_id': '316i', 'Aveerage': 600000.0}\n",
      "{'_id': 'M235i', 'Aveerage': 4000000.0}\n",
      "{'_id': '750Li', 'Aveerage': 8400000.0}\n",
      "{'_id': '730Ld', 'Aveerage': 5000000.0}\n"
     ]
    }
   ],
   "source": [
    "var=col.aggregate([{\"$group\":{\"_id\":\"$Model\",\"Aveerage\":{\"$avg\":\"$Price\"}}}])\n",
    "for i in var:\n",
    "    print(i)"
   ]
  },
  {
   "cell_type": "code",
   "execution_count": 4,
   "id": "01cc77da",
   "metadata": {},
   "outputs": [
    {
     "name": "stdout",
     "output_type": "stream",
     "text": [
      "{'_id': 'Z3', 'Averagee': 450000.0}\n",
      "{'_id': '316i', 'Averagee': 600000.0}\n",
      "{'_id': '530i', 'Averagee': 700000.0}\n"
     ]
    }
   ],
   "source": [
    "var=col.aggregate([{\"$group\":{\"_id\":\"$Model\",\"Averagee\":{\"$avg\":\"$Price\"}}},{\"$sort\":{\"Averagee\":1}},{\"$limit\":3}])\n",
    "for i in var:\n",
    "    print(i)"
   ]
  }
 ],
 "metadata": {
  "kernelspec": {
   "display_name": "Python 3",
   "language": "python",
   "name": "python3"
  },
  "language_info": {
   "codemirror_mode": {
    "name": "ipython",
    "version": 3
   },
   "file_extension": ".py",
   "mimetype": "text/x-python",
   "name": "python",
   "nbconvert_exporter": "python",
   "pygments_lexer": "ipython3",
   "version": "3.13.0"
  }
 },
 "nbformat": 4,
 "nbformat_minor": 5
}
