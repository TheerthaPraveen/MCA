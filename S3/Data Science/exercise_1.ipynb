{
 "cells": [
  {
   "cell_type": "markdown",
   "id": "6a30b2ef",
   "metadata": {},
   "source": [
    "convert fahrenheit degree to centigrade degree."
   ]
  },
  {
   "cell_type": "code",
   "execution_count": 2,
   "id": "76444254",
   "metadata": {},
   "outputs": [
    {
     "name": "stdout",
     "output_type": "stream",
     "text": [
      "Fahrenheit Values =  [ 72  43 114  89  65]\n",
      "Celsius values =  [22.22222222  6.11111111 45.55555556 31.66666667 18.33333333]\n"
     ]
    }
   ],
   "source": [
    "import numpy as np\n",
    "fahrenheit=np.array((72,43,114,89,65))\n",
    "celsius=(fahrenheit-32)*5/9\n",
    "print(\"Fahrenheit Values = \",fahrenheit)\n",
    "print(\"Celsius values = \",celsius)"
   ]
  },
  {
   "cell_type": "markdown",
   "id": "18844956",
   "metadata": {},
   "source": [
    "create a random array with 1000 elements and compute the average variance, standard deviation."
   ]
  },
  {
   "cell_type": "code",
   "execution_count": 2,
   "id": "7c76c38b",
   "metadata": {},
   "outputs": [
    {
     "name": "stdout",
     "output_type": "stream",
     "text": [
      "Average is :  0.5070043666541948\n",
      "Variance is :  0.08377770155220766\n",
      "Standard Deviation is :  0.2894437796053107\n"
     ]
    }
   ],
   "source": [
    "arr=np.random.rand(1000)\n",
    "average=np.mean(arr)\n",
    "variance=np.var(arr)\n",
    "standard_deviation=np.std(arr)\n",
    "print(\"Average is : \",average)\n",
    "print(\"Variance is : \",variance)\n",
    "print(\"Standard Deviation is : \",standard_deviation)"
   ]
  },
  {
   "cell_type": "markdown",
   "id": "568be421",
   "metadata": {},
   "source": [
    "convert angles from degrees to randians."
   ]
  },
  {
   "cell_type": "code",
   "execution_count": 3,
   "id": "880207d0",
   "metadata": {},
   "outputs": [
    {
     "name": "stdout",
     "output_type": "stream",
     "text": [
      "Degree :  [23 67 90 29 50]\n",
      "Radian :  [0.40142573 1.1693706  1.57079633 0.50614548 0.87266463]\n"
     ]
    }
   ],
   "source": [
    "degree=np.array((23,67,90,29,50))\n",
    "radian=np.deg2rad(degree)\n",
    "print(\"Degree : \",degree)\n",
    "print(\"Radian : \",radian)"
   ]
  },
  {
   "cell_type": "markdown",
   "id": "b9881015",
   "metadata": {},
   "source": [
    "Calculate difference between neighbouring elements ."
   ]
  },
  {
   "cell_type": "code",
   "execution_count": 4,
   "id": "bed35209",
   "metadata": {},
   "outputs": [
    {
     "name": "stdout",
     "output_type": "stream",
     "text": [
      "New array is :  [ 15  72 -44  18]\n"
     ]
    }
   ],
   "source": [
    "numbers=np.array((2,17,89,45,63))\n",
    "difference=np.diff(numbers)\n",
    "print(\"New array is : \",difference)"
   ]
  },
  {
   "cell_type": "markdown",
   "id": "2d82e3fb",
   "metadata": {},
   "source": [
    "To sort a given complex array using the real part and imaginary part."
   ]
  },
  {
   "cell_type": "code",
   "execution_count": 5,
   "id": "69ed76d2",
   "metadata": {},
   "outputs": [
    {
     "name": "stdout",
     "output_type": "stream",
     "text": [
      "Sorted array is: [2.+1.j 3.+6.j 4.+2.j 5.+4.j 8.+2.j]\n"
     ]
    }
   ],
   "source": [
    "array = np.array([2+1j, 4+2j, 3+6j, 8+2j, 5+4j])\n",
    "indices = np.lexsort((array.imag, array.real))\n",
    "sorted_array = array[indices]\n",
    "print(\"Sorted array is:\", sorted_array)"
   ]
  },
  {
   "cell_type": "markdown",
   "id": "f5713a83",
   "metadata": {},
   "source": [
    "To create 1D Array with random numbers and print values greater than 4."
   ]
  },
  {
   "cell_type": "code",
   "execution_count": 6,
   "id": "5e7279a7",
   "metadata": {},
   "outputs": [
    {
     "name": "stdout",
     "output_type": "stream",
     "text": [
      "[2 7 7 5 6 7 6 8 1 7]\n",
      "7\n",
      "7\n",
      "5\n",
      "6\n",
      "7\n",
      "6\n",
      "8\n",
      "7\n"
     ]
    }
   ],
   "source": [
    "array1=np.random.randint(1,10,10) #low,high,size\n",
    "print(array1)\n",
    "for x in array1:\n",
    "    if x>4:\n",
    "        print(x)"
   ]
  },
  {
   "cell_type": "markdown",
   "id": "713edbe1",
   "metadata": {},
   "source": [
    "Create a 1D array with random numbers and search a particular number given by user."
   ]
  },
  {
   "cell_type": "code",
   "execution_count": null,
   "id": "158e16ee",
   "metadata": {},
   "outputs": [
    {
     "name": "stdout",
     "output_type": "stream",
     "text": [
      "[2 3 4 5 6 8 5 1 8 3]\n"
     ]
    }
   ],
   "source": [
    "array2=np.random.randint(1,9,10)\n",
    "print(array2)\n",
    "num=int(input(\"Enter the number to search :\"))\n",
    "if num in array2:\n",
    "    print(num ,\"found in array\")\n",
    "else:\n",
    "    print(num,\"not found in array\")"
   ]
  },
  {
   "cell_type": "markdown",
   "id": "18bdf467",
   "metadata": {},
   "source": [
    "To save a given array to text file and load it."
   ]
  },
  {
   "cell_type": "code",
   "execution_count": 3,
   "id": "3a5990ac",
   "metadata": {},
   "outputs": [
    {
     "name": "stdout",
     "output_type": "stream",
     "text": [
      "Original array : [34 67 23 56 43]\n",
      "Loaded [34. 67. 23. 56. 43.]\n"
     ]
    }
   ],
   "source": [
    "array3=np.array((34,67,23,56,43))\n",
    "print(\"Original array :\",array3)\n",
    "np.savetxt(\"array4.txt\",array3)\n",
    "load=np.loadtxt(\"array4.txt\")\n",
    "print(\"Loaded\",load)"
   ]
  },
  {
   "cell_type": "markdown",
   "id": "87896464",
   "metadata": {},
   "source": [
    "To create an array of all even integers from 30 to 60."
   ]
  },
  {
   "cell_type": "code",
   "execution_count": 4,
   "id": "91633ec6",
   "metadata": {},
   "outputs": [
    {
     "name": "stdout",
     "output_type": "stream",
     "text": [
      "Even numbers between 30 and 60: [30 32 34 36 38 40 42 44 46 48 50 52 54 56 58 60]\n"
     ]
    }
   ],
   "source": [
    "array4=np.arange(30,61,2)\n",
    "print(\"Even numbers between 30 and 60:\",array4)"
   ]
  },
  {
   "cell_type": "markdown",
   "id": "61aa0539",
   "metadata": {},
   "source": [
    "To compute sum of all elements,sum of each column and sum of each row of a given array.\n",
    "\n"
   ]
  },
  {
   "cell_type": "code",
   "execution_count": 5,
   "id": "c5976c85",
   "metadata": {},
   "outputs": [
    {
     "name": "stdout",
     "output_type": "stream",
     "text": [
      "Original Matrix : [[1 2 3]\n",
      " [4 5 6]\n",
      " [7 8 9]]\n",
      "Sum is : 45\n",
      "Sum of column : [12 15 18]\n",
      "Sum of row: [ 6 15 24]\n"
     ]
    }
   ],
   "source": [
    "p=np.array([[1,2,3],[4,5,6],[7,8,9]])\n",
    "print(\"Original Matrix :\",p)\n",
    "sum=np.sum(p)\n",
    "print(\"Sum is :\",sum)\n",
    "col=np.sum(p,axis=0)\n",
    "print(\"Sum of column :\",col)\n",
    "row=np.sum(p,axis=1)\n",
    "print(\"Sum of row:\",row)"
   ]
  }
 ],
 "metadata": {
  "kernelspec": {
   "display_name": "Python 3",
   "language": "python",
   "name": "python3"
  },
  "language_info": {
   "codemirror_mode": {
    "name": "ipython",
    "version": 3
   },
   "file_extension": ".py",
   "mimetype": "text/x-python",
   "name": "python",
   "nbconvert_exporter": "python",
   "pygments_lexer": "ipython3",
   "version": "3.13.5"
  }
 },
 "nbformat": 4,
 "nbformat_minor": 5
}
