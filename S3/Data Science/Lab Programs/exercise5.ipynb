{
 "cells": [
  {
   "cell_type": "markdown",
   "id": "afceb261",
   "metadata": {},
   "source": [
    "KNN (K Nearest Neighbour)"
   ]
  },
  {
   "cell_type": "code",
   "execution_count": 1,
   "id": "407516cc",
   "metadata": {},
   "outputs": [
    {
     "name": "stdout",
     "output_type": "stream",
     "text": [
      "Accuracy: 0.9555555555555556\n",
      "['setosa']\n"
     ]
    }
   ],
   "source": [
    "from sklearn.datasets import load_iris\n",
    "from sklearn.model_selection import train_test_split \n",
    "from sklearn.neighbors import KNeighborsClassifier\n",
    "from sklearn import metrics\n",
    "iris=load_iris()\n",
    "x=iris.data\n",
    "y=iris.target\n",
    "x_train,x_test,y_train,y_test=train_test_split(x,y,test_size=0.3) # 30% for testing data\n",
    "c_knn=KNeighborsClassifier(n_neighbors=3)\n",
    "c_knn.fit(x_train,y_train)\n",
    "y_pred=c_knn.predict(x_test)\n",
    "print(\"Accuracy:\",metrics.accuracy_score(y_test,y_pred))\n",
    "sample=[[2,2,2,2]]\n",
    "pred=c_knn.predict(sample)\n",
    "pred_v=[iris.target_names[p]for p in pred]\n",
    "print(pred_v)"
   ]
  }
 ],
 "metadata": {
  "kernelspec": {
   "display_name": "base",
   "language": "python",
   "name": "python3"
  },
  "language_info": {
   "codemirror_mode": {
    "name": "ipython",
    "version": 3
   },
   "file_extension": ".py",
   "mimetype": "text/x-python",
   "name": "python",
   "nbconvert_exporter": "python",
   "pygments_lexer": "ipython3",
   "version": "3.12.4"
  }
 },
 "nbformat": 4,
 "nbformat_minor": 5
}
