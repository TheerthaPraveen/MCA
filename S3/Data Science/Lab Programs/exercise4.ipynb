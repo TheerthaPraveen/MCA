{
 "cells": [
  {
   "cell_type": "markdown",
   "id": "1a3530fa",
   "metadata": {},
   "source": [
    "Program to implement list to series conversion"
   ]
  },
  {
   "cell_type": "code",
   "execution_count": 1,
   "id": "be5b2c5e",
   "metadata": {},
   "outputs": [
    {
     "name": "stdout",
     "output_type": "stream",
     "text": [
      "List to Series Conversion :\n",
      "0    10\n",
      "1    20\n",
      "2    30\n",
      "3    40\n",
      "4    50\n",
      "dtype: int64\n"
     ]
    }
   ],
   "source": [
    "import pandas as pd \n",
    "list=[10,20,30,40,50]\n",
    "series=pd.Series(list)\n",
    "print(\"List to Series Conversion :\")\n",
    "print(series)"
   ]
  },
  {
   "cell_type": "markdown",
   "id": "409f70be",
   "metadata": {},
   "source": [
    "Series of dates"
   ]
  },
  {
   "cell_type": "code",
   "execution_count": 3,
   "id": "38ac4906",
   "metadata": {},
   "outputs": [
    {
     "name": "stdout",
     "output_type": "stream",
     "text": [
      "Series of dates :\n",
      "DatetimeIndex(['2021-05-01', '2021-05-02', '2021-05-03', '2021-05-04',\n",
      "               '2021-05-05', '2021-05-06', '2021-05-07', '2021-05-08',\n",
      "               '2021-05-09', '2021-05-10', '2021-05-11', '2021-05-12'],\n",
      "              dtype='datetime64[ns]', freq='D')\n"
     ]
    }
   ],
   "source": [
    "date=pd.date_range(start=\"2021-05-01\",end=\"2021-05-12\")\n",
    "print(\"Series of dates :\")\n",
    "print(date)"
   ]
  },
  {
   "cell_type": "markdown",
   "id": "faf9c111",
   "metadata": {},
   "source": [
    "Dictionary to dataframe"
   ]
  },
  {
   "cell_type": "code",
   "execution_count": 4,
   "id": "0bb21e15",
   "metadata": {},
   "outputs": [
    {
     "name": "stdout",
     "output_type": "stream",
     "text": [
      "Dictionary to dataframe :\n",
      "      Name  Age        City\n",
      "0     John   25    New York\n",
      "1  Charles   30  California\n",
      "2   Christ   28  New Jersey\n"
     ]
    }
   ],
   "source": [
    "data={\n",
    "    \"Name\":[\"John\",\"Charles\",\"Christ\"],\n",
    "    \"Age\":[25,30,28],\n",
    "    \"City\":[\"New York\",\"California\",\"New Jersey\"]\n",
    "}\n",
    "df=pd.DataFrame(data)\n",
    "print(\"Dictionary to dataframe :\")\n",
    "print(df)"
   ]
  },
  {
   "cell_type": "markdown",
   "id": "3103d0c7",
   "metadata": {},
   "source": [
    "2D list to dataframe"
   ]
  },
  {
   "cell_type": "code",
   "execution_count": 5,
   "id": "56cfcc54",
   "metadata": {},
   "outputs": [
    {
     "name": "stdout",
     "output_type": "stream",
     "text": [
      "2D list to dataframe\n",
      "   ID     Name  Salary\n",
      "0   1  Charles   40000\n",
      "1   2   Christ   60000\n",
      "2   3     Anna   90000\n"
     ]
    }
   ],
   "source": [
    "data=[\n",
    "    [1,\"Charles\",40000],\n",
    "    [2,\"Christ\",60000],\n",
    "    [3,\"Anna\",90000]\n",
    "]\n",
    "df=pd.DataFrame(data,columns=[\"ID\",\"Name\",\"Salary\"])\n",
    "print(\"2D list to dataframe\")\n",
    "print(df)\n"
   ]
  },
  {
   "cell_type": "markdown",
   "id": "8f5e76d9",
   "metadata": {},
   "source": [
    "Read csv file into dataframe"
   ]
  },
  {
   "cell_type": "code",
   "execution_count": 8,
   "id": "9e02ae4d",
   "metadata": {},
   "outputs": [
    {
     "name": "stdout",
     "output_type": "stream",
     "text": [
      "   ID   Name  Age      City\n",
      "0   1   Alex   25  New York\n",
      "1   2  Brian   30     Hawai\n",
      "2   3  Celex   28     Paris\n",
      "3   4  Diana   22   Beijing\n"
     ]
    }
   ],
   "source": [
    "csv='ex4.5.csv'\n",
    "df=pd.read_csv(csv)\n",
    "print(df)"
   ]
  },
  {
   "cell_type": "markdown",
   "id": "5406c8ba",
   "metadata": {},
   "source": [
    "Data frame sorting by multiple columns"
   ]
  },
  {
   "cell_type": "code",
   "execution_count": 10,
   "id": "5c21d028",
   "metadata": {},
   "outputs": [
    {
     "name": "stdout",
     "output_type": "stream",
     "text": [
      "Before Sorting\n",
      "    Name  Age  Salary\n",
      "0   Alex   25   50000\n",
      "1  Brian   30   60000\n",
      "2   Cela   25   30000\n",
      "3  Diana   32   45000\n",
      "After Sorting by Age,then Salary:\n",
      "    Name  Age  Salary\n",
      "2   Cela   25   30000\n",
      "0   Alex   25   50000\n",
      "1  Brian   30   60000\n",
      "3  Diana   32   45000\n"
     ]
    }
   ],
   "source": [
    "data={\n",
    "    \"Name\":[\"Alex\",\"Brian\",\"Cela\",\"Diana\"],\n",
    "    \"Age\":[25,30,25,32],\n",
    "    \"Salary\":[50000,60000,30000,45000]\n",
    "}\n",
    "df=pd.DataFrame(data)\n",
    "print(\"Before Sorting\")\n",
    "print(df)\n",
    "sort=df.sort_values(by=[\"Age\",\"Salary\"])\n",
    "print(\"After Sorting by Age,then Salary:\")\n",
    "print(sort)"
   ]
  },
  {
   "cell_type": "markdown",
   "id": "f2613a7f",
   "metadata": {},
   "source": [
    "Convert custom indexing to default indexing"
   ]
  },
  {
   "cell_type": "code",
   "execution_count": 12,
   "id": "492fbbf9",
   "metadata": {},
   "outputs": [
    {
     "name": "stdout",
     "output_type": "stream",
     "text": [
      "Custom Indexing :\n",
      "      Name  Age\n",
      "a     Alex   25\n",
      "b    Brian   23\n",
      "c  Charlie   27\n",
      "Default Indexing :\n",
      "      Name  Age\n",
      "0     Alex   25\n",
      "1    Brian   23\n",
      "2  Charlie   27\n"
     ]
    }
   ],
   "source": [
    "data={\"Name\":[\"Alex\",\"Brian\",\"Charlie\"],\"Age\":[25,23,27]}\n",
    "df=pd.DataFrame(data,index=[\"a\",\"b\",\"c\"])\n",
    "print(\"Custom Indexing :\")\n",
    "print(df)\n",
    "dfreset=df.reset_index(drop=True)\n",
    "print(\"Default Indexing :\")\n",
    "print(dfreset)"
   ]
  },
  {
   "cell_type": "markdown",
   "id": "25d45b6e",
   "metadata": {},
   "source": [
    "Select 2 rows of dataframe"
   ]
  },
  {
   "cell_type": "code",
   "execution_count": 13,
   "id": "3d70028f",
   "metadata": {},
   "outputs": [
    {
     "name": "stdout",
     "output_type": "stream",
     "text": [
      "First 2 Rows :\n",
      "    Name  Age\n",
      "0  Alice   23\n",
      "1    Bob   26\n"
     ]
    }
   ],
   "source": [
    "data={\n",
    "    \"Name\":[\"Alice\",\"Bob\",\"Charlie\"],\n",
    "    \"Age\":[23,26,31]\n",
    "}\n",
    "df=pd.DataFrame(data)\n",
    "print(\"First 2 Rows :\")\n",
    "print(df.head(2))"
   ]
  },
  {
   "cell_type": "markdown",
   "id": "3f60d254",
   "metadata": {},
   "source": [
    "Average salary per occupation"
   ]
  },
  {
   "cell_type": "code",
   "execution_count": 14,
   "id": "bb05fafb",
   "metadata": {},
   "outputs": [
    {
     "name": "stdout",
     "output_type": "stream",
     "text": [
      "Average salary per occupation\n",
      "Occupation\n",
      "Doctor         100000.0\n",
      "Engineer        47500.0\n",
      "Radiologist     70000.0\n",
      "Name: Salary, dtype: float64\n"
     ]
    }
   ],
   "source": [
    "data={\n",
    "    \"Name\":[\"Alice\",\"Bob\",\"Charlie\",\"David\"],\n",
    "    \"Occupation\":[\"Engineer\",\"Doctor\",\"Radiologist\",\"Engineer\"],\n",
    "    \"Salary\":[50000,100000,70000,45000]\n",
    "}\n",
    "df=pd.DataFrame(data)\n",
    "avg=df.groupby(\"Occupation\")[\"Salary\"].mean()\n",
    "print(\"Average salary per occupation\")\n",
    "print(avg)"
   ]
  },
  {
   "cell_type": "markdown",
   "id": "6e35a700",
   "metadata": {},
   "source": [
    "Fill NaN values with 0"
   ]
  },
  {
   "cell_type": "code",
   "execution_count": 15,
   "id": "a3536c94",
   "metadata": {},
   "outputs": [
    {
     "name": "stdout",
     "output_type": "stream",
     "text": [
      "Before filling NaN :\n",
      "     A    B\n",
      "0  1.0  4.0\n",
      "1  NaN  5.0\n",
      "2  3.0  NaN\n",
      "After filling NaN with 0 :\n",
      "     A    B\n",
      "0  1.0  4.0\n",
      "1  0.0  5.0\n",
      "2  3.0  0.0\n"
     ]
    }
   ],
   "source": [
    "import numpy as np\n",
    "data={\"A\":[1,np.nan,3],\n",
    "      \"B\":[4,5,np.nan]\n",
    "      }\n",
    "df=pd.DataFrame(data)\n",
    "print(\"Before filling NaN :\")\n",
    "print(df)\n",
    "dffill=df.fillna(0)\n",
    "print(\"After filling NaN with 0 :\")\n",
    "print(dffill)"
   ]
  },
  {
   "cell_type": "markdown",
   "id": "24f51b04",
   "metadata": {},
   "source": [
    "Profit>0 :True , else False"
   ]
  },
  {
   "cell_type": "code",
   "execution_count": 16,
   "id": "7c2dd0be",
   "metadata": {},
   "outputs": [
    {
     "name": "stdout",
     "output_type": "stream",
     "text": [
      "Profit column converted to boolean :\n",
      "      cname  profit\n",
      "0  Company1    True\n",
      "1  Company2   False\n",
      "2  Company3   False\n"
     ]
    }
   ],
   "source": [
    "data={\"cname\":[\"Company1\",\"Company2\",\"Company3\"],\n",
    "      \"profit\":[1000,-500,0]\n",
    "      }\n",
    "df=pd.DataFrame(data)\n",
    "df[\"profit\"]=df[\"profit\"]>0\n",
    "print(\"Profit column converted to boolean :\")\n",
    "print(df)"
   ]
  },
  {
   "cell_type": "markdown",
   "id": "5abc6182",
   "metadata": {},
   "source": [
    "Merge 2 data frames"
   ]
  },
  {
   "cell_type": "code",
   "execution_count": 17,
   "id": "18982939",
   "metadata": {},
   "outputs": [
    {
     "name": "stdout",
     "output_type": "stream",
     "text": [
      "Merged DataFrame :\n",
      "   eid  ename  stipend designation\n",
      "0    1   Alex     1000      Intern\n",
      "1    2  Brian     1500     Trainee\n",
      "2    3  Cindy     1200      Intern\n"
     ]
    }
   ],
   "source": [
    "df1=pd.DataFrame({\n",
    "    \"eid\":[1,2,3],\n",
    "    \"ename\":[\"Alex\",\"Brian\",\"Cindy\"],\n",
    "    \"stipend\":[1000,1500,1200]\n",
    "})\n",
    "df2=pd.DataFrame({\n",
    "    \"eid\":[1,2,3],\n",
    "    \"designation\":[\"Intern\",\"Trainee\",\"Intern\"]\n",
    "})\n",
    "merge=pd.merge(df1,df2,on=\"eid\")\n",
    "print(\"Merged DataFrame :\")\n",
    "print(merge)"
   ]
  }
 ],
 "metadata": {
  "kernelspec": {
   "display_name": "base",
   "language": "python",
   "name": "python3"
  },
  "language_info": {
   "codemirror_mode": {
    "name": "ipython",
    "version": 3
   },
   "file_extension": ".py",
   "mimetype": "text/x-python",
   "name": "python",
   "nbconvert_exporter": "python",
   "pygments_lexer": "ipython3",
   "version": "3.12.4"
  }
 },
 "nbformat": 4,
 "nbformat_minor": 5
}
